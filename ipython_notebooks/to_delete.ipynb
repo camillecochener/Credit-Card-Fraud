{
  "metadata": {
    "kernelspec": {
      "name": "py-dku-venv-code_env_cc_fraud",
      "display_name": "Python (env code_env_cc_fraud)",
      "language": "python"
    },
    "creator": "admin",
    "createdOn": 1656143919998,
    "tags": [],
    "customFields": {},
    "hide_input": false,
    "language_info": {
      "name": "python",
      "version": "3.6.8",
      "mimetype": "text/x-python",
      "codemirror_mode": {
        "name": "ipython",
        "version": 3
      },
      "pygments_lexer": "ipython3",
      "nbconvert_exporter": "python",
      "file_extension": ".py"
    },
    "modifiedBy": "admin"
  },
  "nbformat": 4,
  "nbformat_minor": 1,
  "cells": [
    {
      "execution_count": 1,
      "cell_type": "code",
      "metadata": {},
      "source": [
        "import dataiku\nfrom dataiku import pandasutils as pdu\nimport pandas as pd"
      ],
      "outputs": []
    },
    {
      "execution_count": 2,
      "cell_type": "code",
      "metadata": {},
      "source": [
        "model \u003d dataiku.Model(\"HF3317k5\")"
      ],
      "outputs": []
    },
    {
      "execution_count": 3,
      "cell_type": "code",
      "metadata": {},
      "source": [
        "model.get_definition()"
      ],
      "outputs": [
        {
          "output_type": "execute_result",
          "execution_count": 3,
          "data": {
            "text/plain": "{\u0027projectKey\u0027: \u0027DSPIPELINEFRAUD\u0027,\n \u0027id\u0027: \u0027HF3317k5\u0027,\n \u0027savedModelType\u0027: \u0027DSS_MANAGED\u0027,\n \u0027publishPolicy\u0027: \u0027UNCONDITIONAL\u0027,\n \u0027rebuildBehavior\u0027: \u0027EXPLICIT\u0027,\n \u0027name\u0027: \u0027Random Forests\u0027,\n \u0027contentType\u0027: \u0027prediction/py_memory\u0027,\n \u0027activeVersion\u0027: \u00271645712404493\u0027,\n \u0027partitioning\u0027: {\u0027ignoreNonMatchingFile\u0027: False,\n  \u0027considerMissingRequestedPartitionsAsEmpty\u0027: False,\n  \u0027dimensions\u0027: []},\n \u0027flowOptions\u0027: {\u0027virtualizable\u0027: False,\n  \u0027rebuildBehavior\u0027: \u0027NORMAL\u0027,\n  \u0027crossProjectBuildBehavior\u0027: \u0027DEFAULT\u0027},\n \u0027lastExportedFrom\u0027: \u0027A-DSPIPELINEFRAUD-ujX1i95r-Kw3xKRy8-s13-pp1-m1\u0027,\n \u0027metrics\u0027: {\u0027probes\u0027: [],\n  \u0027engineConfig\u0027: {\u0027padRunsWithMetrics\u0027: False,\n   \u0027hive\u0027: {\u0027active\u0027: True, \u0027extraConf\u0027: []},\n   \u0027basic\u0027: {},\n   \u0027dss\u0027: {\u0027active\u0027: True,\n    \u0027selection\u0027: {\u0027useMemTable\u0027: False,\n     \u0027filter\u0027: {\u0027distinct\u0027: False, \u0027enabled\u0027: False},\n     \u0027partitionSelectionMethod\u0027: \u0027ALL\u0027,\n     \u0027latestPartitionsN\u0027: 1,\n     \u0027ordering\u0027: {\u0027enabled\u0027: False, \u0027rules\u0027: []},\n     \u0027samplingMethod\u0027: \u0027FULL\u0027,\n     \u0027maxRecords\u0027: -1,\n     \u0027targetRatio\u0027: 0.02,\n     \u0027withinFirstN\u0027: -1,\n     \u0027maxReadUncompressedBytes\u0027: -1}},\n   \u0027sql\u0027: {\u0027active\u0027: True},\n   \u0027impala\u0027: {\u0027active\u0027: True},\n   \u0027spark\u0027: {\u0027active\u0027: True, \u0027extraConf\u0027: []},\n   \u0027python\u0027: {}},\n  \u0027displayedState\u0027: {\u0027partition\u0027: \u0027NP\u0027,\n   \u0027columns\u0027: [],\n   \u0027metrics\u0027: [\u0027reporting:BUILD_DURATION\u0027]}},\n \u0027metricsChecks\u0027: {\u0027runOnBuild\u0027: False,\n  \u0027checks\u0027: [{\u0027minimum\u0027: 0.0,\n    \u0027maximum\u0027: 0.0,\n    \u0027softMinimum\u0027: 0.0,\n    \u0027softMaximum\u0027: 0.0,\n    \u0027minimumEnabled\u0027: False,\n    \u0027maximumEnabled\u0027: False,\n    \u0027softMinimumEnabled\u0027: False,\n    \u0027softMaximumEnabled\u0027: False,\n    \u0027type\u0027: \u0027numericRange\u0027,\n    \u0027meta\u0027: {\u0027name\u0027: \u0027Value in range\u0027},\n    \u0027computeOnBuildMode\u0027: \u0027PARTITION\u0027}],\n  \u0027displayedState\u0027: {\u0027partition\u0027: \u0027NP\u0027, \u0027checks\u0027: []}},\n \u0027lastTrainIndex\u0027: 1,\n \u0027lastTrainJobId\u0027: \u0027\u0027,\n \u0027versionTag\u0027: {\u0027versionNumber\u0027: 9,\n  \u0027lastModifiedBy\u0027: {\u0027login\u0027: \u0027admin\u0027},\n  \u0027lastModifiedOn\u0027: 1655904551599},\n \u0027creationTag\u0027: {\u0027versionNumber\u0027: 0,\n  \u0027lastModifiedBy\u0027: {\u0027login\u0027: \u0027camillec\u0027},\n  \u0027lastModifiedOn\u0027: 1625154913041},\n \u0027tags\u0027: [\u0027machine learning\u0027],\n \u0027customFields\u0027: {},\n \u0027checklists\u0027: {\u0027checklists\u0027: []}}"
          },
          "metadata": {}
        }
      ]
    },
    {
      "execution_count": 0,
      "cell_type": "code",
      "metadata": {},
      "source": [
        ""
      ],
      "outputs": []
    }
  ]
}