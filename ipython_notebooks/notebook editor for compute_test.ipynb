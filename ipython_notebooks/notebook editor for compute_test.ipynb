{
  "metadata": {
    "kernelspec": {
      "name": "python3",
      "display_name": "Python 3",
      "language": "python"
    },
    "associatedRecipe": "compute_test",
    "creator": "admin",
    "createdOn": 1648221317114,
    "tags": [
      "recipe-editor"
    ],
    "customFields": {},
    "hide_input": false,
    "language_info": {
      "name": "python",
      "version": "3.6.8",
      "mimetype": "text/x-python",
      "codemirror_mode": {
        "name": "ipython",
        "version": 3
      },
      "pygments_lexer": "ipython3",
      "nbconvert_exporter": "python",
      "file_extension": ".py"
    },
    "modifiedBy": "admin"
  },
  "nbformat": 4,
  "nbformat_minor": 1,
  "cells": [
    {
      "execution_count": 1,
      "cell_type": "code",
      "metadata": {},
      "source": [
        "# -*- coding: utf-8 -*-\nimport dataiku\nimport pandas as pd, numpy as np\nfrom dataiku import pandasutils as pdu"
      ],
      "outputs": []
    },
    {
      "execution_count": 2,
      "cell_type": "code",
      "metadata": {},
      "source": [
        "# Read recipe inputs\ntransactions_joined_prepared \u003d dataiku.Dataset(\"transactions_joined_prepared\")\ntransactions_joined_prepared_df \u003d transactions_joined_prepared.get_dataframe()"
      ],
      "outputs": []
    },
    {
      "execution_count": 9,
      "cell_type": "code",
      "metadata": {},
      "source": [
        "schema \u003d transactions_joined_prepared.read_schema()\n(names, dtypes, dtcols) \u003d transactions_joined_prepared.get_dataframe_schema_st(schema, infer_with_pandas\u003dFalse)"
      ],
      "outputs": []
    },
    {
      "execution_count": 11,
      "cell_type": "code",
      "metadata": {},
      "source": [
        "dtypes"
      ],
      "outputs": [
        {
          "output_type": "execute_result",
          "execution_count": 11,
          "data": {
            "text/plain": "{\u0027authorized_flag\u0027: numpy.int64,\n \u0027card_age\u0027: numpy.int64,\n \u0027card_fico_score\u0027: numpy.int64,\n \u0027card_first_active_month\u0027: numpy.object_,\n \u0027card_first_active_month_parsed\u0027: numpy.object_,\n \u0027card_id\u0027: numpy.object_,\n \u0027card_latitude\u0027: numpy.float64,\n \u0027card_location\u0027: numpy.object_,\n \u0027card_longitude\u0027: numpy.float64,\n \u0027card_reward_program\u0027: numpy.object_,\n \u0027card_state\u0027: numpy.object_,\n \u0027card_state_enName\u0027: numpy.object_,\n \u0027days_active\u0027: numpy.int64,\n \u0027item_category\u0027: numpy.object_,\n \u0027merchant_cardholder_distance\u0027: numpy.float64,\n \u0027merchant_category_id\u0027: numpy.int64,\n \u0027merchant_id\u0027: numpy.object_,\n \u0027merchant_latitude\u0027: numpy.float64,\n \u0027merchant_location\u0027: numpy.object_,\n \u0027merchant_longitude\u0027: numpy.float64,\n \u0027merchant_state\u0027: numpy.object_,\n \u0027merchant_state_enName\u0027: numpy.object_,\n \u0027merchant_subsector_description\u0027: numpy.object_,\n \u0027purchase_amount\u0027: numpy.float64,\n \u0027purchase_date\u0027: numpy.object_,\n \u0027purchase_date_parsed\u0027: numpy.object_,\n \u0027purchase_day\u0027: numpy.int64,\n \u0027purchase_dow\u0027: numpy.int64,\n \u0027purchase_hour\u0027: numpy.int64,\n \u0027purchase_month\u0027: numpy.int64,\n \u0027purchase_weekend\u0027: numpy.int64,\n \u0027purchase_year\u0027: numpy.int64,\n \u0027signature_provided\u0027: numpy.int64,\n \u0027transaction_id\u0027: numpy.int64}"
          },
          "metadata": {}
        }
      ]
    },
    {
      "execution_count": 0,
      "cell_type": "code",
      "metadata": {},
      "source": [
        "# Compute recipe outputs from inputs\n# TODO: Replace this part by your actual code that computes the output, as a Pandas dataframe\n# NB: DSS also supports other kinds of APIs for reading and writing data. Please see doc.\n\ntest_df \u003d transactions_joined_prepared_df # For this sample code, simply copy input to output\n\n\n# Write recipe outputs\ntest \u003d dataiku.Dataset(\"test\")\ntest.write_with_schema(test_df)"
      ],
      "outputs": []
    }
  ]
}