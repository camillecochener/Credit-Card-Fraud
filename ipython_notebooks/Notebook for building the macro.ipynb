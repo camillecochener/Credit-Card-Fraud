{
  "metadata": {
    "kernelspec": {
      "name": "python3",
      "display_name": "Python 3",
      "language": "python"
    },
    "creator": "admin",
    "createdOn": 1653237316797,
    "tags": [],
    "customFields": {},
    "hide_input": false,
    "language_info": {
      "name": "python",
      "version": "3.6.8",
      "mimetype": "text/x-python",
      "codemirror_mode": {
        "name": "ipython",
        "version": 3
      },
      "pygments_lexer": "ipython3",
      "nbconvert_exporter": "python",
      "file_extension": ".py"
    },
    "modifiedBy": "admin"
  },
  "nbformat": 4,
  "nbformat_minor": 1,
  "cells": [
    {
      "execution_count": 1,
      "cell_type": "code",
      "metadata": {},
      "source": [
        "import dataiku\nimport dataikuapi\nfrom dataiku import pandasutils as pdu\nimport pandas as pd"
      ],
      "outputs": []
    },
    {
      "execution_count": 2,
      "cell_type": "code",
      "metadata": {},
      "source": [
        "design_host \u003d dataiku.api_client().host \nprint(design_host)"
      ],
      "outputs": [
        {
          "output_type": "stream",
          "text": "http://127.0.0.1:20001\n",
          "name": "stdout"
        }
      ]
    },
    {
      "execution_count": 3,
      "cell_type": "code",
      "metadata": {},
      "source": [
        "design_client \u003d dataikuapi.DSSClient(design_host, \"FJk7Jffd8TStmT4Zvx9efC6G5mYZusec\") "
      ],
      "outputs": []
    },
    {
      "execution_count": 4,
      "cell_type": "code",
      "metadata": {},
      "source": [
        "project \u003d design_client.get_project(\"DSPIPELINEFRAUD\")"
      ],
      "outputs": []
    },
    {
      "execution_count": 0,
      "cell_type": "code",
      "metadata": {},
      "source": [
        "project_permissions \u003d project.get_permissions().get(\"permissions\")"
      ],
      "outputs": []
    },
    {
      "execution_count": 0,
      "cell_type": "code",
      "metadata": {},
      "source": [
        "dss_users \u003d design_client.list_users()\n\nuser_list \u003d []\n# Grab list of users where they have active web socket sessions\nfor user in dss_users:\n    if user[\u0027activeWebSocketSesssions\u0027] !\u003d 0:\n        user_list.append(user[\u0027displayName\u0027])\nprint(user_list)"
      ],
      "outputs": []
    },
    {
      "execution_count": 0,
      "cell_type": "code",
      "metadata": {},
      "source": [
        "dss_users"
      ],
      "outputs": []
    },
    {
      "execution_count": 11,
      "cell_type": "code",
      "metadata": {},
      "source": [
        "bundle_id \u003d project.project_key\nprint(bundle_id)"
      ],
      "outputs": [
        {
          "output_type": "stream",
          "text": "DSPIPELINEFRAUD\n",
          "name": "stdout"
        }
      ]
    },
    {
      "execution_count": 7,
      "cell_type": "code",
      "metadata": {},
      "source": [
        "#bundle_version_type \u003d config.get(\"bundle_version_type\", \"\")\nbundle_version_type \u003d \"minor\""
      ],
      "outputs": []
    },
    {
      "execution_count": 0,
      "cell_type": "code",
      "metadata": {},
      "source": [
        ""
      ],
      "outputs": []
    },
    {
      "execution_count": 8,
      "cell_type": "code",
      "metadata": {},
      "source": [
        "#exported_bundles \u003d [\"DSPIPELINEFRAUD_v1\", \"DSPIPELINEFRAUD_v1.1\", \"DSPIPELINEFRAUD_v1.2\", \"DSPIPELINEFRAUD_v2\", \"DSPIPELINEFRAUD_v2.1\"]"
      ],
      "outputs": []
    },
    {
      "execution_count": 14,
      "cell_type": "code",
      "metadata": {},
      "source": [
        "#version_id \u003d 1\nexported_bundles \u003d project.list_exported_bundles()[\u0027bundles\u0027]\nlist_bundles \u003d []\nfor bundles in exported_bundles:\n    list_bundles.append(bundles[\u0027bundleId\u0027])\nif len(list_bundles) \u003d\u003d 0: \n    if bundle_version_type \u003d\u003d \"major\":\n        version_id \u003d 1\n    elif bundle_version_type \u003d\u003d \"minor\":\n        raise Exception(\"This is the first time you deploy the project, it should be a major version!\") \nelif len(list_bundles) \u003e 0:\n    last_deployed_bundles \u003d list_bundles[-1]\n    last_version \u003d last_deployed_bundles.split(\u0027_\u0027)[1].replace(\u0027v\u0027, \u0027\u0027).split(\u0027.\u0027)\n    if bundle_version_type \u003d\u003d \"major\":\n        version_id \u003d int(last_version[0]) + 1\n    elif bundle_version_type \u003d\u003d \"minor\":\n        if len(last_version) \u003d\u003d 1:\n            version_id \u003d last_version[0] + \u0027_1\u0027\n        elif len(last_version) \u003d\u003d 2:\n            version_id \u003d last_version[0] + \u0027_\u0027 + str(int(last_version[1]) + 1)"
      ],
      "outputs": []
    },
    {
      "execution_count": 17,
      "cell_type": "code",
      "metadata": {},
      "source": [
        "list_bundles"
      ],
      "outputs": [
        {
          "output_type": "execute_result",
          "execution_count": 17,
          "data": {
            "text/plain": "[\u0027DSPIPELINEFRAUD_v1_1\u0027, \u0027DSPIPELINEFRAUD_v1\u0027, \u0027DSPIPELINEFRAUD_v1_1\u0027]"
          },
          "metadata": {}
        }
      ]
    },
    {
      "execution_count": 16,
      "cell_type": "code",
      "metadata": {},
      "source": [
        "last_version"
      ],
      "outputs": [
        {
          "output_type": "execute_result",
          "execution_count": 16,
          "data": {
            "text/plain": "[\u00271\u0027]"
          },
          "metadata": {}
        }
      ]
    },
    {
      "execution_count": 15,
      "cell_type": "code",
      "metadata": {},
      "source": [
        "bundle_id + \u0027_v\u0027 + str(version_id)"
      ],
      "outputs": [
        {
          "output_type": "execute_result",
          "execution_count": 15,
          "data": {
            "text/plain": "\u0027DSPIPELINEFRAUD_v1_1\u0027"
          },
          "metadata": {}
        }
      ]
    },
    {
      "execution_count": 0,
      "cell_type": "code",
      "metadata": {},
      "source": [
        "project.list_exported_bundles()"
      ],
      "outputs": []
    },
    {
      "execution_count": 0,
      "cell_type": "code",
      "metadata": {},
      "source": [
        "project.list_imported_bundles()"
      ],
      "outputs": []
    },
    {
      "execution_count": 0,
      "cell_type": "code",
      "metadata": {},
      "source": [
        ""
      ],
      "outputs": []
    }
  ]
}