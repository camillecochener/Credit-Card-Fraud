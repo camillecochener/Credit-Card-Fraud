{
  "metadata": {
    "kernelspec": {
      "name": "python3",
      "display_name": "Python 3",
      "language": "python"
    },
    "creator": "admin",
    "createdOn": 1653237316797,
    "tags": [],
    "customFields": {},
    "hide_input": false,
    "language_info": {
      "name": "python",
      "version": "3.6.8",
      "mimetype": "text/x-python",
      "codemirror_mode": {
        "name": "ipython",
        "version": 3
      },
      "pygments_lexer": "ipython3",
      "nbconvert_exporter": "python",
      "file_extension": ".py"
    },
    "modifiedBy": "admin"
  },
  "nbformat": 4,
  "nbformat_minor": 1,
  "cells": [
    {
      "execution_count": 33,
      "cell_type": "code",
      "metadata": {},
      "source": [
        "import dataiku\nimport dataikuapi\nfrom dataiku import pandasutils as pdu\nimport pandas as pd"
      ],
      "outputs": []
    },
    {
      "execution_count": 34,
      "cell_type": "code",
      "metadata": {},
      "source": [
        "design_host \u003d dataiku.api_client().host \nprint(design_host)"
      ],
      "outputs": [
        {
          "output_type": "stream",
          "text": "http://127.0.0.1:20001\n",
          "name": "stdout"
        }
      ]
    },
    {
      "execution_count": 35,
      "cell_type": "code",
      "metadata": {},
      "source": [
        "design_client \u003d dataikuapi.DSSClient(design_host, \"FJk7Jffd8TStmT4Zvx9efC6G5mYZusec\") "
      ],
      "outputs": []
    },
    {
      "execution_count": 36,
      "cell_type": "code",
      "metadata": {},
      "source": [
        "project \u003d design_client.get_project(\"DSPIPELINEFRAUD\")"
      ],
      "outputs": []
    },
    {
      "execution_count": 0,
      "cell_type": "code",
      "metadata": {},
      "source": [
        "project_permissions \u003d project.get_permissions().get(\"permissions\")"
      ],
      "outputs": []
    },
    {
      "execution_count": 0,
      "cell_type": "code",
      "metadata": {},
      "source": [
        "dss_users \u003d design_client.list_users()\n\nuser_list \u003d []\n# Grab list of users where they have active web socket sessions\nfor user in dss_users:\n    if user[\u0027activeWebSocketSesssions\u0027] !\u003d 0:\n        user_list.append(user[\u0027displayName\u0027])\nprint(user_list)"
      ],
      "outputs": []
    },
    {
      "execution_count": 0,
      "cell_type": "code",
      "metadata": {},
      "source": [
        "dss_users"
      ],
      "outputs": []
    },
    {
      "execution_count": 5,
      "cell_type": "code",
      "metadata": {},
      "source": [
        "bundle_id \u003d project.project_key\nprint(bundle_id)"
      ],
      "outputs": [
        {
          "output_type": "stream",
          "text": "DSPIPELINEFRAUD\n",
          "name": "stdout"
        }
      ]
    },
    {
      "execution_count": 26,
      "cell_type": "code",
      "metadata": {},
      "source": [
        "#bundle_version_type \u003d config.get(\"bundle_version_type\", \"\")\nbundle_version_type \u003d \"minor\""
      ],
      "outputs": []
    },
    {
      "execution_count": 0,
      "cell_type": "code",
      "metadata": {},
      "source": [
        ""
      ],
      "outputs": []
    },
    {
      "execution_count": 30,
      "cell_type": "code",
      "metadata": {},
      "source": [
        "#exported_bundles \u003d [\"DSPIPELINEFRAUD_v1\", \"DSPIPELINEFRAUD_v1.1\", \"DSPIPELINEFRAUD_v1.2\", \"DSPIPELINEFRAUD_v2\", \"DSPIPELINEFRAUD_v2.1\"]"
      ],
      "outputs": []
    },
    {
      "execution_count": 37,
      "cell_type": "code",
      "metadata": {},
      "source": [
        "#version_id \u003d 1\nexported_bundles \u003d project.list_exported_bundles()[\u0027bundles\u0027]\nif len(exported_bundles) \u003d\u003d 0: \n    if bundle_version_type \u003d\u003d \"major\":\n        version_id \u003d 1\n    elif bundle_version_type \u003d\u003d \"minor\":\n        raise Exception(\"This is the first time you deploy the project, it should be a major version!\") \nelif len(exported_bundles) \u003e 0:\n    last_deployed_bundles \u003d exported_bundles[-1]\n    last_version \u003d last_deployed_bundles.split(\u0027_\u0027)[1].replace(\u0027v\u0027, \u0027\u0027).split(\u0027.\u0027)\n    if bundle_version_type \u003d\u003d \"major\":\n        version_id \u003d int(last_version[0]) + 1\n    elif bundle_version_type \u003d\u003d \"minor\":\n        if len(last_version) \u003d\u003d 1:\n            version_id \u003d last_version[0] + \u0027.1\u0027\n        elif len(last_version) \u003d\u003d 2:\n            version_id \u003d last_version[0] + \u0027.\u0027 + str(int(last_version[1]) + 1)"
      ],
      "outputs": [
        {
          "output_type": "error",
          "ename": "AttributeError",
          "evalue": "\u0027dict\u0027 object has no attribute \u0027split\u0027",
          "traceback": [
            "\u001b[0;31m---------------------------------------------------------------------------\u001b[0m",
            "\u001b[0;31mAttributeError\u001b[0m                            Traceback (most recent call last)",
            "\u001b[0;32m\u003cipython-input-37-8757ce97622b\u003e\u001b[0m in \u001b[0;36m\u003cmodule\u003e\u001b[0;34m()\u001b[0m\n\u001b[1;32m      8\u001b[0m \u001b[0;32melif\u001b[0m \u001b[0mlen\u001b[0m\u001b[0;34m(\u001b[0m\u001b[0mexported_bundles\u001b[0m\u001b[0;34m)\u001b[0m \u001b[0;34m\u003e\u001b[0m \u001b[0;36m0\u001b[0m\u001b[0;34m:\u001b[0m\u001b[0;34m\u001b[0m\u001b[0;34m\u001b[0m\u001b[0m\n\u001b[1;32m      9\u001b[0m     \u001b[0mlast_deployed_bundles\u001b[0m \u001b[0;34m\u003d\u001b[0m \u001b[0mexported_bundles\u001b[0m\u001b[0;34m[\u001b[0m\u001b[0;34m-\u001b[0m\u001b[0;36m1\u001b[0m\u001b[0;34m]\u001b[0m\u001b[0;34m\u001b[0m\u001b[0;34m\u001b[0m\u001b[0m\n\u001b[0;32m---\u003e 10\u001b[0;31m     \u001b[0mlast_version\u001b[0m \u001b[0;34m\u003d\u001b[0m \u001b[0mlast_deployed_bundles\u001b[0m\u001b[0;34m.\u001b[0m\u001b[0msplit\u001b[0m\u001b[0;34m(\u001b[0m\u001b[0;34m\u0027_\u0027\u001b[0m\u001b[0;34m)\u001b[0m\u001b[0;34m[\u001b[0m\u001b[0;36m1\u001b[0m\u001b[0;34m]\u001b[0m\u001b[0;34m.\u001b[0m\u001b[0mreplace\u001b[0m\u001b[0;34m(\u001b[0m\u001b[0;34m\u0027v\u0027\u001b[0m\u001b[0;34m,\u001b[0m \u001b[0;34m\u0027\u0027\u001b[0m\u001b[0;34m)\u001b[0m\u001b[0;34m.\u001b[0m\u001b[0msplit\u001b[0m\u001b[0;34m(\u001b[0m\u001b[0;34m\u0027.\u0027\u001b[0m\u001b[0;34m)\u001b[0m\u001b[0;34m\u001b[0m\u001b[0;34m\u001b[0m\u001b[0m\n\u001b[0m\u001b[1;32m     11\u001b[0m     \u001b[0;32mif\u001b[0m \u001b[0mbundle_version_type\u001b[0m \u001b[0;34m\u003d\u003d\u001b[0m \u001b[0;34m\"major\"\u001b[0m\u001b[0;34m:\u001b[0m\u001b[0;34m\u001b[0m\u001b[0;34m\u001b[0m\u001b[0m\n\u001b[1;32m     12\u001b[0m         \u001b[0mversion_id\u001b[0m \u001b[0;34m\u003d\u001b[0m \u001b[0mint\u001b[0m\u001b[0;34m(\u001b[0m\u001b[0mlast_version\u001b[0m\u001b[0;34m[\u001b[0m\u001b[0;36m0\u001b[0m\u001b[0;34m]\u001b[0m\u001b[0;34m)\u001b[0m \u001b[0;34m+\u001b[0m \u001b[0;36m1\u001b[0m\u001b[0;34m\u001b[0m\u001b[0;34m\u001b[0m\u001b[0m\n",
            "\u001b[0;31mAttributeError\u001b[0m: \u0027dict\u0027 object has no attribute \u0027split\u0027"
          ]
        }
      ]
    },
    {
      "execution_count": 38,
      "cell_type": "code",
      "metadata": {},
      "source": [
        "exported_bundles"
      ],
      "outputs": [
        {
          "output_type": "execute_result",
          "execution_count": 38,
          "data": {
            "text/plain": "[{\u0027bundleId\u0027: \u0027DSPIPELINEFRAUD_v1\u0027,\n  \u0027contentSummary\u0027: {\u0027allAnalysisData\u0027: False,\n   \u0027configContent\u0027: {\u0027analysis\u0027: 2,\n    \u0027dashboards\u0027: 3,\n    \u0027datasets\u0027: 24,\n    \u0027insights\u0027: 16,\n    \u0027jupyterNotebooks\u0027: 3,\n    \u0027managedFolders\u0027: 1,\n    \u0027modelEvaluationStores\u0027: 0,\n    \u0027recipes\u0027: 16,\n    \u0027savedModels\u0027: 1,\n    \u0027scenarios\u0027: 0,\n    \u0027sqlNotebooks\u0027: 0},\n   \u0027includedDatasets\u0027: [{\u0027name\u0027: \u0027transactions_2018\u0027,\n     \u0027size\u0027: 5404878,\n     \u0027type\u0027: \u0027UploadedFiles\u0027,\n     \u0027usedTransferMethod\u0027: \u0027UPLOAD\u0027},\n    {\u0027name\u0027: \u0027transactions_2017\u0027,\n     \u0027size\u0027: 7423251,\n     \u0027type\u0027: \u0027UploadedFiles\u0027,\n     \u0027usedTransferMethod\u0027: \u0027UPLOAD\u0027},\n    {\u0027name\u0027: \u0027merchant_info\u0027,\n     \u0027size\u0027: 3362746,\n     \u0027type\u0027: \u0027UploadedFiles\u0027,\n     \u0027usedTransferMethod\u0027: \u0027UPLOAD\u0027},\n    {\u0027name\u0027: \u0027cardholder_info\u0027,\n     \u0027size\u0027: 2543734,\n     \u0027type\u0027: \u0027UploadedFiles\u0027,\n     \u0027usedTransferMethod\u0027: \u0027UPLOAD\u0027}],\n   \u0027includedManagedFolders\u0027: [],\n   \u0027includedModelEvaluationStores\u0027: [],\n   \u0027includedSavedModels\u0027: [],\n   \u0027insightsData\u0027: False},\n  \u0027exportManifest\u0027: {\u0027actualContent\u0027: {\u0027allAnalysisData\u0027: False,\n    \u0027configContent\u0027: {\u0027analysis\u0027: 2,\n     \u0027dashboards\u0027: 3,\n     \u0027datasets\u0027: 24,\n     \u0027insights\u0027: 16,\n     \u0027jupyterNotebooks\u0027: 3,\n     \u0027managedFolders\u0027: 1,\n     \u0027modelEvaluationStores\u0027: 0,\n     \u0027recipes\u0027: 16,\n     \u0027savedModels\u0027: 1,\n     \u0027scenarios\u0027: 0,\n     \u0027sqlNotebooks\u0027: 0},\n    \u0027includedDatasets\u0027: [{\u0027name\u0027: \u0027transactions_2018\u0027,\n      \u0027size\u0027: 5404878,\n      \u0027type\u0027: \u0027UploadedFiles\u0027,\n      \u0027usedTransferMethod\u0027: \u0027UPLOAD\u0027},\n     {\u0027name\u0027: \u0027transactions_2017\u0027,\n      \u0027size\u0027: 7423251,\n      \u0027type\u0027: \u0027UploadedFiles\u0027,\n      \u0027usedTransferMethod\u0027: \u0027UPLOAD\u0027},\n     {\u0027name\u0027: \u0027merchant_info\u0027,\n      \u0027size\u0027: 3362746,\n      \u0027type\u0027: \u0027UploadedFiles\u0027,\n      \u0027usedTransferMethod\u0027: \u0027UPLOAD\u0027},\n     {\u0027name\u0027: \u0027cardholder_info\u0027,\n      \u0027size\u0027: 2543734,\n      \u0027type\u0027: \u0027UploadedFiles\u0027,\n      \u0027usedTransferMethod\u0027: \u0027UPLOAD\u0027}],\n    \u0027includedManagedFolders\u0027: [],\n    \u0027includedModelEvaluationStores\u0027: [],\n    \u0027includedSavedModels\u0027: [],\n    \u0027insightsData\u0027: False},\n   \u0027bundleId\u0027: \u0027DSPIPELINEFRAUD_v1\u0027,\n   \u0027exportUserInfo\u0027: {\u0027exportedBy\u0027: \u0027admin\u0027,\n    \u0027exportedOn\u0027: \u00272022-05-22T19:57:07.555+0200\u0027},\n   \u0027exportedWithOptions\u0027: {\u0027exportAllDatasets\u0027: False,\n    \u0027exportAllInputDatasets\u0027: False,\n    \u0027exportAllInputManagedFolders\u0027: False,\n    \u0027exportAnalysisModels\u0027: False,\n    \u0027exportGitRepository\u0027: False,\n    \u0027exportInsightsData\u0027: False,\n    \u0027exportManagedFS\u0027: False,\n    \u0027exportManagedFolders\u0027: False,\n    \u0027exportModelEvaluationStores\u0027: False,\n    \u0027exportSavedModels\u0027: False,\n    \u0027exportUploads\u0027: False,\n    \u0027includedDatasetsData\u0027: [{\u0027name\u0027: \u0027transactions_2018\u0027,\n      \u0027type\u0027: \u0027UploadedFiles\u0027},\n     {\u0027name\u0027: \u0027transactions_2017\u0027, \u0027type\u0027: \u0027UploadedFiles\u0027},\n     {\u0027name\u0027: \u0027merchant_info\u0027, \u0027type\u0027: \u0027UploadedFiles\u0027},\n     {\u0027name\u0027: \u0027cardholder_info\u0027, \u0027type\u0027: \u0027UploadedFiles\u0027}],\n    \u0027includedManagedFolders\u0027: [],\n    \u0027includedModelEvaluationStores\u0027: [],\n    \u0027includedSavedModels\u0027: [],\n    \u0027shareAllInputDatasets\u0027: False,\n    \u0027useManualPluginsInfo\u0027: False},\n   \u0027exportedWithPlugins\u0027: [{\u0027pluginId\u0027: \u0027geoadmin\u0027, \u0027version\u0027: \u00272.2.0\u0027},\n    {\u0027pluginId\u0027: \u0027nlp-preparation\u0027, \u0027version\u0027: \u00271.2.1\u0027},\n    {\u0027pluginId\u0027: \u0027shortcut2DPLY\u0027, \u0027version\u0027: \u00270.0.1\u0027},\n    {\u0027pluginId\u0027: \u0027local-r-dev-setup\u0027, \u0027version\u0027: \u00271.0.0\u0027},\n    {\u0027pluginId\u0027: \u0027anonymizer\u0027, \u0027version\u0027: \u00270.0.4\u0027},\n    {\u0027pluginId\u0027: \u0027model-error-analysis\u0027, \u0027version\u0027: \u00271.1.2\u0027},\n    {\u0027pluginId\u0027: \u0027geocoder\u0027, \u0027version\u0027: \u00271.2.0\u0027},\n    {\u0027pluginId\u0027: \u0027microsoft-power-bi-v2\u0027, \u0027version\u0027: \u00272.0.3\u0027},\n    {\u0027pluginId\u0027: \u0027model-fairness-report\u0027, \u0027version\u0027: \u00271.0.7\u0027},\n    {\u0027pluginId\u0027: \u0027google-cloud-nlp\u0027, \u0027version\u0027: \u00271.0.1\u0027},\n    {\u0027pluginId\u0027: \u0027plugin-example\u0027, \u0027version\u0027: \u00270.0.1\u0027},\n    {\u0027pluginId\u0027: \u0027named-entity-recognition\u0027, \u0027version\u0027: \u00271.3.4\u0027},\n    {\u0027pluginId\u0027: \u0027colorbrewer-palettes\u0027, \u0027version\u0027: \u00270.0.1\u0027},\n    {\u0027pluginId\u0027: \u0027cc-fraud-plugin\u0027, \u0027version\u0027: \u00270.0.1\u0027},\n    {\u0027pluginId\u0027: \u0027image-annotations-to-dataset\u0027, \u0027version\u0027: \u00271.0.0\u0027},\n    {\u0027pluginId\u0027: \u0027nlp-visualization\u0027, \u0027version\u0027: \u00271.0.0\u0027},\n    {\u0027pluginId\u0027: \u0027deeplearning-image\u0027, \u0027version\u0027: \u00272.0.2\u0027},\n    {\u0027pluginId\u0027: \u0027timeseries-forecast\u0027, \u0027version\u0027: \u00271.2.0\u0027},\n    {\u0027pluginId\u0027: \u0027builtin-macros\u0027, \u0027version\u0027: \u00271.0.0\u0027},\n    {\u0027pluginId\u0027: \u0027timeseries-preparation\u0027, \u0027version\u0027: \u00272.0.1\u0027},\n    {\u0027pluginId\u0027: \u0027k8s-metrics-utils\u0027, \u0027version\u0027: \u00271.0.0\u0027},\n    {\u0027pluginId\u0027: \u0027co2-converter\u0027, \u0027version\u0027: \u00271.0.0\u0027},\n    {\u0027pluginId\u0027: \u0027sentiment-analysis\u0027, \u0027version\u0027: \u00271.5.0\u0027},\n    {\u0027pluginId\u0027: \u0027ml-assisted-labeling\u0027, \u0027version\u0027: \u00274.0.0\u0027},\n    {\u0027pluginId\u0027: \u0027nlp-analysis\u0027, \u0027version\u0027: \u00270.1.0\u0027}],\n   \u0027generatedWithDSSConfVersion\u0027: \u002710040\u0027,\n   \u0027generatedWithDSSVersion\u0027: \u002710.0.4\u0027,\n   \u0027hasPartitionedDataset\u0027: False,\n   \u0027manifestVersion\u0027: 3,\n   \u0027originalProjectKey\u0027: \u0027DSPIPELINEFRAUD\u0027,\n   \u0027requiredConnections\u0027: {\u0027filesystem_folders\u0027: {\u0027name\u0027: \u0027filesystem_folders\u0027,\n     \u0027type\u0027: \u0027Filesystem\u0027},\n    \u0027postgre-local\u0027: {\u0027name\u0027: \u0027postgre-local\u0027, \u0027type\u0027: \u0027PostgreSQL\u0027}},\n   \u0027usedCodeEnvRefs\u0027: [{\u0027envLang\u0027: \u0027PYTHON\u0027, \u0027envName\u0027: \u0027Python36\u0027}]},\n  \u0027publishedBundleState\u0027: {\u0027publishedBy\u0027: \u0027admin\u0027,\n   \u0027publishedOn\u0027: 1653242232055,\n   \u0027publishedProjectKey\u0027: \u0027DSPIPELINEFRAUD\u0027},\n  \u0027state\u0027: \u0027BUILT\u0027}]"
          },
          "metadata": {}
        }
      ]
    },
    {
      "execution_count": 32,
      "cell_type": "code",
      "metadata": {},
      "source": [
        "bundle_id + \u0027_v\u0027 + str(version_id)"
      ],
      "outputs": [
        {
          "output_type": "execute_result",
          "execution_count": 32,
          "data": {
            "text/plain": "\u0027DSPIPELINEFRAUD_v2.2\u0027"
          },
          "metadata": {}
        }
      ]
    },
    {
      "execution_count": 0,
      "cell_type": "code",
      "metadata": {},
      "source": [
        "project.list_exported_bundles()"
      ],
      "outputs": []
    },
    {
      "execution_count": 0,
      "cell_type": "code",
      "metadata": {},
      "source": [
        "project.list_imported_bundles()"
      ],
      "outputs": []
    },
    {
      "execution_count": 0,
      "cell_type": "code",
      "metadata": {},
      "source": [
        ""
      ],
      "outputs": []
    }
  ]
}