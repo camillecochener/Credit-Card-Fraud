{
  "metadata": {
    "kernelspec": {
      "name": "python3",
      "display_name": "Python 3",
      "language": "python"
    },
    "creator": "admin",
    "createdOn": 1653237316797,
    "tags": [],
    "customFields": {},
    "hide_input": false,
    "language_info": {
      "name": "python",
      "version": "3.6.8",
      "mimetype": "text/x-python",
      "codemirror_mode": {
        "name": "ipython",
        "version": 3
      },
      "pygments_lexer": "ipython3",
      "nbconvert_exporter": "python",
      "file_extension": ".py"
    },
    "modifiedBy": "admin"
  },
  "nbformat": 4,
  "nbformat_minor": 1,
  "cells": [
    {
      "execution_count": 5,
      "cell_type": "code",
      "metadata": {},
      "source": [
        "import dataiku\nimport dataikuapi\nfrom dataiku import pandasutils as pdu\nimport pandas as pd"
      ],
      "outputs": []
    },
    {
      "execution_count": 3,
      "cell_type": "code",
      "metadata": {},
      "source": [
        "design_host \u003d dataiku.api_client().host \nprint(design_host)"
      ],
      "outputs": [
        {
          "output_type": "stream",
          "text": "http://127.0.0.1:20001\n",
          "name": "stdout"
        }
      ]
    },
    {
      "execution_count": 6,
      "cell_type": "code",
      "metadata": {},
      "source": [
        "design_client \u003d dataikuapi.DSSClient(design_host, \"FJk7Jffd8TStmT4Zvx9efC6G5mYZusec\") "
      ],
      "outputs": []
    },
    {
      "execution_count": 7,
      "cell_type": "code",
      "metadata": {},
      "source": [
        "project \u003d design_client.get_project(\"DSPIPELINEFRAUD\")"
      ],
      "outputs": []
    },
    {
      "execution_count": 11,
      "cell_type": "code",
      "metadata": {},
      "source": [
        "project_permissions \u003d project.get_permissions().get(\"permissions\")"
      ],
      "outputs": []
    },
    {
      "execution_count": 12,
      "cell_type": "code",
      "metadata": {},
      "source": [
        "[permission[\"group\"] for permission in project_permissions if permission.get(\"writeProjectContent\", False)\u003d\u003dTrue]"
      ],
      "outputs": [
        {
          "output_type": "error",
          "ename": "KeyError",
          "evalue": "\u0027group\u0027",
          "traceback": [
            "\u001b[0;31m---------------------------------------------------------------------------\u001b[0m",
            "\u001b[0;31mKeyError\u001b[0m                                  Traceback (most recent call last)",
            "\u001b[0;32m\u003cipython-input-12-cbe85fcd28af\u003e\u001b[0m in \u001b[0;36m\u003cmodule\u003e\u001b[0;34m()\u001b[0m\n\u001b[0;32m----\u003e 1\u001b[0;31m \u001b[0;34m[\u001b[0m\u001b[0mpermission\u001b[0m\u001b[0;34m[\u001b[0m\u001b[0;34m\"group\"\u001b[0m\u001b[0;34m]\u001b[0m \u001b[0;32mfor\u001b[0m \u001b[0mpermission\u001b[0m \u001b[0;32min\u001b[0m \u001b[0mproject_permissions\u001b[0m \u001b[0;32mif\u001b[0m \u001b[0mpermission\u001b[0m\u001b[0;34m.\u001b[0m\u001b[0mget\u001b[0m\u001b[0;34m(\u001b[0m\u001b[0;34m\"writeProjectContent\"\u001b[0m\u001b[0;34m,\u001b[0m \u001b[0;32mFalse\u001b[0m\u001b[0;34m)\u001b[0m\u001b[0;34m\u003d\u003d\u001b[0m\u001b[0;32mTrue\u001b[0m\u001b[0;34m]\u001b[0m\u001b[0;34m\u001b[0m\u001b[0;34m\u001b[0m\u001b[0m\n\u001b[0m",
            "\u001b[0;32m\u003cipython-input-12-cbe85fcd28af\u003e\u001b[0m in \u001b[0;36m\u003clistcomp\u003e\u001b[0;34m(.0)\u001b[0m\n\u001b[0;32m----\u003e 1\u001b[0;31m \u001b[0;34m[\u001b[0m\u001b[0mpermission\u001b[0m\u001b[0;34m[\u001b[0m\u001b[0;34m\"group\"\u001b[0m\u001b[0;34m]\u001b[0m \u001b[0;32mfor\u001b[0m \u001b[0mpermission\u001b[0m \u001b[0;32min\u001b[0m \u001b[0mproject_permissions\u001b[0m \u001b[0;32mif\u001b[0m \u001b[0mpermission\u001b[0m\u001b[0;34m.\u001b[0m\u001b[0mget\u001b[0m\u001b[0;34m(\u001b[0m\u001b[0;34m\"writeProjectContent\"\u001b[0m\u001b[0;34m,\u001b[0m \u001b[0;32mFalse\u001b[0m\u001b[0;34m)\u001b[0m\u001b[0;34m\u003d\u003d\u001b[0m\u001b[0;32mTrue\u001b[0m\u001b[0;34m]\u001b[0m\u001b[0;34m\u001b[0m\u001b[0;34m\u001b[0m\u001b[0m\n\u001b[0m",
            "\u001b[0;31mKeyError\u001b[0m: \u0027group\u0027"
          ]
        }
      ]
    },
    {
      "execution_count": 13,
      "cell_type": "code",
      "metadata": {},
      "source": [
        "for permission in project_permissions: \n    print(permission)"
      ],
      "outputs": [
        {
          "output_type": "stream",
          "text": "{\u0027group\u0027: \u0027MLOps\u0027, \u0027admin\u0027: False, \u0027readProjectContent\u0027: False, \u0027writeProjectContent\u0027: True, \u0027exportDatasetsData\u0027: True, \u0027readDashboards\u0027: False, \u0027writeDashboards\u0027: True, \u0027moderateDashboards\u0027: True, \u0027shareToWorkspaces\u0027: True, \u0027runScenarios\u0027: True, \u0027manageDashboardAuthorizations\u0027: False, \u0027manageExposedElements\u0027: True, \u0027manageAdditionalDashboardUsers\u0027: True, \u0027executeApp\u0027: False}\n{\u0027user\u0027: \u0027user2\u0027, \u0027admin\u0027: False, \u0027readProjectContent\u0027: False, \u0027writeProjectContent\u0027: True, \u0027exportDatasetsData\u0027: True, \u0027readDashboards\u0027: False, \u0027writeDashboards\u0027: False, \u0027moderateDashboards\u0027: False, \u0027shareToWorkspaces\u0027: True, \u0027runScenarios\u0027: False, \u0027manageDashboardAuthorizations\u0027: False, \u0027manageExposedElements\u0027: False, \u0027manageAdditionalDashboardUsers\u0027: False, \u0027executeApp\u0027: False}\n",
          "name": "stdout"
        }
      ]
    },
    {
      "execution_count": 0,
      "cell_type": "code",
      "metadata": {},
      "source": [
        ""
      ],
      "outputs": []
    }
  ]
}