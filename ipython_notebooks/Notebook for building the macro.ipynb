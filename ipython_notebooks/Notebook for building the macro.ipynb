{
  "metadata": {
    "kernelspec": {
      "name": "python3",
      "display_name": "Python 3",
      "language": "python"
    },
    "creator": "admin",
    "createdOn": 1653237316797,
    "tags": [],
    "customFields": {},
    "hide_input": false,
    "language_info": {
      "name": "python",
      "version": "3.6.8",
      "mimetype": "text/x-python",
      "codemirror_mode": {
        "name": "ipython",
        "version": 3
      },
      "pygments_lexer": "ipython3",
      "nbconvert_exporter": "python",
      "file_extension": ".py"
    },
    "modifiedBy": "admin"
  },
  "nbformat": 4,
  "nbformat_minor": 1,
  "cells": [
    {
      "execution_count": 5,
      "cell_type": "code",
      "metadata": {},
      "source": [
        "import dataiku\nimport dataikuapi\nfrom dataiku import pandasutils as pdu\nimport pandas as pd"
      ],
      "outputs": []
    },
    {
      "execution_count": 3,
      "cell_type": "code",
      "metadata": {},
      "source": [
        "design_host \u003d dataiku.api_client().host \nprint(design_host)"
      ],
      "outputs": [
        {
          "output_type": "stream",
          "text": "http://127.0.0.1:20001\n",
          "name": "stdout"
        }
      ]
    },
    {
      "execution_count": 6,
      "cell_type": "code",
      "metadata": {},
      "source": [
        "design_client \u003d dataikuapi.DSSClient(design_host, \"FJk7Jffd8TStmT4Zvx9efC6G5mYZusec\") "
      ],
      "outputs": []
    },
    {
      "execution_count": 7,
      "cell_type": "code",
      "metadata": {},
      "source": [
        "project \u003d design_client.get_project(\"DSPIPELINEFRAUD\")"
      ],
      "outputs": []
    },
    {
      "execution_count": 11,
      "cell_type": "code",
      "metadata": {},
      "source": [
        "project_permissions \u003d project.get_permissions().get(\"permissions\")"
      ],
      "outputs": []
    },
    {
      "execution_count": 15,
      "cell_type": "code",
      "metadata": {},
      "source": [
        "dss_users \u003d design_client.list_users()\n\nuser_list \u003d []\n# Grab list of users where they have active web socket sessions\nfor user in dss_users:\n    if user[\u0027activeWebSocketSesssions\u0027] !\u003d 0:\n        user_list.append(user[\u0027displayName\u0027])\nprint(user_list)"
      ],
      "outputs": [
        {
          "output_type": "stream",
          "text": "[\u0027Administrator\u0027]\n",
          "name": "stdout"
        }
      ]
    },
    {
      "execution_count": 16,
      "cell_type": "code",
      "metadata": {},
      "source": [
        "dss_users"
      ],
      "outputs": [
        {
          "output_type": "execute_result",
          "execution_count": 16,
          "data": {
            "text/plain": "[{\u0027activeWebSocketSesssions\u0027: 2,\n  \u0027atSurveySettings\u0027: {\u0027nextAction\u0027: 1653828056730,\n   \u0027state\u0027: \u0027INITIAL\u0027,\n   \u0027surveys\u0027: {\u0027ChartsOpen\u0027: {\u0027nextAction\u0027: 1652960118883},\n    \u0027DashboardEdit\u0027: {\u0027nextAction\u0027: 1653828056730}}},\n  \u0027displayName\u0027: \u0027Administrator\u0027,\n  \u0027enabled\u0027: True,\n  \u0027groups\u0027: [\u0027administrators\u0027],\n  \u0027login\u0027: \u0027admin\u0027,\n  \u0027npsSurveySettings\u0027: {\u0027nextAction\u0027: 1658925994517, \u0027state\u0027: \u0027RECURRING\u0027},\n  \u0027objectImgHash\u0027: 0,\n  \u0027sourceType\u0027: \u0027LOCAL\u0027,\n  \u0027userProfile\u0027: \u0027DATA_SCIENTIST\u0027},\n {\u0027activeWebSocketSesssions\u0027: 0,\n  \u0027atSurveySettings\u0027: {\u0027nextAction\u0027: 0, \u0027state\u0027: \u0027INITIAL\u0027, \u0027surveys\u0027: {}},\n  \u0027displayName\u0027: \u0027Sample business user\u0027,\n  \u0027enabled\u0027: True,\n  \u0027groups\u0027: [\u0027readers\u0027],\n  \u0027login\u0027: \u0027viewer\u0027,\n  \u0027npsSurveySettings\u0027: {\u0027nextAction\u0027: 1641764273123, \u0027state\u0027: \u0027INITIAL\u0027},\n  \u0027objectImgHash\u0027: 0,\n  \u0027sourceType\u0027: \u0027LOCAL\u0027,\n  \u0027userProfile\u0027: \u0027DATA_SCIENTIST\u0027},\n {\u0027activeWebSocketSesssions\u0027: 0,\n  \u0027atSurveySettings\u0027: {\u0027nextAction\u0027: 0, \u0027state\u0027: \u0027INITIAL\u0027, \u0027surveys\u0027: {}},\n  \u0027displayName\u0027: \u0027user0\u0027,\n  \u0027enabled\u0027: True,\n  \u0027groups\u0027: [\u0027MLOps\u0027],\n  \u0027login\u0027: \u0027user0\u0027,\n  \u0027npsSurveySettings\u0027: {\u0027nextAction\u0027: 1655311168196, \u0027state\u0027: \u0027INITIAL\u0027},\n  \u0027objectImgHash\u0027: 0,\n  \u0027sourceType\u0027: \u0027LOCAL\u0027,\n  \u0027userProfile\u0027: \u0027DATA_SCIENTIST\u0027},\n {\u0027activeWebSocketSesssions\u0027: 0,\n  \u0027atSurveySettings\u0027: {\u0027nextAction\u0027: 0, \u0027state\u0027: \u0027INITIAL\u0027, \u0027surveys\u0027: {}},\n  \u0027displayName\u0027: \u0027user1\u0027,\n  \u0027enabled\u0027: True,\n  \u0027groups\u0027: [\u0027cc_fraud_project\u0027],\n  \u0027login\u0027: \u0027user1\u0027,\n  \u0027npsSurveySettings\u0027: {\u0027nextAction\u0027: 1655824929077, \u0027state\u0027: \u0027INITIAL\u0027},\n  \u0027objectImgHash\u0027: 0,\n  \u0027sourceType\u0027: \u0027LOCAL\u0027,\n  \u0027userProfile\u0027: \u0027DATA_SCIENTIST\u0027},\n {\u0027activeWebSocketSesssions\u0027: 0,\n  \u0027atSurveySettings\u0027: {\u0027nextAction\u0027: 0, \u0027state\u0027: \u0027INITIAL\u0027, \u0027surveys\u0027: {}},\n  \u0027displayName\u0027: \u0027user2\u0027,\n  \u0027enabled\u0027: True,\n  \u0027groups\u0027: [\u0027cc_fraud_project\u0027],\n  \u0027login\u0027: \u0027user2\u0027,\n  \u0027npsSurveySettings\u0027: {\u0027nextAction\u0027: 1655829066403, \u0027state\u0027: \u0027INITIAL\u0027},\n  \u0027objectImgHash\u0027: 0,\n  \u0027sourceType\u0027: \u0027LOCAL\u0027,\n  \u0027userProfile\u0027: \u0027DATA_SCIENTIST\u0027}]"
          },
          "metadata": {}
        }
      ]
    },
    {
      "execution_count": 21,
      "cell_type": "code",
      "metadata": {},
      "source": [
        "bundle_id \u003d project.project_key\nprint(bundle_id)"
      ],
      "outputs": [
        {
          "output_type": "stream",
          "text": "DSPIPELINEFRAUD\n",
          "name": "stdout"
        }
      ]
    },
    {
      "execution_count": 26,
      "cell_type": "code",
      "metadata": {},
      "source": [
        "#bundle_version_type \u003d config.get(\"bundle_version_type\", \"\")\nbundle_version_type \u003d \"minor\""
      ],
      "outputs": []
    },
    {
      "execution_count": 44,
      "cell_type": "code",
      "metadata": {},
      "source": [
        "bundle_id + \u0027_v\u0027 + str(version_id)"
      ],
      "outputs": [
        {
          "output_type": "execute_result",
          "execution_count": 44,
          "data": {
            "text/plain": "\u0027DSPIPELINEFRAUD_v1\u0027"
          },
          "metadata": {}
        }
      ]
    },
    {
      "execution_count": 45,
      "cell_type": "code",
      "metadata": {},
      "source": [
        "exported_bundles \u003d [\"DSPIPELINEFRAUD_v1\", \"DSPIPELINEFRAUD_v1.1\", \"DSPIPELINEFRAUD_v1.2\", \"DSPIPELINEFRAUD_v2\"]"
      ],
      "outputs": []
    },
    {
      "execution_count": 46,
      "cell_type": "code",
      "metadata": {},
      "source": [
        "version_id \u003d 1\n#exported_bundles \u003d project.list_exported_bundles()[\u0027bundles\u0027]\nif len(exported_bundles) \u003d\u003d 0: \n    if bundle_version_type \u003d\u003d \"major\":\n        version_id \u003d 1\n    elif bundle_version_type \u003d\u003d \"minor\":\n        raise Exception(\"This is the first time you deploy the project, it should be a major version!\") \nelif len(exported_bundles) \u003e 0:\n    last_deployed_bundles \u003d exported_bundles[-1]\n    "
      ],
      "outputs": []
    },
    {
      "execution_count": 47,
      "cell_type": "code",
      "metadata": {},
      "source": [
        "last_deployed_bundles.split(\u0027_\u0027)"
      ],
      "outputs": [
        {
          "output_type": "execute_result",
          "execution_count": 47,
          "data": {
            "text/plain": "\u0027DSPIPELINEFRAUD_v2\u0027"
          },
          "metadata": {}
        }
      ]
    },
    {
      "execution_count": 17,
      "cell_type": "code",
      "metadata": {},
      "source": [
        "project.list_exported_bundles()"
      ],
      "outputs": [
        {
          "output_type": "execute_result",
          "execution_count": 17,
          "data": {
            "text/plain": "{\u0027bundles\u0027: []}"
          },
          "metadata": {}
        }
      ]
    },
    {
      "execution_count": 18,
      "cell_type": "code",
      "metadata": {},
      "source": [
        "project.list_imported_bundles()"
      ],
      "outputs": [
        {
          "output_type": "execute_result",
          "execution_count": 18,
          "data": {
            "text/plain": "{\u0027bundles\u0027: []}"
          },
          "metadata": {}
        }
      ]
    },
    {
      "execution_count": 0,
      "cell_type": "code",
      "metadata": {},
      "source": [
        ""
      ],
      "outputs": []
    }
  ]
}