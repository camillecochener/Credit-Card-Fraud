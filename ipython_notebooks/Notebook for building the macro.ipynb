{
  "metadata": {
    "kernelspec": {
      "name": "py-dku-venv-code_env_cc_fraud",
      "display_name": "Python (env code_env_cc_fraud)",
      "language": "python"
    },
    "creator": "admin",
    "createdOn": 1653237316797,
    "tags": [],
    "customFields": {},
    "hide_input": false,
    "language_info": {
      "name": "python",
      "version": "3.6.8",
      "mimetype": "text/x-python",
      "codemirror_mode": {
        "name": "ipython",
        "version": 3
      },
      "pygments_lexer": "ipython3",
      "nbconvert_exporter": "python",
      "file_extension": ".py"
    },
    "modifiedBy": "admin"
  },
  "nbformat": 4,
  "nbformat_minor": 1,
  "cells": [
    {
      "execution_count": 119,
      "cell_type": "code",
      "metadata": {},
      "source": [
        "import dataiku\nimport dataikuapi\nfrom dataiku import pandasutils as pdu\nimport pandas as pd\nimport logging"
      ],
      "outputs": []
    },
    {
      "execution_count": 120,
      "cell_type": "code",
      "metadata": {},
      "source": [
        "user_client \u003d dataiku.api_client()\nuser_auth_info \u003d user_client.get_auth_info()"
      ],
      "outputs": []
    },
    {
      "execution_count": 121,
      "cell_type": "code",
      "metadata": {},
      "source": [
        "design_client \u003d dataiku.api_client()   \ndss_groups \u003d design_client.list_groups()\n  \ngroup_choices \u003d []\nfor group in dss_groups:\n    group_choices.append({ \"value\" : group[\u0027name\u0027], \"label\" : group[\u0027name\u0027]})"
      ],
      "outputs": []
    },
    {
      "execution_count": 122,
      "cell_type": "code",
      "metadata": {},
      "source": [
        "group_choices"
      ],
      "outputs": [
        {
          "output_type": "execute_result",
          "execution_count": 122,
          "data": {
            "text/plain": "[{\u0027value\u0027: \u0027administrators\u0027, \u0027label\u0027: \u0027administrators\u0027},\n {\u0027value\u0027: \u0027data_team\u0027, \u0027label\u0027: \u0027data_team\u0027},\n {\u0027value\u0027: \u0027readers\u0027, \u0027label\u0027: \u0027readers\u0027},\n {\u0027value\u0027: \u0027MLOps\u0027, \u0027label\u0027: \u0027MLOps\u0027},\n {\u0027value\u0027: \u0027cc_fraud_project\u0027, \u0027label\u0027: \u0027cc_fraud_project\u0027},\n {\u0027value\u0027: \u0027churn_prediction_project\u0027, \u0027label\u0027: \u0027churn_prediction_project\u0027}]"
          },
          "metadata": {}
        }
      ]
    },
    {
      "cell_type": "markdown",
      "metadata": {},
      "source": [
        "## Design"
      ]
    },
    {
      "execution_count": 123,
      "cell_type": "code",
      "metadata": {},
      "source": [
        "design_host \u003d dataiku.api_client().host \nprint(design_host)"
      ],
      "outputs": [
        {
          "output_type": "stream",
          "text": "http://127.0.0.1:20001\n",
          "name": "stdout"
        }
      ]
    },
    {
      "execution_count": 150,
      "cell_type": "code",
      "metadata": {},
      "source": [
        "design_client \u003d dataikuapi.DSSClient(design_host, \"FJk7Jffd8TStmT4Zvx9efC6G5mYZusec\") "
      ],
      "outputs": []
    },
    {
      "execution_count": 151,
      "cell_type": "code",
      "metadata": {},
      "source": [
        "project \u003d design_client.get_project(\"MKT_CHURN_PREDICTION\")   \nproject_permissions \u003d project.get_permissions()"
      ],
      "outputs": []
    },
    {
      "execution_count": 162,
      "cell_type": "code",
      "metadata": {},
      "source": [
        "project_key \u003d \"MKT_CHURN_PREDICTION\""
      ],
      "outputs": []
    },
    {
      "execution_count": 170,
      "cell_type": "code",
      "metadata": {},
      "source": [
        "#bundle_version_type \u003d config.get(\"bundle_version_type\", \"\")\nbundle_version_type \u003d \"minor\""
      ],
      "outputs": []
    },
    {
      "execution_count": 190,
      "cell_type": "code",
      "metadata": {},
      "source": [
        "list_bundles \u003d [\u0027MKT_CHURN_PREDICTION_v1_1\u0027, \u0027MKT_CHURN_PREDICTION_v1_2\u0027, \u0027MKT_CHURN_PREDICTION_v1\u0027]\n#list_bundles \u003d [\"test\"]\nlist_bundles \u003d []"
      ],
      "outputs": []
    },
    {
      "execution_count": 191,
      "cell_type": "code",
      "metadata": {},
      "source": [
        "list_bundles \u003d sorted(list_bundles)"
      ],
      "outputs": []
    },
    {
      "execution_count": 203,
      "cell_type": "code",
      "metadata": {},
      "source": [
        "exported_bundles \u003d project.list_exported_bundles()[\u0027bundles\u0027]"
      ],
      "outputs": []
    },
    {
      "execution_count": 205,
      "cell_type": "code",
      "metadata": {},
      "source": [
        "list_bundles"
      ],
      "outputs": [
        {
          "output_type": "execute_result",
          "execution_count": 205,
          "data": {
            "text/plain": "[\u0027MKT_CHURN_PREDICTION_v1_1\u0027,\n \u0027MKT_CHURN_PREDICTION_v1_2\u0027,\n \u0027MKT_CHURN_PREDICTION_v1\u0027]"
          },
          "metadata": {}
        }
      ]
    },
    {
      "execution_count": 198,
      "cell_type": "code",
      "metadata": {},
      "source": [
        "for bundle in exported_bundles:\n    if bundle[\u0027state\u0027] \u003d\u003d \u0027BUILT\u0027:\n        print(\"ok\")\n    else:\n        print(\"not ok\")"
      ],
      "outputs": [
        {
          "output_type": "stream",
          "text": "not ok\n",
          "name": "stdout"
        }
      ]
    },
    {
      "execution_count": 206,
      "cell_type": "code",
      "metadata": {},
      "source": [
        "#version_id \u003d 1\nexported_bundles \u003d project.list_exported_bundles()[\u0027bundles\u0027]\nlist_bundles \u003d []\nfor bundles in exported_bundles:\n    if (project_key in bundles[\u0027bundleId\u0027]) and (bundles[\u0027state\u0027] \u003d\u003d \u0027BUILT\u0027):\n        list_bundles.append(bundles[\u0027bundleId\u0027])\nlist_bundles \u003d sorted(list_bundles)\nif len(list_bundles) \u003d\u003d 0: \n    if bundle_version_type \u003d\u003d \"major\":\n        version_id \u003d 1\n    elif bundle_version_type \u003d\u003d \"minor\":\n        raise Exception(\"This is the first time you deploy the project, it should be a major version!\") \nelif len(list_bundles) \u003e 0:\n    last_deployed_bundles \u003d list_bundles[-1]\n    last_version \u003d last_deployed_bundles.split(\u0027v\u0027)[1].split(\u0027_\u0027)\n    if bundle_version_type \u003d\u003d \"major\":\n        version_id \u003d int(last_version[0]) + 1\n    elif bundle_version_type \u003d\u003d \"minor\":\n        if len(last_version) \u003d\u003d 1:\n            version_id \u003d last_version[0] + \u0027_1\u0027\n        elif len(last_version) \u003d\u003d 2:\n            version_id \u003d last_version[0] + \u0027_\u0027 + str(int(last_version[1]) + 1)\n\nbundle_id \u003d project_key + \u0027_v\u0027 + str(version_id)"
      ],
      "outputs": []
    },
    {
      "execution_count": 207,
      "cell_type": "code",
      "metadata": {},
      "source": [
        "print(bundle_id)"
      ],
      "outputs": [
        {
          "output_type": "stream",
          "text": "MKT_CHURN_PREDICTION_v1_3\n",
          "name": "stdout"
        }
      ]
    },
    {
      "execution_count": 144,
      "cell_type": "code",
      "metadata": {},
      "source": [
        "[permission[\"group\"] for permission in project_permissions \\\n if (permission.get(\"writeProjectContent\", False)\u003d\u003dTrue) or (permission.get(\"admin\", False)\u003d\u003dTrue) ]"
      ],
      "outputs": [
        {
          "output_type": "execute_result",
          "execution_count": 144,
          "data": {
            "text/plain": "[\u0027MLOps\u0027]"
          },
          "metadata": {}
        }
      ]
    },
    {
      "execution_count": 108,
      "cell_type": "code",
      "metadata": {},
      "source": [
        "plugin \u003d design_client.get_plugin(\u0027project-permissions\u0027)"
      ],
      "outputs": []
    },
    {
      "execution_count": 109,
      "cell_type": "code",
      "metadata": {},
      "source": [
        "settings \u003d plugin.get_plugin_config()"
      ],
      "outputs": [
        {
          "output_type": "error",
          "ename": "AttributeError",
          "evalue": "\u0027DSSPlugin\u0027 object has no attribute \u0027get_plugin_config\u0027",
          "traceback": [
            "\u001b[0;31m---------------------------------------------------------------------------\u001b[0m",
            "\u001b[0;31mAttributeError\u001b[0m                            Traceback (most recent call last)",
            "\u001b[0;32m\u003cipython-input-109-3ac3cdac93da\u003e\u001b[0m in \u001b[0;36m\u003cmodule\u003e\u001b[0;34m\u001b[0m\n\u001b[0;32m----\u003e 1\u001b[0;31m \u001b[0msettings\u001b[0m \u001b[0;34m\u003d\u001b[0m \u001b[0mplugin\u001b[0m\u001b[0;34m.\u001b[0m\u001b[0mget_plugin_config\u001b[0m\u001b[0;34m(\u001b[0m\u001b[0;34m)\u001b[0m\u001b[0;34m\u001b[0m\u001b[0;34m\u001b[0m\u001b[0m\n\u001b[0m",
            "\u001b[0;31mAttributeError\u001b[0m: \u0027DSSPlugin\u0027 object has no attribute \u0027get_plugin_config\u0027"
          ]
        }
      ]
    },
    {
      "execution_count": 97,
      "cell_type": "code",
      "metadata": {},
      "source": [
        "raw_settings \u003d settings.get_raw()"
      ],
      "outputs": []
    },
    {
      "execution_count": 101,
      "cell_type": "code",
      "metadata": {},
      "source": [
        "raw_settings[\u0027config\u0027][\u0027project_domain\u0027]"
      ],
      "outputs": [
        {
          "output_type": "execute_result",
          "execution_count": 101,
          "data": {
            "text/plain": "{\u0027OPT\u0027: \u0027Operation\u0027,\n \u0027FIN\u0027: \u0027Finance\u0027,\n \u0027MKT\u0027: \u0027Marketing\u0027,\n \u0027LOG\u0027: \u0027Logistics\u0027,\n \u0027PAY\u0027: \u0027Pay\u0027}"
          },
          "metadata": {}
        }
      ]
    },
    {
      "execution_count": 102,
      "cell_type": "code",
      "metadata": {},
      "source": [
        "dss_groups \u003d design_client.list_groups()\ngroup_choices \u003d []\nfor group in dss_groups:\n    group_choices.append({ \"value\" : group[\u0027name\u0027], \"label\" : group[\u0027name\u0027]})"
      ],
      "outputs": []
    },
    {
      "execution_count": 103,
      "cell_type": "code",
      "metadata": {},
      "source": [
        "group_choices"
      ],
      "outputs": [
        {
          "output_type": "execute_result",
          "execution_count": 103,
          "data": {
            "text/plain": "[{\u0027value\u0027: \u0027administrators\u0027, \u0027label\u0027: \u0027administrators\u0027},\n {\u0027value\u0027: \u0027data_team\u0027, \u0027label\u0027: \u0027data_team\u0027},\n {\u0027value\u0027: \u0027readers\u0027, \u0027label\u0027: \u0027readers\u0027},\n {\u0027value\u0027: \u0027MLOps\u0027, \u0027label\u0027: \u0027MLOps\u0027},\n {\u0027value\u0027: \u0027cc_fraud_project\u0027, \u0027label\u0027: \u0027cc_fraud_project\u0027},\n {\u0027value\u0027: \u0027churn_prediction_project\u0027, \u0027label\u0027: \u0027churn_prediction_project\u0027}]"
          },
          "metadata": {}
        }
      ]
    },
    {
      "execution_count": 106,
      "cell_type": "code",
      "metadata": {},
      "source": [
        "curr_log_user \u003d design_client.get_own_user().get_settings().get_raw()[\"login\"]"
      ],
      "outputs": []
    },
    {
      "execution_count": 86,
      "cell_type": "code",
      "metadata": {},
      "source": [
        "dss_users \u003d design_client.list_users()\nuser_info \u003d [user for user in dss_users if user[\u0027login\u0027] \u003d\u003d curr_log_user]\nif \u0027MLOps\u0027 in user_info[0][\u0027groups\u0027]:\n    logging.info(\"User {} is in the \u0027MLOps\u0027 group\".format(curr_log_user))\nelse:\n    logging.error(\"User {} is not in the \u0027MLOps\u0027 group\".format(curr_log_user))\n    raise Exception(\"User {} is not in the \u0027MLOps\u0027 group\".format(curr_log_user))\n        "
      ],
      "outputs": []
    },
    {
      "execution_count": 107,
      "cell_type": "code",
      "metadata": {},
      "source": [
        "project \u003d design_client.get_project(\"DSPIPELINEFRAUD\")"
      ],
      "outputs": []
    },
    {
      "execution_count": 108,
      "cell_type": "code",
      "metadata": {},
      "source": [
        "project_permissions \u003d project.get_permissions().get(\"permissions\")"
      ],
      "outputs": []
    },
    {
      "execution_count": 98,
      "cell_type": "code",
      "metadata": {},
      "source": [
        "#bundle_version_type \u003d config.get(\"bundle_version_type\", \"\")\nbundle_version_type \u003d \"minor\""
      ],
      "outputs": []
    },
    {
      "execution_count": 99,
      "cell_type": "code",
      "metadata": {},
      "source": [
        "#exported_bundles \u003d [\"DSPIPELINEFRAUD_v1\", \"DSPIPELINEFRAUD_v1.1\", \"DSPIPELINEFRAUD_v1.2\", \"DSPIPELINEFRAUD_v2\", \"DSPIPELINEFRAUD_v2.1\"]"
      ],
      "outputs": []
    },
    {
      "execution_count": 100,
      "cell_type": "code",
      "metadata": {},
      "source": [
        "#version_id \u003d 1\nexported_bundles \u003d project.list_exported_bundles()[\u0027bundles\u0027]\nlist_bundles \u003d []\nfor bundles in exported_bundles:\n    list_bundles.append(bundles[\u0027bundleId\u0027])\nif len(list_bundles) \u003d\u003d 0: \n    if bundle_version_type \u003d\u003d \"major\":\n        version_id \u003d 1\n    elif bundle_version_type \u003d\u003d \"minor\":\n        raise Exception(\"This is the first time you deploy the project, it should be a major version!\") \nelif len(list_bundles) \u003e 0:\n    last_deployed_bundles \u003d list_bundles[-1]\n    last_version \u003d last_deployed_bundles.split(\u0027v\u0027)[1].split(\u0027_\u0027)\n    if bundle_version_type \u003d\u003d \"major\":\n        version_id \u003d int(last_version[0]) + 1\n    elif bundle_version_type \u003d\u003d \"minor\":\n        if len(last_version) \u003d\u003d 1:\n            version_id \u003d last_version[0] + \u0027_1\u0027\n        elif len(last_version) \u003d\u003d 2:\n            version_id \u003d last_version[0] + \u0027_\u0027 + str(int(last_version[1]) + 1)\n\nbundle_id \u003d project_key + \u0027_v\u0027 + str(version_id)"
      ],
      "outputs": []
    },
    {
      "execution_count": 101,
      "cell_type": "code",
      "metadata": {},
      "source": [
        "bundle_id"
      ],
      "outputs": [
        {
          "output_type": "execute_result",
          "execution_count": 101,
          "data": {
            "text/plain": "\u0027DSPIPELINEFRAUD_v1_4\u0027"
          },
          "metadata": {}
        }
      ]
    },
    {
      "execution_count": 92,
      "cell_type": "code",
      "metadata": {},
      "source": [
        "list_bundles \u003d list(set(list_bundles))"
      ],
      "outputs": []
    },
    {
      "execution_count": 93,
      "cell_type": "code",
      "metadata": {},
      "source": [
        "list_bundles"
      ],
      "outputs": [
        {
          "output_type": "execute_result",
          "execution_count": 93,
          "data": {
            "text/plain": "[\u0027DSPIPELINEFRAUD_v1_3\u0027,\n \u0027DSPIPELINEFRAUD_v1_2\u0027,\n \u0027DSPIPELINEFRAUD_v1\u0027,\n \u0027DSPIPELINEFRAUD_v1_1\u0027]"
          },
          "metadata": {}
        }
      ]
    },
    {
      "cell_type": "markdown",
      "metadata": {},
      "source": [
        "## Automation QA"
      ]
    },
    {
      "execution_count": 110,
      "cell_type": "code",
      "metadata": {},
      "source": [
        "host \u003d \"http://localhost:15000/\"\nauto_client \u003d dataikuapi.DSSClient(host, \"Da1cTKi0eO3VMUUvCq7TuIfSHRBzY3OA\") \nproject \u003d auto_client.get_project(\"DSPIPELINEFRAUD\")"
      ],
      "outputs": []
    },
    {
      "execution_count": 111,
      "cell_type": "code",
      "metadata": {},
      "source": [
        "deployed_project \u003d auto_client.get_project(\"mkt_churn_model\")   \ndeployed_project_permissions \u003d deployed_project.get_permissions()"
      ],
      "outputs": []
    },
    {
      "execution_count": 112,
      "cell_type": "code",
      "metadata": {},
      "source": [
        ""
      ],
      "outputs": []
    },
    {
      "execution_count": 113,
      "cell_type": "code",
      "metadata": {},
      "source": [
        "deployed_project_permissions"
      ],
      "outputs": [
        {
          "output_type": "execute_result",
          "execution_count": 113,
          "data": {
            "text/plain": "{\u0027owner\u0027: \u0027mkt_admin\u0027,\n \u0027permissions\u0027: [{\u0027group\u0027: \u0027MLOps\u0027,\n   \u0027admin\u0027: False,\n   \u0027readProjectContent\u0027: True,\n   \u0027writeProjectContent\u0027: True,\n   \u0027exportDatasetsData\u0027: False,\n   \u0027readDashboards\u0027: True,\n   \u0027writeDashboards\u0027: True,\n   \u0027moderateDashboards\u0027: True,\n   \u0027shareToWorkspaces\u0027: False,\n   \u0027runScenarios\u0027: True,\n   \u0027manageDashboardAuthorizations\u0027: False,\n   \u0027manageExposedElements\u0027: False,\n   \u0027manageAdditionalDashboardUsers\u0027: False,\n   \u0027executeApp\u0027: False},\n  {\u0027group\u0027: \u0027admin\u0027,\n   \u0027admin\u0027: False,\n   \u0027readProjectContent\u0027: True,\n   \u0027writeProjectContent\u0027: True,\n   \u0027exportDatasetsData\u0027: False,\n   \u0027readDashboards\u0027: True,\n   \u0027writeDashboards\u0027: True,\n   \u0027moderateDashboards\u0027: True,\n   \u0027shareToWorkspaces\u0027: False,\n   \u0027runScenarios\u0027: True,\n   \u0027manageDashboardAuthorizations\u0027: False,\n   \u0027manageExposedElements\u0027: False,\n   \u0027manageAdditionalDashboardUsers\u0027: False,\n   \u0027executeApp\u0027: False}],\n \u0027additionalDashboardUsers\u0027: {\u0027users\u0027: []},\n \u0027dashboardAuthorizations\u0027: {\u0027allAuthorized\u0027: False, \u0027authorizations\u0027: []}}"
          },
          "metadata": {}
        }
      ]
    },
    {
      "execution_count": 8,
      "cell_type": "code",
      "metadata": {},
      "source": [
        "project.list_imported_bundles()"
      ],
      "outputs": [
        {
          "output_type": "execute_result",
          "execution_count": 8,
          "data": {
            "text/plain": "{\u0027bundles\u0027: [{\u0027importState\u0027: {\u0027importedBy\u0027: \u0027admin\u0027,\n    \u0027importedOn\u0027: \u00272022-05-25T15:57:24.041+0200\u0027},\n   \u0027bundleId\u0027: \u0027DSPIPELINEFRAUD_v1\u0027,\n   \u0027contentSummary\u0027: {\u0027configContent\u0027: {\u0027datasets\u0027: 24,\n     \u0027recipes\u0027: 16,\n     \u0027savedModels\u0027: 1,\n     \u0027modelEvaluationStores\u0027: 0,\n     \u0027managedFolders\u0027: 1,\n     \u0027scenarios\u0027: 0,\n     \u0027analysis\u0027: 2,\n     \u0027jupyterNotebooks\u0027: 3,\n     \u0027sqlNotebooks\u0027: 0,\n     \u0027insights\u0027: 16,\n     \u0027dashboards\u0027: 3},\n    \u0027includedDatasets\u0027: [{\u0027name\u0027: \u0027transactions_2018\u0027,\n      \u0027type\u0027: \u0027UploadedFiles\u0027,\n      \u0027usedTransferMethod\u0027: \u0027UPLOAD\u0027,\n      \u0027size\u0027: 5404878},\n     {\u0027name\u0027: \u0027transactions_2017\u0027,\n      \u0027type\u0027: \u0027UploadedFiles\u0027,\n      \u0027usedTransferMethod\u0027: \u0027UPLOAD\u0027,\n      \u0027size\u0027: 7423251},\n     {\u0027name\u0027: \u0027merchant_info\u0027,\n      \u0027type\u0027: \u0027UploadedFiles\u0027,\n      \u0027usedTransferMethod\u0027: \u0027UPLOAD\u0027,\n      \u0027size\u0027: 3362746},\n     {\u0027name\u0027: \u0027cardholder_info\u0027,\n      \u0027type\u0027: \u0027UploadedFiles\u0027,\n      \u0027usedTransferMethod\u0027: \u0027UPLOAD\u0027,\n      \u0027size\u0027: 2543734}],\n    \u0027includedSavedModels\u0027: [],\n    \u0027includedManagedFolders\u0027: [],\n    \u0027includedModelEvaluationStores\u0027: [],\n    \u0027allAnalysisData\u0027: False,\n    \u0027insightsData\u0027: False},\n   \u0027exportManifest\u0027: {\u0027exportUserInfo\u0027: {\u0027exportedOn\u0027: \u00272022-05-25T15:57:17.144+0200\u0027,\n     \u0027exportedBy\u0027: \u0027admin\u0027},\n    \u0027exportedWithOptions\u0027: {\u0027exportUploads\u0027: False,\n     \u0027exportManagedFS\u0027: False,\n     \u0027exportAnalysisModels\u0027: False,\n     \u0027exportSavedModels\u0027: False,\n     \u0027exportManagedFolders\u0027: False,\n     \u0027exportModelEvaluationStores\u0027: False,\n     \u0027exportAllInputDatasets\u0027: False,\n     \u0027exportAllDatasets\u0027: False,\n     \u0027exportAllInputManagedFolders\u0027: False,\n     \u0027exportGitRepository\u0027: False,\n     \u0027exportInsightsData\u0027: False,\n     \u0027useManualPluginsInfo\u0027: False,\n     \u0027includedDatasetsData\u0027: [{\u0027name\u0027: \u0027transactions_2018\u0027,\n       \u0027type\u0027: \u0027UploadedFiles\u0027},\n      {\u0027name\u0027: \u0027transactions_2017\u0027, \u0027type\u0027: \u0027UploadedFiles\u0027},\n      {\u0027name\u0027: \u0027merchant_info\u0027, \u0027type\u0027: \u0027UploadedFiles\u0027},\n      {\u0027name\u0027: \u0027cardholder_info\u0027, \u0027type\u0027: \u0027UploadedFiles\u0027}],\n     \u0027includedSavedModels\u0027: [],\n     \u0027includedModelEvaluationStores\u0027: [],\n     \u0027includedManagedFolders\u0027: [],\n     \u0027shareAllInputDatasets\u0027: False},\n    \u0027actualContent\u0027: {\u0027configContent\u0027: {\u0027datasets\u0027: 24,\n      \u0027recipes\u0027: 16,\n      \u0027savedModels\u0027: 1,\n      \u0027modelEvaluationStores\u0027: 0,\n      \u0027managedFolders\u0027: 1,\n      \u0027scenarios\u0027: 0,\n      \u0027analysis\u0027: 2,\n      \u0027jupyterNotebooks\u0027: 3,\n      \u0027sqlNotebooks\u0027: 0,\n      \u0027insights\u0027: 16,\n      \u0027dashboards\u0027: 3},\n     \u0027includedDatasets\u0027: [{\u0027name\u0027: \u0027transactions_2018\u0027,\n       \u0027type\u0027: \u0027UploadedFiles\u0027,\n       \u0027usedTransferMethod\u0027: \u0027UPLOAD\u0027,\n       \u0027size\u0027: 5404878},\n      {\u0027name\u0027: \u0027transactions_2017\u0027,\n       \u0027type\u0027: \u0027UploadedFiles\u0027,\n       \u0027usedTransferMethod\u0027: \u0027UPLOAD\u0027,\n       \u0027size\u0027: 7423251},\n      {\u0027name\u0027: \u0027merchant_info\u0027,\n       \u0027type\u0027: \u0027UploadedFiles\u0027,\n       \u0027usedTransferMethod\u0027: \u0027UPLOAD\u0027,\n       \u0027size\u0027: 3362746},\n      {\u0027name\u0027: \u0027cardholder_info\u0027,\n       \u0027type\u0027: \u0027UploadedFiles\u0027,\n       \u0027usedTransferMethod\u0027: \u0027UPLOAD\u0027,\n       \u0027size\u0027: 2543734}],\n     \u0027includedSavedModels\u0027: [],\n     \u0027includedManagedFolders\u0027: [],\n     \u0027includedModelEvaluationStores\u0027: [],\n     \u0027allAnalysisData\u0027: False,\n     \u0027insightsData\u0027: False},\n    \u0027bundleId\u0027: \u0027DSPIPELINEFRAUD_v1\u0027,\n    \u0027originalProjectKey\u0027: \u0027DSPIPELINEFRAUD\u0027,\n    \u0027manifestVersion\u0027: 3,\n    \u0027generatedWithDSSVersion\u0027: \u002710.0.4\u0027,\n    \u0027generatedWithDSSConfVersion\u0027: \u002710040\u0027,\n    \u0027exportedWithPlugins\u0027: [{\u0027pluginId\u0027: \u0027geoadmin\u0027, \u0027version\u0027: \u00272.2.0\u0027},\n     {\u0027pluginId\u0027: \u0027nlp-preparation\u0027, \u0027version\u0027: \u00271.2.1\u0027},\n     {\u0027pluginId\u0027: \u0027shortcut2DPLY\u0027, \u0027version\u0027: \u00270.0.1\u0027},\n     {\u0027pluginId\u0027: \u0027local-r-dev-setup\u0027, \u0027version\u0027: \u00271.0.0\u0027},\n     {\u0027pluginId\u0027: \u0027anonymizer\u0027, \u0027version\u0027: \u00270.0.4\u0027},\n     {\u0027pluginId\u0027: \u0027model-error-analysis\u0027, \u0027version\u0027: \u00271.1.2\u0027},\n     {\u0027pluginId\u0027: \u0027geocoder\u0027, \u0027version\u0027: \u00271.2.0\u0027},\n     {\u0027pluginId\u0027: \u0027microsoft-power-bi-v2\u0027, \u0027version\u0027: \u00272.0.3\u0027},\n     {\u0027pluginId\u0027: \u0027model-fairness-report\u0027, \u0027version\u0027: \u00271.0.7\u0027},\n     {\u0027pluginId\u0027: \u0027google-cloud-nlp\u0027, \u0027version\u0027: \u00271.0.1\u0027},\n     {\u0027pluginId\u0027: \u0027plugin-example\u0027, \u0027version\u0027: \u00270.0.1\u0027},\n     {\u0027pluginId\u0027: \u0027named-entity-recognition\u0027, \u0027version\u0027: \u00271.3.4\u0027},\n     {\u0027pluginId\u0027: \u0027colorbrewer-palettes\u0027, \u0027version\u0027: \u00270.0.1\u0027},\n     {\u0027pluginId\u0027: \u0027cc-fraud-plugin\u0027, \u0027version\u0027: \u00270.0.1\u0027},\n     {\u0027pluginId\u0027: \u0027image-annotations-to-dataset\u0027, \u0027version\u0027: \u00271.0.0\u0027},\n     {\u0027pluginId\u0027: \u0027nlp-visualization\u0027, \u0027version\u0027: \u00271.0.0\u0027},\n     {\u0027pluginId\u0027: \u0027deeplearning-image\u0027, \u0027version\u0027: \u00272.0.2\u0027},\n     {\u0027pluginId\u0027: \u0027timeseries-forecast\u0027, \u0027version\u0027: \u00271.2.0\u0027},\n     {\u0027pluginId\u0027: \u0027builtin-macros\u0027, \u0027version\u0027: \u00271.0.0\u0027},\n     {\u0027pluginId\u0027: \u0027timeseries-preparation\u0027, \u0027version\u0027: \u00272.0.1\u0027},\n     {\u0027pluginId\u0027: \u0027k8s-metrics-utils\u0027, \u0027version\u0027: \u00271.0.0\u0027},\n     {\u0027pluginId\u0027: \u0027co2-converter\u0027, \u0027version\u0027: \u00271.0.0\u0027},\n     {\u0027pluginId\u0027: \u0027sentiment-analysis\u0027, \u0027version\u0027: \u00271.5.0\u0027},\n     {\u0027pluginId\u0027: \u0027ml-assisted-labeling\u0027, \u0027version\u0027: \u00274.0.0\u0027},\n     {\u0027pluginId\u0027: \u0027nlp-analysis\u0027, \u0027version\u0027: \u00270.1.0\u0027}],\n    \u0027requiredConnections\u0027: {\u0027postgre-local\u0027: {\u0027name\u0027: \u0027postgre-local\u0027,\n      \u0027type\u0027: \u0027PostgreSQL\u0027},\n     \u0027filesystem_folders\u0027: {\u0027name\u0027: \u0027filesystem_folders\u0027,\n      \u0027type\u0027: \u0027Filesystem\u0027}},\n    \u0027usedCodeEnvRefs\u0027: [{\u0027envLang\u0027: \u0027PYTHON\u0027, \u0027envName\u0027: \u0027code_env_cc_fraud\u0027}],\n    \u0027hasPartitionedDataset\u0027: False}}]}"
          },
          "metadata": {}
        }
      ]
    },
    {
      "cell_type": "markdown",
      "metadata": {},
      "source": [
        "## Automation PROD"
      ]
    },
    {
      "execution_count": 9,
      "cell_type": "code",
      "metadata": {},
      "source": [
        "host \u003d \"http://localhost:15500/\"\nauto_client \u003d dataikuapi.DSSClient(host, \"rAo6O1aluJBrMAJEf8vD3vyze3jzgVjF\") \nproject \u003d auto_client.get_project(\"DSPIPELINEFRAUD\")"
      ],
      "outputs": []
    },
    {
      "execution_count": 10,
      "cell_type": "code",
      "metadata": {},
      "source": [
        "project.list_imported_bundles()"
      ],
      "outputs": [
        {
          "output_type": "execute_result",
          "execution_count": 10,
          "data": {
            "text/plain": "{\u0027bundles\u0027: [{\u0027importState\u0027: {\u0027importedBy\u0027: \u0027admin\u0027,\n    \u0027importedOn\u0027: \u00272022-05-23T11:42:35.804+0200\u0027},\n   \u0027bundleId\u0027: \u0027DSPIPELINEFRAUD_v1\u0027,\n   \u0027contentSummary\u0027: {\u0027configContent\u0027: {\u0027datasets\u0027: 24,\n     \u0027recipes\u0027: 16,\n     \u0027savedModels\u0027: 1,\n     \u0027modelEvaluationStores\u0027: 0,\n     \u0027managedFolders\u0027: 1,\n     \u0027scenarios\u0027: 0,\n     \u0027analysis\u0027: 2,\n     \u0027jupyterNotebooks\u0027: 3,\n     \u0027sqlNotebooks\u0027: 0,\n     \u0027insights\u0027: 16,\n     \u0027dashboards\u0027: 3},\n    \u0027includedDatasets\u0027: [{\u0027name\u0027: \u0027transactions_2018\u0027,\n      \u0027type\u0027: \u0027UploadedFiles\u0027,\n      \u0027usedTransferMethod\u0027: \u0027UPLOAD\u0027,\n      \u0027size\u0027: 5404878},\n     {\u0027name\u0027: \u0027transactions_2017\u0027,\n      \u0027type\u0027: \u0027UploadedFiles\u0027,\n      \u0027usedTransferMethod\u0027: \u0027UPLOAD\u0027,\n      \u0027size\u0027: 7423251},\n     {\u0027name\u0027: \u0027merchant_info\u0027,\n      \u0027type\u0027: \u0027UploadedFiles\u0027,\n      \u0027usedTransferMethod\u0027: \u0027UPLOAD\u0027,\n      \u0027size\u0027: 3362746},\n     {\u0027name\u0027: \u0027cardholder_info\u0027,\n      \u0027type\u0027: \u0027UploadedFiles\u0027,\n      \u0027usedTransferMethod\u0027: \u0027UPLOAD\u0027,\n      \u0027size\u0027: 2543734}],\n    \u0027includedSavedModels\u0027: [],\n    \u0027includedManagedFolders\u0027: [],\n    \u0027includedModelEvaluationStores\u0027: [],\n    \u0027allAnalysisData\u0027: False,\n    \u0027insightsData\u0027: False},\n   \u0027exportManifest\u0027: {\u0027exportUserInfo\u0027: {\u0027exportedOn\u0027: \u00272022-05-23T11:17:20.804+0200\u0027,\n     \u0027exportedBy\u0027: \u0027admin\u0027},\n    \u0027exportedWithOptions\u0027: {\u0027exportUploads\u0027: False,\n     \u0027exportManagedFS\u0027: False,\n     \u0027exportAnalysisModels\u0027: False,\n     \u0027exportSavedModels\u0027: False,\n     \u0027exportManagedFolders\u0027: False,\n     \u0027exportModelEvaluationStores\u0027: False,\n     \u0027exportAllInputDatasets\u0027: False,\n     \u0027exportAllDatasets\u0027: False,\n     \u0027exportAllInputManagedFolders\u0027: False,\n     \u0027exportGitRepository\u0027: False,\n     \u0027exportInsightsData\u0027: False,\n     \u0027useManualPluginsInfo\u0027: False,\n     \u0027includedDatasetsData\u0027: [{\u0027name\u0027: \u0027transactions_2018\u0027,\n       \u0027type\u0027: \u0027UploadedFiles\u0027},\n      {\u0027name\u0027: \u0027transactions_2017\u0027, \u0027type\u0027: \u0027UploadedFiles\u0027},\n      {\u0027name\u0027: \u0027merchant_info\u0027, \u0027type\u0027: \u0027UploadedFiles\u0027},\n      {\u0027name\u0027: \u0027cardholder_info\u0027, \u0027type\u0027: \u0027UploadedFiles\u0027}],\n     \u0027includedSavedModels\u0027: [],\n     \u0027includedModelEvaluationStores\u0027: [],\n     \u0027includedManagedFolders\u0027: [],\n     \u0027shareAllInputDatasets\u0027: False},\n    \u0027actualContent\u0027: {\u0027configContent\u0027: {\u0027datasets\u0027: 24,\n      \u0027recipes\u0027: 16,\n      \u0027savedModels\u0027: 1,\n      \u0027modelEvaluationStores\u0027: 0,\n      \u0027managedFolders\u0027: 1,\n      \u0027scenarios\u0027: 0,\n      \u0027analysis\u0027: 2,\n      \u0027jupyterNotebooks\u0027: 3,\n      \u0027sqlNotebooks\u0027: 0,\n      \u0027insights\u0027: 16,\n      \u0027dashboards\u0027: 3},\n     \u0027includedDatasets\u0027: [{\u0027name\u0027: \u0027transactions_2018\u0027,\n       \u0027type\u0027: \u0027UploadedFiles\u0027,\n       \u0027usedTransferMethod\u0027: \u0027UPLOAD\u0027,\n       \u0027size\u0027: 5404878},\n      {\u0027name\u0027: \u0027transactions_2017\u0027,\n       \u0027type\u0027: \u0027UploadedFiles\u0027,\n       \u0027usedTransferMethod\u0027: \u0027UPLOAD\u0027,\n       \u0027size\u0027: 7423251},\n      {\u0027name\u0027: \u0027merchant_info\u0027,\n       \u0027type\u0027: \u0027UploadedFiles\u0027,\n       \u0027usedTransferMethod\u0027: \u0027UPLOAD\u0027,\n       \u0027size\u0027: 3362746},\n      {\u0027name\u0027: \u0027cardholder_info\u0027,\n       \u0027type\u0027: \u0027UploadedFiles\u0027,\n       \u0027usedTransferMethod\u0027: \u0027UPLOAD\u0027,\n       \u0027size\u0027: 2543734}],\n     \u0027includedSavedModels\u0027: [],\n     \u0027includedManagedFolders\u0027: [],\n     \u0027includedModelEvaluationStores\u0027: [],\n     \u0027allAnalysisData\u0027: False,\n     \u0027insightsData\u0027: False},\n    \u0027bundleId\u0027: \u0027DSPIPELINEFRAUD_v1\u0027,\n    \u0027originalProjectKey\u0027: \u0027DSPIPELINEFRAUD\u0027,\n    \u0027manifestVersion\u0027: 3,\n    \u0027generatedWithDSSVersion\u0027: \u002710.0.4\u0027,\n    \u0027generatedWithDSSConfVersion\u0027: \u002710040\u0027,\n    \u0027exportedWithPlugins\u0027: [{\u0027pluginId\u0027: \u0027geoadmin\u0027, \u0027version\u0027: \u00272.2.0\u0027},\n     {\u0027pluginId\u0027: \u0027nlp-preparation\u0027, \u0027version\u0027: \u00271.2.1\u0027},\n     {\u0027pluginId\u0027: \u0027shortcut2DPLY\u0027, \u0027version\u0027: \u00270.0.1\u0027},\n     {\u0027pluginId\u0027: \u0027local-r-dev-setup\u0027, \u0027version\u0027: \u00271.0.0\u0027},\n     {\u0027pluginId\u0027: \u0027anonymizer\u0027, \u0027version\u0027: \u00270.0.4\u0027},\n     {\u0027pluginId\u0027: \u0027model-error-analysis\u0027, \u0027version\u0027: \u00271.1.2\u0027},\n     {\u0027pluginId\u0027: \u0027geocoder\u0027, \u0027version\u0027: \u00271.2.0\u0027},\n     {\u0027pluginId\u0027: \u0027microsoft-power-bi-v2\u0027, \u0027version\u0027: \u00272.0.3\u0027},\n     {\u0027pluginId\u0027: \u0027model-fairness-report\u0027, \u0027version\u0027: \u00271.0.7\u0027},\n     {\u0027pluginId\u0027: \u0027google-cloud-nlp\u0027, \u0027version\u0027: \u00271.0.1\u0027},\n     {\u0027pluginId\u0027: \u0027plugin-example\u0027, \u0027version\u0027: \u00270.0.1\u0027},\n     {\u0027pluginId\u0027: \u0027named-entity-recognition\u0027, \u0027version\u0027: \u00271.3.4\u0027},\n     {\u0027pluginId\u0027: \u0027colorbrewer-palettes\u0027, \u0027version\u0027: \u00270.0.1\u0027},\n     {\u0027pluginId\u0027: \u0027cc-fraud-plugin\u0027, \u0027version\u0027: \u00270.0.1\u0027},\n     {\u0027pluginId\u0027: \u0027image-annotations-to-dataset\u0027, \u0027version\u0027: \u00271.0.0\u0027},\n     {\u0027pluginId\u0027: \u0027nlp-visualization\u0027, \u0027version\u0027: \u00271.0.0\u0027},\n     {\u0027pluginId\u0027: \u0027deeplearning-image\u0027, \u0027version\u0027: \u00272.0.2\u0027},\n     {\u0027pluginId\u0027: \u0027timeseries-forecast\u0027, \u0027version\u0027: \u00271.2.0\u0027},\n     {\u0027pluginId\u0027: \u0027builtin-macros\u0027, \u0027version\u0027: \u00271.0.0\u0027},\n     {\u0027pluginId\u0027: \u0027timeseries-preparation\u0027, \u0027version\u0027: \u00272.0.1\u0027},\n     {\u0027pluginId\u0027: \u0027k8s-metrics-utils\u0027, \u0027version\u0027: \u00271.0.0\u0027},\n     {\u0027pluginId\u0027: \u0027co2-converter\u0027, \u0027version\u0027: \u00271.0.0\u0027},\n     {\u0027pluginId\u0027: \u0027sentiment-analysis\u0027, \u0027version\u0027: \u00271.5.0\u0027},\n     {\u0027pluginId\u0027: \u0027ml-assisted-labeling\u0027, \u0027version\u0027: \u00274.0.0\u0027},\n     {\u0027pluginId\u0027: \u0027nlp-analysis\u0027, \u0027version\u0027: \u00270.1.0\u0027}],\n    \u0027requiredConnections\u0027: {\u0027postgre-local\u0027: {\u0027name\u0027: \u0027postgre-local\u0027,\n      \u0027type\u0027: \u0027PostgreSQL\u0027},\n     \u0027filesystem_folders\u0027: {\u0027name\u0027: \u0027filesystem_folders\u0027,\n      \u0027type\u0027: \u0027Filesystem\u0027}},\n    \u0027usedCodeEnvRefs\u0027: [{\u0027envLang\u0027: \u0027PYTHON\u0027, \u0027envName\u0027: \u0027Python36\u0027}],\n    \u0027hasPartitionedDataset\u0027: False}},\n  {\u0027importState\u0027: {\u0027importedBy\u0027: \u0027admin\u0027,\n    \u0027importedOn\u0027: \u00272022-05-23T14:52:59.428+0200\u0027},\n   \u0027bundleId\u0027: \u0027DSPIPELINEFRAUD_v1_2\u0027,\n   \u0027contentSummary\u0027: {\u0027configContent\u0027: {\u0027datasets\u0027: 24,\n     \u0027recipes\u0027: 16,\n     \u0027savedModels\u0027: 1,\n     \u0027modelEvaluationStores\u0027: 0,\n     \u0027managedFolders\u0027: 1,\n     \u0027scenarios\u0027: 0,\n     \u0027analysis\u0027: 2,\n     \u0027jupyterNotebooks\u0027: 3,\n     \u0027sqlNotebooks\u0027: 0,\n     \u0027insights\u0027: 16,\n     \u0027dashboards\u0027: 3},\n    \u0027includedDatasets\u0027: [{\u0027name\u0027: \u0027transactions_2018\u0027,\n      \u0027type\u0027: \u0027UploadedFiles\u0027,\n      \u0027usedTransferMethod\u0027: \u0027UPLOAD\u0027,\n      \u0027size\u0027: 5404878},\n     {\u0027name\u0027: \u0027transactions_2017\u0027,\n      \u0027type\u0027: \u0027UploadedFiles\u0027,\n      \u0027usedTransferMethod\u0027: \u0027UPLOAD\u0027,\n      \u0027size\u0027: 7423251},\n     {\u0027name\u0027: \u0027merchant_info\u0027,\n      \u0027type\u0027: \u0027UploadedFiles\u0027,\n      \u0027usedTransferMethod\u0027: \u0027UPLOAD\u0027,\n      \u0027size\u0027: 3362746},\n     {\u0027name\u0027: \u0027cardholder_info\u0027,\n      \u0027type\u0027: \u0027UploadedFiles\u0027,\n      \u0027usedTransferMethod\u0027: \u0027UPLOAD\u0027,\n      \u0027size\u0027: 2543734}],\n    \u0027includedSavedModels\u0027: [],\n    \u0027includedManagedFolders\u0027: [],\n    \u0027includedModelEvaluationStores\u0027: [],\n    \u0027allAnalysisData\u0027: False,\n    \u0027insightsData\u0027: False},\n   \u0027exportManifest\u0027: {\u0027exportUserInfo\u0027: {\u0027exportedOn\u0027: \u00272022-05-23T14:52:14.408+0200\u0027,\n     \u0027exportedBy\u0027: \u0027admin\u0027},\n    \u0027exportedWithOptions\u0027: {\u0027exportUploads\u0027: False,\n     \u0027exportManagedFS\u0027: False,\n     \u0027exportAnalysisModels\u0027: False,\n     \u0027exportSavedModels\u0027: False,\n     \u0027exportManagedFolders\u0027: False,\n     \u0027exportModelEvaluationStores\u0027: False,\n     \u0027exportAllInputDatasets\u0027: False,\n     \u0027exportAllDatasets\u0027: False,\n     \u0027exportAllInputManagedFolders\u0027: False,\n     \u0027exportGitRepository\u0027: False,\n     \u0027exportInsightsData\u0027: False,\n     \u0027useManualPluginsInfo\u0027: False,\n     \u0027includedDatasetsData\u0027: [{\u0027name\u0027: \u0027transactions_2018\u0027,\n       \u0027type\u0027: \u0027UploadedFiles\u0027},\n      {\u0027name\u0027: \u0027transactions_2017\u0027, \u0027type\u0027: \u0027UploadedFiles\u0027},\n      {\u0027name\u0027: \u0027merchant_info\u0027, \u0027type\u0027: \u0027UploadedFiles\u0027},\n      {\u0027name\u0027: \u0027cardholder_info\u0027, \u0027type\u0027: \u0027UploadedFiles\u0027}],\n     \u0027includedSavedModels\u0027: [],\n     \u0027includedModelEvaluationStores\u0027: [],\n     \u0027includedManagedFolders\u0027: [],\n     \u0027shareAllInputDatasets\u0027: False},\n    \u0027actualContent\u0027: {\u0027configContent\u0027: {\u0027datasets\u0027: 24,\n      \u0027recipes\u0027: 16,\n      \u0027savedModels\u0027: 1,\n      \u0027modelEvaluationStores\u0027: 0,\n      \u0027managedFolders\u0027: 1,\n      \u0027scenarios\u0027: 0,\n      \u0027analysis\u0027: 2,\n      \u0027jupyterNotebooks\u0027: 3,\n      \u0027sqlNotebooks\u0027: 0,\n      \u0027insights\u0027: 16,\n      \u0027dashboards\u0027: 3},\n     \u0027includedDatasets\u0027: [{\u0027name\u0027: \u0027transactions_2018\u0027,\n       \u0027type\u0027: \u0027UploadedFiles\u0027,\n       \u0027usedTransferMethod\u0027: \u0027UPLOAD\u0027,\n       \u0027size\u0027: 5404878},\n      {\u0027name\u0027: \u0027transactions_2017\u0027,\n       \u0027type\u0027: \u0027UploadedFiles\u0027,\n       \u0027usedTransferMethod\u0027: \u0027UPLOAD\u0027,\n       \u0027size\u0027: 7423251},\n      {\u0027name\u0027: \u0027merchant_info\u0027,\n       \u0027type\u0027: \u0027UploadedFiles\u0027,\n       \u0027usedTransferMethod\u0027: \u0027UPLOAD\u0027,\n       \u0027size\u0027: 3362746},\n      {\u0027name\u0027: \u0027cardholder_info\u0027,\n       \u0027type\u0027: \u0027UploadedFiles\u0027,\n       \u0027usedTransferMethod\u0027: \u0027UPLOAD\u0027,\n       \u0027size\u0027: 2543734}],\n     \u0027includedSavedModels\u0027: [],\n     \u0027includedManagedFolders\u0027: [],\n     \u0027includedModelEvaluationStores\u0027: [],\n     \u0027allAnalysisData\u0027: False,\n     \u0027insightsData\u0027: False},\n    \u0027bundleId\u0027: \u0027DSPIPELINEFRAUD_v1_2\u0027,\n    \u0027originalProjectKey\u0027: \u0027DSPIPELINEFRAUD\u0027,\n    \u0027manifestVersion\u0027: 3,\n    \u0027generatedWithDSSVersion\u0027: \u002710.0.4\u0027,\n    \u0027generatedWithDSSConfVersion\u0027: \u002710040\u0027,\n    \u0027exportedWithPlugins\u0027: [{\u0027pluginId\u0027: \u0027geoadmin\u0027, \u0027version\u0027: \u00272.2.0\u0027},\n     {\u0027pluginId\u0027: \u0027nlp-preparation\u0027, \u0027version\u0027: \u00271.2.1\u0027},\n     {\u0027pluginId\u0027: \u0027shortcut2DPLY\u0027, \u0027version\u0027: \u00270.0.1\u0027},\n     {\u0027pluginId\u0027: \u0027local-r-dev-setup\u0027, \u0027version\u0027: \u00271.0.0\u0027},\n     {\u0027pluginId\u0027: \u0027anonymizer\u0027, \u0027version\u0027: \u00270.0.4\u0027},\n     {\u0027pluginId\u0027: \u0027model-error-analysis\u0027, \u0027version\u0027: \u00271.1.2\u0027},\n     {\u0027pluginId\u0027: \u0027geocoder\u0027, \u0027version\u0027: \u00271.2.0\u0027},\n     {\u0027pluginId\u0027: \u0027microsoft-power-bi-v2\u0027, \u0027version\u0027: \u00272.0.3\u0027},\n     {\u0027pluginId\u0027: \u0027model-fairness-report\u0027, \u0027version\u0027: \u00271.0.7\u0027},\n     {\u0027pluginId\u0027: \u0027google-cloud-nlp\u0027, \u0027version\u0027: \u00271.0.1\u0027},\n     {\u0027pluginId\u0027: \u0027plugin-example\u0027, \u0027version\u0027: \u00270.0.1\u0027},\n     {\u0027pluginId\u0027: \u0027named-entity-recognition\u0027, \u0027version\u0027: \u00271.3.4\u0027},\n     {\u0027pluginId\u0027: \u0027colorbrewer-palettes\u0027, \u0027version\u0027: \u00270.0.1\u0027},\n     {\u0027pluginId\u0027: \u0027cc-fraud-plugin\u0027, \u0027version\u0027: \u00270.0.1\u0027},\n     {\u0027pluginId\u0027: \u0027image-annotations-to-dataset\u0027, \u0027version\u0027: \u00271.0.0\u0027},\n     {\u0027pluginId\u0027: \u0027nlp-visualization\u0027, \u0027version\u0027: \u00271.0.0\u0027},\n     {\u0027pluginId\u0027: \u0027deeplearning-image\u0027, \u0027version\u0027: \u00272.0.2\u0027},\n     {\u0027pluginId\u0027: \u0027timeseries-forecast\u0027, \u0027version\u0027: \u00271.2.0\u0027},\n     {\u0027pluginId\u0027: \u0027builtin-macros\u0027, \u0027version\u0027: \u00271.0.0\u0027},\n     {\u0027pluginId\u0027: \u0027timeseries-preparation\u0027, \u0027version\u0027: \u00272.0.1\u0027},\n     {\u0027pluginId\u0027: \u0027k8s-metrics-utils\u0027, \u0027version\u0027: \u00271.0.0\u0027},\n     {\u0027pluginId\u0027: \u0027co2-converter\u0027, \u0027version\u0027: \u00271.0.0\u0027},\n     {\u0027pluginId\u0027: \u0027sentiment-analysis\u0027, \u0027version\u0027: \u00271.5.0\u0027},\n     {\u0027pluginId\u0027: \u0027ml-assisted-labeling\u0027, \u0027version\u0027: \u00274.0.0\u0027},\n     {\u0027pluginId\u0027: \u0027nlp-analysis\u0027, \u0027version\u0027: \u00270.1.0\u0027}],\n    \u0027requiredConnections\u0027: {\u0027postgre-local\u0027: {\u0027name\u0027: \u0027postgre-local\u0027,\n      \u0027type\u0027: \u0027PostgreSQL\u0027},\n     \u0027filesystem_folders\u0027: {\u0027name\u0027: \u0027filesystem_folders\u0027,\n      \u0027type\u0027: \u0027Filesystem\u0027}},\n    \u0027usedCodeEnvRefs\u0027: [{\u0027envLang\u0027: \u0027PYTHON\u0027, \u0027envName\u0027: \u0027Python36\u0027}],\n    \u0027hasPartitionedDataset\u0027: False}}]}"
          },
          "metadata": {}
        }
      ]
    },
    {
      "cell_type": "markdown",
      "metadata": {},
      "source": [
        "## Deployer"
      ]
    },
    {
      "execution_count": 109,
      "cell_type": "code",
      "metadata": {},
      "source": [
        "writers \u003d [permission[\"group\"] for permission in project_permissions if permission.get(\"writeProjectContent\", False)\u003d\u003dTrue]"
      ],
      "outputs": []
    },
    {
      "execution_count": 156,
      "cell_type": "code",
      "metadata": {},
      "source": [
        "writers \u003d [\u0027MLOps\u0027]"
      ],
      "outputs": [
        {
          "output_type": "execute_result",
          "execution_count": 156,
          "data": {
            "text/plain": "[\u0027MLOps\u0027, \u0027cc_fraud_project\u0027]"
          },
          "metadata": {}
        }
      ]
    },
    {
      "execution_count": 144,
      "cell_type": "code",
      "metadata": {},
      "source": [
        "project_deployer_client \u003d dataikuapi.DSSClient(\u0027http://localhost:20000/\u0027, \"FJk7Jffd8TStmT4Zvx9efC6G5mYZusec\") "
      ],
      "outputs": []
    },
    {
      "execution_count": 145,
      "cell_type": "code",
      "metadata": {},
      "source": [
        "project_owner \u003d project.get_permissions().get(\"owner\")\npublished_project \u003d project_deployer_client.get_project(\"DSPIPELINEFRAUD\") "
      ],
      "outputs": []
    },
    {
      "execution_count": 146,
      "cell_type": "code",
      "metadata": {},
      "source": [
        "published_project"
      ],
      "outputs": [
        {
          "output_type": "execute_result",
          "execution_count": 146,
          "data": {
            "text/plain": "\u003cdataikuapi.dss.project.DSSProject at 0x118c7c9b0\u003e"
          },
          "metadata": {}
        }
      ]
    },
    {
      "execution_count": 147,
      "cell_type": "code",
      "metadata": {},
      "source": [
        "published_project_settings \u003d published_project.get_settings()\nraw_permissions \u003d published_project_settings.get_raw()"
      ],
      "outputs": []
    },
    {
      "execution_count": 150,
      "cell_type": "code",
      "metadata": {},
      "source": [
        "raw_permissions.keys()"
      ],
      "outputs": [
        {
          "output_type": "execute_result",
          "execution_count": 150,
          "data": {
            "text/plain": "dict_keys([\u0027projectStatus\u0027, \u0027imgPattern\u0027, \u0027showInitials\u0027, \u0027settings\u0027, \u0027exposedObjects\u0027, \u0027metrics\u0027, \u0027metricsChecks\u0027, \u0027bundleExporterSettings\u0027, \u0027projectAppType\u0027])"
          },
          "metadata": {}
        }
      ]
    },
    {
      "execution_count": 125,
      "cell_type": "code",
      "metadata": {},
      "source": [
        "logging.info(\"Project owner will again be {}\".format(curr_log_user))"
      ],
      "outputs": []
    },
    {
      "execution_count": 151,
      "cell_type": "code",
      "metadata": {},
      "source": [
        "# Set the new project owner on the Deployer\nraw_permissions[\u0027owner\u0027] \u003d curr_log_user"
      ],
      "outputs": []
    },
    {
      "execution_count": 152,
      "cell_type": "code",
      "metadata": {},
      "source": [
        "writers"
      ],
      "outputs": [
        {
          "output_type": "execute_result",
          "execution_count": 152,
          "data": {
            "text/plain": "[\u0027MLOps\u0027, \u0027cc_fraud_project\u0027]"
          },
          "metadata": {}
        }
      ]
    },
    {
      "execution_count": 154,
      "cell_type": "code",
      "metadata": {},
      "source": [
        "for writer in writers:\n    permission \u003d {\n            \u0027admin\u0027: True, \n            \u0027deploy\u0027: True, \n            \u0027group\u0027: writer, \n            \u0027read\u0027: True, \n            \u0027write\u0027: True\n    }\n    raw_permissions[\u0027permissions\u0027].append(permission)\n"
      ],
      "outputs": [
        {
          "output_type": "error",
          "ename": "KeyError",
          "evalue": "\u0027permissions\u0027",
          "traceback": [
            "\u001b[0;31m---------------------------------------------------------------------------\u001b[0m",
            "\u001b[0;31mKeyError\u001b[0m                                  Traceback (most recent call last)",
            "\u001b[0;32m\u003cipython-input-154-316a56e6b637\u003e\u001b[0m in \u001b[0;36m\u003cmodule\u003e\u001b[0;34m()\u001b[0m\n\u001b[1;32m      7\u001b[0m                 \u001b[0;34m\u0027write\u0027\u001b[0m\u001b[0;34m:\u001b[0m \u001b[0;32mTrue\u001b[0m\u001b[0;34m\u001b[0m\u001b[0;34m\u001b[0m\u001b[0m\n\u001b[1;32m      8\u001b[0m         }\n\u001b[0;32m----\u003e 9\u001b[0;31m         \u001b[0mraw_permissions\u001b[0m\u001b[0;34m[\u001b[0m\u001b[0;34m\u0027permissions\u0027\u001b[0m\u001b[0;34m]\u001b[0m\u001b[0;34m.\u001b[0m\u001b[0mappend\u001b[0m\u001b[0;34m(\u001b[0m\u001b[0mpermission\u001b[0m\u001b[0;34m)\u001b[0m\u001b[0;34m\u001b[0m\u001b[0;34m\u001b[0m\u001b[0m\n\u001b[0m",
            "\u001b[0;31mKeyError\u001b[0m: \u0027permissions\u0027"
          ]
        }
      ]
    },
    {
      "execution_count": 133,
      "cell_type": "code",
      "metadata": {},
      "source": [
        "raw_permissions[\u0027permissions\u0027] \u003d permission"
      ],
      "outputs": []
    },
    {
      "execution_count": 135,
      "cell_type": "code",
      "metadata": {},
      "source": [
        "        \n    # this part deduplicates any permissions given to the same group.\npermissions \u003d { each[\u0027group\u0027] : each for each in raw_permissions[\u0027permissions\u0027] }.values()"
      ],
      "outputs": [
        {
          "output_type": "error",
          "ename": "TypeError",
          "evalue": "string indices must be integers",
          "traceback": [
            "\u001b[0;31m---------------------------------------------------------------------------\u001b[0m",
            "\u001b[0;31mTypeError\u001b[0m                                 Traceback (most recent call last)",
            "\u001b[0;32m\u003cipython-input-135-76b25845cb2d\u003e\u001b[0m in \u001b[0;36m\u003cmodule\u003e\u001b[0;34m()\u001b[0m\n\u001b[1;32m      1\u001b[0m \u001b[0;34m\u001b[0m\u001b[0m\n\u001b[1;32m      2\u001b[0m     \u001b[0;31m# this part deduplicates any permissions given to the same group.\u001b[0m\u001b[0;34m\u001b[0m\u001b[0;34m\u001b[0m\u001b[0;34m\u001b[0m\u001b[0m\n\u001b[0;32m----\u003e 3\u001b[0;31m \u001b[0mpermissions\u001b[0m \u001b[0;34m\u003d\u001b[0m \u001b[0;34m{\u001b[0m \u001b[0meach\u001b[0m\u001b[0;34m[\u001b[0m\u001b[0;34m\u0027group\u0027\u001b[0m\u001b[0;34m]\u001b[0m \u001b[0;34m:\u001b[0m \u001b[0meach\u001b[0m \u001b[0;32mfor\u001b[0m \u001b[0meach\u001b[0m \u001b[0;32min\u001b[0m \u001b[0mraw_permissions\u001b[0m\u001b[0;34m[\u001b[0m\u001b[0;34m\u0027permissions\u0027\u001b[0m\u001b[0;34m]\u001b[0m \u001b[0;34m}\u001b[0m\u001b[0;34m.\u001b[0m\u001b[0mvalues\u001b[0m\u001b[0;34m(\u001b[0m\u001b[0;34m)\u001b[0m\u001b[0;34m\u001b[0m\u001b[0;34m\u001b[0m\u001b[0m\n\u001b[0m",
            "\u001b[0;32m\u003cipython-input-135-76b25845cb2d\u003e\u001b[0m in \u001b[0;36m\u003cdictcomp\u003e\u001b[0;34m(.0)\u001b[0m\n\u001b[1;32m      1\u001b[0m \u001b[0;34m\u001b[0m\u001b[0m\n\u001b[1;32m      2\u001b[0m     \u001b[0;31m# this part deduplicates any permissions given to the same group.\u001b[0m\u001b[0;34m\u001b[0m\u001b[0;34m\u001b[0m\u001b[0;34m\u001b[0m\u001b[0m\n\u001b[0;32m----\u003e 3\u001b[0;31m \u001b[0mpermissions\u001b[0m \u001b[0;34m\u003d\u001b[0m \u001b[0;34m{\u001b[0m \u001b[0meach\u001b[0m\u001b[0;34m[\u001b[0m\u001b[0;34m\u0027group\u0027\u001b[0m\u001b[0;34m]\u001b[0m \u001b[0;34m:\u001b[0m \u001b[0meach\u001b[0m \u001b[0;32mfor\u001b[0m \u001b[0meach\u001b[0m \u001b[0;32min\u001b[0m \u001b[0mraw_permissions\u001b[0m\u001b[0;34m[\u001b[0m\u001b[0;34m\u0027permissions\u0027\u001b[0m\u001b[0;34m]\u001b[0m \u001b[0;34m}\u001b[0m\u001b[0;34m.\u001b[0m\u001b[0mvalues\u001b[0m\u001b[0;34m(\u001b[0m\u001b[0;34m)\u001b[0m\u001b[0;34m\u001b[0m\u001b[0;34m\u001b[0m\u001b[0m\n\u001b[0m",
            "\u001b[0;31mTypeError\u001b[0m: string indices must be integers"
          ]
        }
      ]
    },
    {
      "execution_count": 140,
      "cell_type": "code",
      "metadata": {},
      "source": [
        "for each in raw_permissions[\u0027permissions\u0027]:\n    print(each)\n    each[\u0027group\u0027] : each"
      ],
      "outputs": [
        {
          "output_type": "stream",
          "text": "admin\ndeploy\ngroup\nread\nwrite\n",
          "name": "stdout"
        }
      ]
    },
    {
      "execution_count": 139,
      "cell_type": "code",
      "metadata": {},
      "source": [
        "raw_permissions"
      ],
      "outputs": [
        {
          "output_type": "execute_result",
          "execution_count": 139,
          "data": {
            "text/plain": "\u0027write\u0027"
          },
          "metadata": {}
        }
      ]
    },
    {
      "execution_count": 0,
      "cell_type": "code",
      "metadata": {},
      "source": [
        "list_permissions \u003d list(permissions)\nraw_permissions[\u0027permissions\u0027] \u003d list_permissions\npublished_project_settings.save()"
      ],
      "outputs": []
    },
    {
      "cell_type": "markdown",
      "metadata": {},
      "source": [
        "## Plugin settings"
      ]
    },
    {
      "execution_count": 14,
      "cell_type": "code",
      "metadata": {},
      "source": [
        "from dataiku.customrecipe import *\n\nget_plugin_config()"
      ],
      "outputs": [
        {
          "output_type": "error",
          "ename": "TypeError",
          "evalue": "the JSON object must be str, bytes or bytearray, not \u0027NoneType\u0027",
          "traceback": [
            "\u001b[0;31m---------------------------------------------------------------------------\u001b[0m",
            "\u001b[0;31mTypeError\u001b[0m                                 Traceback (most recent call last)",
            "\u001b[0;32m\u003cipython-input-14-cf501662edb2\u003e\u001b[0m in \u001b[0;36m\u003cmodule\u003e\u001b[0;34m\u001b[0m\n\u001b[1;32m      1\u001b[0m \u001b[0;32mfrom\u001b[0m \u001b[0mdataiku\u001b[0m\u001b[0;34m.\u001b[0m\u001b[0mcustomrecipe\u001b[0m \u001b[0;32mimport\u001b[0m \u001b[0;34m*\u001b[0m\u001b[0;34m\u001b[0m\u001b[0;34m\u001b[0m\u001b[0m\n\u001b[1;32m      2\u001b[0m \u001b[0;34m\u001b[0m\u001b[0m\n\u001b[0;32m----\u003e 3\u001b[0;31m \u001b[0mget_plugin_config\u001b[0m\u001b[0;34m(\u001b[0m\u001b[0;34m)\u001b[0m\u001b[0;34m\u001b[0m\u001b[0;34m\u001b[0m\u001b[0m\n\u001b[0m",
            "\u001b[0;32m~/Library/DataikuV10.0.4/install/dataiku-dss-10.0.4-osx/python/dataiku/customrecipe/__init__.py\u001b[0m in \u001b[0;36mget_plugin_config\u001b[0;34m()\u001b[0m\n\u001b[1;32m     27\u001b[0m \u001b[0;32mdef\u001b[0m \u001b[0mget_plugin_config\u001b[0m\u001b[0;34m(\u001b[0m\u001b[0;34m)\u001b[0m\u001b[0;34m:\u001b[0m\u001b[0;34m\u001b[0m\u001b[0;34m\u001b[0m\u001b[0m\n\u001b[1;32m     28\u001b[0m     \u001b[0;34m\"\"\"Returns the global settings of the plugin\"\"\"\u001b[0m\u001b[0;34m\u001b[0m\u001b[0;34m\u001b[0m\u001b[0m\n\u001b[0;32m---\u003e 29\u001b[0;31m     \u001b[0;32mreturn\u001b[0m \u001b[0mjson\u001b[0m\u001b[0;34m.\u001b[0m\u001b[0mloads\u001b[0m\u001b[0;34m(\u001b[0m\u001b[0mos\u001b[0m\u001b[0;34m.\u001b[0m\u001b[0mgetenv\u001b[0m\u001b[0;34m(\u001b[0m\u001b[0;34m\"DKU_CUSTOM_RECIPE_PLUGIN_CONFIG\"\u001b[0m\u001b[0;34m)\u001b[0m\u001b[0;34m)\u001b[0m\u001b[0;34m\u001b[0m\u001b[0;34m\u001b[0m\u001b[0m\n\u001b[0m\u001b[1;32m     30\u001b[0m \u001b[0;34m\u001b[0m\u001b[0m\n\u001b[1;32m     31\u001b[0m \u001b[0;32mdef\u001b[0m \u001b[0mget_recipe_resource\u001b[0m\u001b[0;34m(\u001b[0m\u001b[0;34m)\u001b[0m\u001b[0;34m:\u001b[0m\u001b[0;34m\u001b[0m\u001b[0;34m\u001b[0m\u001b[0m\n",
            "\u001b[0;32m~/.pyenv/versions/3.6.8/lib/python3.6/json/__init__.py\u001b[0m in \u001b[0;36mloads\u001b[0;34m(s, encoding, cls, object_hook, parse_float, parse_int, parse_constant, object_pairs_hook, **kw)\u001b[0m\n\u001b[1;32m    346\u001b[0m         \u001b[0;32mif\u001b[0m \u001b[0;32mnot\u001b[0m \u001b[0misinstance\u001b[0m\u001b[0;34m(\u001b[0m\u001b[0ms\u001b[0m\u001b[0;34m,\u001b[0m \u001b[0;34m(\u001b[0m\u001b[0mbytes\u001b[0m\u001b[0;34m,\u001b[0m \u001b[0mbytearray\u001b[0m\u001b[0;34m)\u001b[0m\u001b[0;34m)\u001b[0m\u001b[0;34m:\u001b[0m\u001b[0;34m\u001b[0m\u001b[0;34m\u001b[0m\u001b[0m\n\u001b[1;32m    347\u001b[0m             raise TypeError(\u0027the JSON object must be str, bytes or bytearray, \u0027\n\u001b[0;32m--\u003e 348\u001b[0;31m                             \u0027not {!r}\u0027.format(s.__class__.__name__))\n\u001b[0m\u001b[1;32m    349\u001b[0m         \u001b[0ms\u001b[0m \u001b[0;34m\u003d\u001b[0m \u001b[0ms\u001b[0m\u001b[0;34m.\u001b[0m\u001b[0mdecode\u001b[0m\u001b[0;34m(\u001b[0m\u001b[0mdetect_encoding\u001b[0m\u001b[0;34m(\u001b[0m\u001b[0ms\u001b[0m\u001b[0;34m)\u001b[0m\u001b[0;34m,\u001b[0m \u001b[0;34m\u0027surrogatepass\u0027\u001b[0m\u001b[0;34m)\u001b[0m\u001b[0;34m\u001b[0m\u001b[0;34m\u001b[0m\u001b[0m\n\u001b[1;32m    350\u001b[0m \u001b[0;34m\u001b[0m\u001b[0m\n",
            "\u001b[0;31mTypeError\u001b[0m: the JSON object must be str, bytes or bytearray, not \u0027NoneType\u0027"
          ]
        }
      ]
    },
    {
      "execution_count": 19,
      "cell_type": "code",
      "metadata": {},
      "source": [
        "template_libraries \u003d \"matplotlib,seaborn\"\ntemplate_libraries \u003d template_libraries.replace(\",\",\u0027\\n\u0027)\nprint(template_libraries)"
      ],
      "outputs": [
        {
          "output_type": "stream",
          "text": "matplotlib\nseaborn\n",
          "name": "stdout"
        }
      ]
    },
    {
      "execution_count": 214,
      "cell_type": "code",
      "metadata": {},
      "source": [
        "permissions \u003d [{\"admin\": False,\n                          \"executeApp\": False,\n                          \"exportDatasetsData\": False,\n                          \"group\": \u0027MLOps\u0027,\n                          \"manageAdditionalDashboardUsers\": False,\n                          \"manageDashboardAuthorizations\": False,\n                          \"manageExposedElements\": False,\n                          \"moderateDashboards\": True,\n                          \"readDashboards\": True,\n                          \"readProjectContent\": True,\n                          \"runScenarios\": True,\n                          \"writeDashboards\": True,\n                          \"writeProjectContent\": True\n                         }, {\"admin\": False,\n                          \"executeApp\": False,\n                          \"exportDatasetsData\": False,\n                          \"group\": \u0027user1\u0027,\n                          \"manageAdditionalDashboardUsers\": False,\n                          \"manageDashboardAuthorizations\": False,\n                          \"manageExposedElements\": False,\n                          \"moderateDashboards\": True,\n                          \"readDashboards\": True,\n                          \"readProjectContent\": True,\n                          \"runScenarios\": True,\n                          \"writeDashboards\": True,\n                          \"writeProjectContent\": True\n                         }]"
      ],
      "outputs": []
    },
    {
      "execution_count": 212,
      "cell_type": "code",
      "metadata": {},
      "source": [
        "permissions_dict \u003d {}\nfor each in permissions:\n    print(each.keys())\n    if \u0027group\u0027 in each.keys():\n        permissions_dict[\u0027group\u0027]: each\n    elif \u0027user\u0027 in each.keys():\n        permissions_dict[\u0027user\u0027]: each"
      ],
      "outputs": [
        {
          "output_type": "stream",
          "text": "dict_keys([\u0027admin\u0027, \u0027executeApp\u0027, \u0027exportDatasetsData\u0027, \u0027group\u0027, \u0027manageAdditionalDashboardUsers\u0027, \u0027manageDashboardAuthorizations\u0027, \u0027manageExposedElements\u0027, \u0027moderateDashboards\u0027, \u0027readDashboards\u0027, \u0027readProjectContent\u0027, \u0027runScenarios\u0027, \u0027writeDashboards\u0027, \u0027writeProjectContent\u0027])\ndict_keys([\u0027admin\u0027, \u0027executeApp\u0027, \u0027exportDatasetsData\u0027, \u0027user\u0027, \u0027manageAdditionalDashboardUsers\u0027, \u0027manageDashboardAuthorizations\u0027, \u0027manageExposedElements\u0027, \u0027moderateDashboards\u0027, \u0027readDashboards\u0027, \u0027readProjectContent\u0027, \u0027runScenarios\u0027, \u0027writeDashboards\u0027, \u0027writeProjectContent\u0027])\n",
          "name": "stdout"
        }
      ]
    },
    {
      "execution_count": 210,
      "cell_type": "code",
      "metadata": {},
      "source": [
        "each"
      ],
      "outputs": [
        {
          "output_type": "execute_result",
          "execution_count": 210,
          "data": {
            "text/plain": "{\u0027admin\u0027: False,\n \u0027executeApp\u0027: False,\n \u0027exportDatasetsData\u0027: False,\n \u0027user\u0027: \u0027user1\u0027,\n \u0027manageAdditionalDashboardUsers\u0027: False,\n \u0027manageDashboardAuthorizations\u0027: False,\n \u0027manageExposedElements\u0027: False,\n \u0027moderateDashboards\u0027: True,\n \u0027readDashboards\u0027: True,\n \u0027readProjectContent\u0027: True,\n \u0027runScenarios\u0027: True,\n \u0027writeDashboards\u0027: True,\n \u0027writeProjectContent\u0027: True}"
          },
          "metadata": {}
        }
      ]
    },
    {
      "execution_count": 215,
      "cell_type": "code",
      "metadata": {},
      "source": [
        "permissions \u003d { each[\u0027group\u0027] : each for each in permissions }.values()"
      ],
      "outputs": []
    },
    {
      "execution_count": 219,
      "cell_type": "code",
      "metadata": {},
      "source": [
        "{ each[\u0027group\u0027] : each for each in permissions }"
      ],
      "outputs": [
        {
          "output_type": "execute_result",
          "execution_count": 219,
          "data": {
            "text/plain": "{\u0027MLOps\u0027: {\u0027admin\u0027: False,\n  \u0027executeApp\u0027: False,\n  \u0027exportDatasetsData\u0027: False,\n  \u0027group\u0027: \u0027MLOps\u0027,\n  \u0027manageAdditionalDashboardUsers\u0027: False,\n  \u0027manageDashboardAuthorizations\u0027: False,\n  \u0027manageExposedElements\u0027: False,\n  \u0027moderateDashboards\u0027: True,\n  \u0027readDashboards\u0027: True,\n  \u0027readProjectContent\u0027: True,\n  \u0027runScenarios\u0027: True,\n  \u0027writeDashboards\u0027: True,\n  \u0027writeProjectContent\u0027: True},\n \u0027user1\u0027: {\u0027admin\u0027: False,\n  \u0027executeApp\u0027: False,\n  \u0027exportDatasetsData\u0027: False,\n  \u0027group\u0027: \u0027user1\u0027,\n  \u0027manageAdditionalDashboardUsers\u0027: False,\n  \u0027manageDashboardAuthorizations\u0027: False,\n  \u0027manageExposedElements\u0027: False,\n  \u0027moderateDashboards\u0027: True,\n  \u0027readDashboards\u0027: True,\n  \u0027readProjectContent\u0027: True,\n  \u0027runScenarios\u0027: True,\n  \u0027writeDashboards\u0027: True,\n  \u0027writeProjectContent\u0027: True}}"
          },
          "metadata": {}
        }
      ]
    },
    {
      "execution_count": 216,
      "cell_type": "code",
      "metadata": {},
      "source": [
        "list_permissions \u003d list(permissions)"
      ],
      "outputs": []
    },
    {
      "execution_count": 217,
      "cell_type": "code",
      "metadata": {},
      "source": [
        "list_permissions"
      ],
      "outputs": [
        {
          "output_type": "execute_result",
          "execution_count": 217,
          "data": {
            "text/plain": "[{\u0027admin\u0027: False,\n  \u0027executeApp\u0027: False,\n  \u0027exportDatasetsData\u0027: False,\n  \u0027group\u0027: \u0027MLOps\u0027,\n  \u0027manageAdditionalDashboardUsers\u0027: False,\n  \u0027manageDashboardAuthorizations\u0027: False,\n  \u0027manageExposedElements\u0027: False,\n  \u0027moderateDashboards\u0027: True,\n  \u0027readDashboards\u0027: True,\n  \u0027readProjectContent\u0027: True,\n  \u0027runScenarios\u0027: True,\n  \u0027writeDashboards\u0027: True,\n  \u0027writeProjectContent\u0027: True},\n {\u0027admin\u0027: False,\n  \u0027executeApp\u0027: False,\n  \u0027exportDatasetsData\u0027: False,\n  \u0027group\u0027: \u0027user1\u0027,\n  \u0027manageAdditionalDashboardUsers\u0027: False,\n  \u0027manageDashboardAuthorizations\u0027: False,\n  \u0027manageExposedElements\u0027: False,\n  \u0027moderateDashboards\u0027: True,\n  \u0027readDashboards\u0027: True,\n  \u0027readProjectContent\u0027: True,\n  \u0027runScenarios\u0027: True,\n  \u0027writeDashboards\u0027: True,\n  \u0027writeProjectContent\u0027: True}]"
          },
          "metadata": {}
        }
      ]
    },
    {
      "execution_count": 0,
      "cell_type": "code",
      "metadata": {},
      "source": [
        ""
      ],
      "outputs": []
    }
  ]
}