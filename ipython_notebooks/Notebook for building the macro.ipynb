{
  "metadata": {
    "kernelspec": {
      "name": "python3",
      "display_name": "Python 3",
      "language": "python"
    },
    "creator": "admin",
    "createdOn": 1653237316797,
    "tags": [],
    "customFields": {},
    "hide_input": false,
    "language_info": {
      "name": "python",
      "version": "3.6.8",
      "mimetype": "text/x-python",
      "codemirror_mode": {
        "name": "ipython",
        "version": 3
      },
      "pygments_lexer": "ipython3",
      "nbconvert_exporter": "python",
      "file_extension": ".py"
    },
    "modifiedBy": "admin"
  },
  "nbformat": 4,
  "nbformat_minor": 1,
  "cells": [
    {
      "execution_count": 69,
      "cell_type": "code",
      "metadata": {},
      "source": [
        "import dataiku\nimport dataikuapi\nfrom dataiku import pandasutils as pdu\nimport pandas as pd\nimport logging"
      ],
      "outputs": []
    },
    {
      "execution_count": 70,
      "cell_type": "code",
      "metadata": {},
      "source": [
        "design_host \u003d dataiku.api_client().host \nprint(design_host)"
      ],
      "outputs": [
        {
          "output_type": "stream",
          "text": "http://127.0.0.1:20001\n",
          "name": "stdout"
        }
      ]
    },
    {
      "execution_count": 71,
      "cell_type": "code",
      "metadata": {},
      "source": [
        "design_client \u003d dataikuapi.DSSClient(design_host, \"FJk7Jffd8TStmT4Zvx9efC6G5mYZusec\") "
      ],
      "outputs": []
    },
    {
      "execution_count": 47,
      "cell_type": "code",
      "metadata": {},
      "source": [
        "curr_log_user \u003d design_client.get_own_user().get_settings().get_raw()[\"login\"]"
      ],
      "outputs": []
    },
    {
      "execution_count": 55,
      "cell_type": "code",
      "metadata": {},
      "source": [
        "dss_users \u003d design_client.list_users()\nuser_info \u003d [user for user in dss_users if user[\u0027login\u0027] \u003d\u003d curr_log_user]\nif \u0027MLOps\u0027 in user_info[0][\u0027groups\u0027]:\n    logging.info(\"User {} is in the \u0027MLOps\u0027 group\".format(curr_log_user))\nelse:\n    logging.error(\"User {} is not in the \u0027MLOps\u0027 group\".format(curr_log_user))\n    raise Exception(\"User {} is not in the \u0027MLOps\u0027 group\".format(curr_log_user))\n        "
      ],
      "outputs": [
        {
          "output_type": "stream",
          "text": "ERROR:root:User admin is not in the \u0027MLOps\u0027 group\n",
          "name": "stderr"
        },
        {
          "output_type": "error",
          "ename": "Exception",
          "evalue": "User admin is not in the \u0027MLOps\u0027 group",
          "traceback": [
            "\u001b[0;31m---------------------------------------------------------------------------\u001b[0m",
            "\u001b[0;31mException\u001b[0m                                 Traceback (most recent call last)",
            "\u001b[0;32m\u003cipython-input-55-012a2667c25b\u003e\u001b[0m in \u001b[0;36m\u003cmodule\u003e\u001b[0;34m()\u001b[0m\n\u001b[1;32m      5\u001b[0m \u001b[0;32melse\u001b[0m\u001b[0;34m:\u001b[0m\u001b[0;34m\u001b[0m\u001b[0;34m\u001b[0m\u001b[0m\n\u001b[1;32m      6\u001b[0m     \u001b[0mlogging\u001b[0m\u001b[0;34m.\u001b[0m\u001b[0merror\u001b[0m\u001b[0;34m(\u001b[0m\u001b[0;34m\"User {} is not in the \u0027MLOps\u0027 group\"\u001b[0m\u001b[0;34m.\u001b[0m\u001b[0mformat\u001b[0m\u001b[0;34m(\u001b[0m\u001b[0mcurr_log_user\u001b[0m\u001b[0;34m)\u001b[0m\u001b[0;34m)\u001b[0m\u001b[0;34m\u001b[0m\u001b[0;34m\u001b[0m\u001b[0m\n\u001b[0;32m----\u003e 7\u001b[0;31m     \u001b[0;32mraise\u001b[0m \u001b[0mException\u001b[0m\u001b[0;34m(\u001b[0m\u001b[0;34m\"User {} is not in the \u0027MLOps\u0027 group\"\u001b[0m\u001b[0;34m.\u001b[0m\u001b[0mformat\u001b[0m\u001b[0;34m(\u001b[0m\u001b[0mcurr_log_user\u001b[0m\u001b[0;34m)\u001b[0m\u001b[0;34m)\u001b[0m\u001b[0;34m\u001b[0m\u001b[0;34m\u001b[0m\u001b[0m\n\u001b[0m\u001b[1;32m      8\u001b[0m \u001b[0;34m\u001b[0m\u001b[0m\n",
            "\u001b[0;31mException\u001b[0m: User admin is not in the \u0027MLOps\u0027 group"
          ]
        }
      ]
    },
    {
      "execution_count": 72,
      "cell_type": "code",
      "metadata": {},
      "source": [
        "project \u003d design_client.get_project(\"DSPIPELINEFRAUD\")"
      ],
      "outputs": []
    },
    {
      "execution_count": 73,
      "cell_type": "code",
      "metadata": {},
      "source": [
        "project_permissions \u003d project.get_permissions().get(\"permissions\")"
      ],
      "outputs": []
    },
    {
      "execution_count": 0,
      "cell_type": "code",
      "metadata": {},
      "source": [
        "dss_users \u003d design_client.list_users()\n\nuser_list \u003d []\n# Grab list of users where they have active web socket sessions\nfor user in dss_users:\n    if user[\u0027activeWebSocketSesssions\u0027] !\u003d 0:\n        user_list.append(user[\u0027displayName\u0027])\nprint(user_list)"
      ],
      "outputs": []
    },
    {
      "execution_count": 0,
      "cell_type": "code",
      "metadata": {},
      "source": [
        "dss_users"
      ],
      "outputs": []
    },
    {
      "execution_count": 18,
      "cell_type": "code",
      "metadata": {},
      "source": [
        "project_key \u003d project.project_key\nprint(project_key)"
      ],
      "outputs": [
        {
          "output_type": "stream",
          "text": "DSPIPELINEFRAUD\n",
          "name": "stdout"
        }
      ]
    },
    {
      "execution_count": 7,
      "cell_type": "code",
      "metadata": {},
      "source": [
        "#bundle_version_type \u003d config.get(\"bundle_version_type\", \"\")\nbundle_version_type \u003d \"minor\""
      ],
      "outputs": []
    },
    {
      "execution_count": 0,
      "cell_type": "code",
      "metadata": {},
      "source": [
        ""
      ],
      "outputs": []
    },
    {
      "execution_count": 8,
      "cell_type": "code",
      "metadata": {},
      "source": [
        "#exported_bundles \u003d [\"DSPIPELINEFRAUD_v1\", \"DSPIPELINEFRAUD_v1.1\", \"DSPIPELINEFRAUD_v1.2\", \"DSPIPELINEFRAUD_v2\", \"DSPIPELINEFRAUD_v2.1\"]"
      ],
      "outputs": []
    },
    {
      "execution_count": 34,
      "cell_type": "code",
      "metadata": {},
      "source": [
        "#version_id \u003d 1\nexported_bundles \u003d project.list_exported_bundles()[\u0027bundles\u0027]\nlist_bundles \u003d []\nfor bundles in exported_bundles:\n    list_bundles.append(bundles[\u0027bundleId\u0027])\nif len(list_bundles) \u003d\u003d 0: \n    if bundle_version_type \u003d\u003d \"major\":\n        version_id \u003d 1\n    elif bundle_version_type \u003d\u003d \"minor\":\n        raise Exception(\"This is the first time you deploy the project, it should be a major version!\") \nelif len(list_bundles) \u003e 0:\n    last_deployed_bundles \u003d list_bundles[-1]\n    last_version \u003d last_deployed_bundles.split(\u0027v\u0027)[1].split(\u0027_\u0027)\n    if bundle_version_type \u003d\u003d \"major\":\n        version_id \u003d int(last_version[0]) + 1\n    elif bundle_version_type \u003d\u003d \"minor\":\n        if len(last_version) \u003d\u003d 1:\n            version_id \u003d last_version[0] + \u0027_1\u0027\n        elif len(last_version) \u003d\u003d 2:\n            version_id \u003d last_version[0] + \u0027_\u0027 + str(int(last_version[1]) + 1)\n\nbundle_id \u003d project_key + \u0027_v\u0027 + str(version_id)"
      ],
      "outputs": []
    },
    {
      "execution_count": 35,
      "cell_type": "code",
      "metadata": {},
      "source": [
        "bundle_id"
      ],
      "outputs": [
        {
          "output_type": "execute_result",
          "execution_count": 35,
          "data": {
            "text/plain": "\u0027DSPIPELINEFRAUD_v1_2\u0027"
          },
          "metadata": {}
        }
      ]
    },
    {
      "execution_count": 25,
      "cell_type": "code",
      "metadata": {},
      "source": [
        "list_bundles \u003d list(set(list_bundles))"
      ],
      "outputs": []
    },
    {
      "execution_count": 26,
      "cell_type": "code",
      "metadata": {},
      "source": [
        "list_bundles"
      ],
      "outputs": [
        {
          "output_type": "execute_result",
          "execution_count": 26,
          "data": {
            "text/plain": "[\u0027DSPIPELINEFRAUD_v1\u0027, \u0027DSPIPELINEFRAUD_v1_1\u0027]"
          },
          "metadata": {}
        }
      ]
    },
    {
      "execution_count": 15,
      "cell_type": "code",
      "metadata": {},
      "source": [
        ""
      ],
      "outputs": [
        {
          "output_type": "execute_result",
          "execution_count": 15,
          "data": {
            "text/plain": "\u0027DSPIPELINEFRAUD_v1_1\u0027"
          },
          "metadata": {}
        }
      ]
    },
    {
      "execution_count": 37,
      "cell_type": "code",
      "metadata": {},
      "source": [
        "project.list_exported_bundles()"
      ],
      "outputs": [
        {
          "output_type": "execute_result",
          "execution_count": 37,
          "data": {
            "text/plain": "{\u0027bundles\u0027: [{\u0027bundleId\u0027: \u0027DSPIPELINEFRAUD_v2\u0027,\n   \u0027contentSummary\u0027: {\u0027allAnalysisData\u0027: False,\n    \u0027configContent\u0027: {\u0027analysis\u0027: 2,\n     \u0027dashboards\u0027: 3,\n     \u0027datasets\u0027: 24,\n     \u0027insights\u0027: 16,\n     \u0027jupyterNotebooks\u0027: 3,\n     \u0027managedFolders\u0027: 1,\n     \u0027modelEvaluationStores\u0027: 0,\n     \u0027recipes\u0027: 16,\n     \u0027savedModels\u0027: 1,\n     \u0027scenarios\u0027: 0,\n     \u0027sqlNotebooks\u0027: 0},\n    \u0027includedDatasets\u0027: [{\u0027name\u0027: \u0027transactions_2018\u0027,\n      \u0027size\u0027: 5404878,\n      \u0027type\u0027: \u0027UploadedFiles\u0027,\n      \u0027usedTransferMethod\u0027: \u0027UPLOAD\u0027},\n     {\u0027name\u0027: \u0027transactions_2017\u0027,\n      \u0027size\u0027: 7423251,\n      \u0027type\u0027: \u0027UploadedFiles\u0027,\n      \u0027usedTransferMethod\u0027: \u0027UPLOAD\u0027},\n     {\u0027name\u0027: \u0027merchant_info\u0027,\n      \u0027size\u0027: 3362746,\n      \u0027type\u0027: \u0027UploadedFiles\u0027,\n      \u0027usedTransferMethod\u0027: \u0027UPLOAD\u0027},\n     {\u0027name\u0027: \u0027cardholder_info\u0027,\n      \u0027size\u0027: 2543734,\n      \u0027type\u0027: \u0027UploadedFiles\u0027,\n      \u0027usedTransferMethod\u0027: \u0027UPLOAD\u0027}],\n    \u0027includedManagedFolders\u0027: [],\n    \u0027includedModelEvaluationStores\u0027: [],\n    \u0027includedSavedModels\u0027: [],\n    \u0027insightsData\u0027: False},\n   \u0027exportManifest\u0027: {\u0027actualContent\u0027: {\u0027allAnalysisData\u0027: False,\n     \u0027configContent\u0027: {\u0027analysis\u0027: 2,\n      \u0027dashboards\u0027: 3,\n      \u0027datasets\u0027: 24,\n      \u0027insights\u0027: 16,\n      \u0027jupyterNotebooks\u0027: 3,\n      \u0027managedFolders\u0027: 1,\n      \u0027modelEvaluationStores\u0027: 0,\n      \u0027recipes\u0027: 16,\n      \u0027savedModels\u0027: 1,\n      \u0027scenarios\u0027: 0,\n      \u0027sqlNotebooks\u0027: 0},\n     \u0027includedDatasets\u0027: [{\u0027name\u0027: \u0027transactions_2018\u0027,\n       \u0027size\u0027: 5404878,\n       \u0027type\u0027: \u0027UploadedFiles\u0027,\n       \u0027usedTransferMethod\u0027: \u0027UPLOAD\u0027},\n      {\u0027name\u0027: \u0027transactions_2017\u0027,\n       \u0027size\u0027: 7423251,\n       \u0027type\u0027: \u0027UploadedFiles\u0027,\n       \u0027usedTransferMethod\u0027: \u0027UPLOAD\u0027},\n      {\u0027name\u0027: \u0027merchant_info\u0027,\n       \u0027size\u0027: 3362746,\n       \u0027type\u0027: \u0027UploadedFiles\u0027,\n       \u0027usedTransferMethod\u0027: \u0027UPLOAD\u0027},\n      {\u0027name\u0027: \u0027cardholder_info\u0027,\n       \u0027size\u0027: 2543734,\n       \u0027type\u0027: \u0027UploadedFiles\u0027,\n       \u0027usedTransferMethod\u0027: \u0027UPLOAD\u0027}],\n     \u0027includedManagedFolders\u0027: [],\n     \u0027includedModelEvaluationStores\u0027: [],\n     \u0027includedSavedModels\u0027: [],\n     \u0027insightsData\u0027: False},\n    \u0027bundleId\u0027: \u0027DSPIPELINEFRAUD_v2\u0027,\n    \u0027exportUserInfo\u0027: {\u0027exportedBy\u0027: \u0027admin\u0027,\n     \u0027exportedOn\u0027: \u00272022-05-22T20:31:19.584+0200\u0027},\n    \u0027exportedWithOptions\u0027: {\u0027exportAllDatasets\u0027: False,\n     \u0027exportAllInputDatasets\u0027: False,\n     \u0027exportAllInputManagedFolders\u0027: False,\n     \u0027exportAnalysisModels\u0027: False,\n     \u0027exportGitRepository\u0027: False,\n     \u0027exportInsightsData\u0027: False,\n     \u0027exportManagedFS\u0027: False,\n     \u0027exportManagedFolders\u0027: False,\n     \u0027exportModelEvaluationStores\u0027: False,\n     \u0027exportSavedModels\u0027: False,\n     \u0027exportUploads\u0027: False,\n     \u0027includedDatasetsData\u0027: [{\u0027name\u0027: \u0027transactions_2018\u0027,\n       \u0027type\u0027: \u0027UploadedFiles\u0027},\n      {\u0027name\u0027: \u0027transactions_2017\u0027, \u0027type\u0027: \u0027UploadedFiles\u0027},\n      {\u0027name\u0027: \u0027merchant_info\u0027, \u0027type\u0027: \u0027UploadedFiles\u0027},\n      {\u0027name\u0027: \u0027cardholder_info\u0027, \u0027type\u0027: \u0027UploadedFiles\u0027}],\n     \u0027includedManagedFolders\u0027: [],\n     \u0027includedModelEvaluationStores\u0027: [],\n     \u0027includedSavedModels\u0027: [],\n     \u0027shareAllInputDatasets\u0027: False,\n     \u0027useManualPluginsInfo\u0027: False},\n    \u0027exportedWithPlugins\u0027: [{\u0027pluginId\u0027: \u0027geoadmin\u0027, \u0027version\u0027: \u00272.2.0\u0027},\n     {\u0027pluginId\u0027: \u0027nlp-preparation\u0027, \u0027version\u0027: \u00271.2.1\u0027},\n     {\u0027pluginId\u0027: \u0027shortcut2DPLY\u0027, \u0027version\u0027: \u00270.0.1\u0027},\n     {\u0027pluginId\u0027: \u0027local-r-dev-setup\u0027, \u0027version\u0027: \u00271.0.0\u0027},\n     {\u0027pluginId\u0027: \u0027anonymizer\u0027, \u0027version\u0027: \u00270.0.4\u0027},\n     {\u0027pluginId\u0027: \u0027model-error-analysis\u0027, \u0027version\u0027: \u00271.1.2\u0027},\n     {\u0027pluginId\u0027: \u0027geocoder\u0027, \u0027version\u0027: \u00271.2.0\u0027},\n     {\u0027pluginId\u0027: \u0027microsoft-power-bi-v2\u0027, \u0027version\u0027: \u00272.0.3\u0027},\n     {\u0027pluginId\u0027: \u0027model-fairness-report\u0027, \u0027version\u0027: \u00271.0.7\u0027},\n     {\u0027pluginId\u0027: \u0027google-cloud-nlp\u0027, \u0027version\u0027: \u00271.0.1\u0027},\n     {\u0027pluginId\u0027: \u0027plugin-example\u0027, \u0027version\u0027: \u00270.0.1\u0027},\n     {\u0027pluginId\u0027: \u0027named-entity-recognition\u0027, \u0027version\u0027: \u00271.3.4\u0027},\n     {\u0027pluginId\u0027: \u0027colorbrewer-palettes\u0027, \u0027version\u0027: \u00270.0.1\u0027},\n     {\u0027pluginId\u0027: \u0027cc-fraud-plugin\u0027, \u0027version\u0027: \u00270.0.1\u0027},\n     {\u0027pluginId\u0027: \u0027image-annotations-to-dataset\u0027, \u0027version\u0027: \u00271.0.0\u0027},\n     {\u0027pluginId\u0027: \u0027nlp-visualization\u0027, \u0027version\u0027: \u00271.0.0\u0027},\n     {\u0027pluginId\u0027: \u0027deeplearning-image\u0027, \u0027version\u0027: \u00272.0.2\u0027},\n     {\u0027pluginId\u0027: \u0027timeseries-forecast\u0027, \u0027version\u0027: \u00271.2.0\u0027},\n     {\u0027pluginId\u0027: \u0027builtin-macros\u0027, \u0027version\u0027: \u00271.0.0\u0027},\n     {\u0027pluginId\u0027: \u0027timeseries-preparation\u0027, \u0027version\u0027: \u00272.0.1\u0027},\n     {\u0027pluginId\u0027: \u0027k8s-metrics-utils\u0027, \u0027version\u0027: \u00271.0.0\u0027},\n     {\u0027pluginId\u0027: \u0027co2-converter\u0027, \u0027version\u0027: \u00271.0.0\u0027},\n     {\u0027pluginId\u0027: \u0027sentiment-analysis\u0027, \u0027version\u0027: \u00271.5.0\u0027},\n     {\u0027pluginId\u0027: \u0027ml-assisted-labeling\u0027, \u0027version\u0027: \u00274.0.0\u0027},\n     {\u0027pluginId\u0027: \u0027nlp-analysis\u0027, \u0027version\u0027: \u00270.1.0\u0027}],\n    \u0027generatedWithDSSConfVersion\u0027: \u002710040\u0027,\n    \u0027generatedWithDSSVersion\u0027: \u002710.0.4\u0027,\n    \u0027hasPartitionedDataset\u0027: False,\n    \u0027manifestVersion\u0027: 3,\n    \u0027originalProjectKey\u0027: \u0027DSPIPELINEFRAUD\u0027,\n    \u0027requiredConnections\u0027: {\u0027filesystem_folders\u0027: {\u0027name\u0027: \u0027filesystem_folders\u0027,\n      \u0027type\u0027: \u0027Filesystem\u0027},\n     \u0027postgre-local\u0027: {\u0027name\u0027: \u0027postgre-local\u0027, \u0027type\u0027: \u0027PostgreSQL\u0027}},\n    \u0027usedCodeEnvRefs\u0027: [{\u0027envLang\u0027: \u0027PYTHON\u0027, \u0027envName\u0027: \u0027Python36\u0027}]},\n   \u0027publishedBundleState\u0027: {\u0027publishedBy\u0027: \u0027admin\u0027,\n    \u0027publishedOn\u0027: 1653244283533,\n    \u0027publishedProjectKey\u0027: \u0027DSPIPELINEFRAUD\u0027},\n   \u0027state\u0027: \u0027BUILT\u0027},\n  {\u0027bundleId\u0027: \u0027DSPIPELINEFRAUD_v1_1\u0027,\n   \u0027contentSummary\u0027: {\u0027allAnalysisData\u0027: False,\n    \u0027configContent\u0027: {\u0027analysis\u0027: 2,\n     \u0027dashboards\u0027: 3,\n     \u0027datasets\u0027: 24,\n     \u0027insights\u0027: 16,\n     \u0027jupyterNotebooks\u0027: 3,\n     \u0027managedFolders\u0027: 1,\n     \u0027modelEvaluationStores\u0027: 0,\n     \u0027recipes\u0027: 16,\n     \u0027savedModels\u0027: 1,\n     \u0027scenarios\u0027: 0,\n     \u0027sqlNotebooks\u0027: 0},\n    \u0027includedDatasets\u0027: [{\u0027name\u0027: \u0027transactions_2018\u0027,\n      \u0027size\u0027: 5404878,\n      \u0027type\u0027: \u0027UploadedFiles\u0027,\n      \u0027usedTransferMethod\u0027: \u0027UPLOAD\u0027},\n     {\u0027name\u0027: \u0027transactions_2017\u0027,\n      \u0027size\u0027: 7423251,\n      \u0027type\u0027: \u0027UploadedFiles\u0027,\n      \u0027usedTransferMethod\u0027: \u0027UPLOAD\u0027},\n     {\u0027name\u0027: \u0027merchant_info\u0027,\n      \u0027size\u0027: 3362746,\n      \u0027type\u0027: \u0027UploadedFiles\u0027,\n      \u0027usedTransferMethod\u0027: \u0027UPLOAD\u0027},\n     {\u0027name\u0027: \u0027cardholder_info\u0027,\n      \u0027size\u0027: 2543734,\n      \u0027type\u0027: \u0027UploadedFiles\u0027,\n      \u0027usedTransferMethod\u0027: \u0027UPLOAD\u0027}],\n    \u0027includedManagedFolders\u0027: [],\n    \u0027includedModelEvaluationStores\u0027: [],\n    \u0027includedSavedModels\u0027: [],\n    \u0027insightsData\u0027: False},\n   \u0027exportManifest\u0027: {\u0027actualContent\u0027: {\u0027allAnalysisData\u0027: False,\n     \u0027configContent\u0027: {\u0027analysis\u0027: 2,\n      \u0027dashboards\u0027: 3,\n      \u0027datasets\u0027: 24,\n      \u0027insights\u0027: 16,\n      \u0027jupyterNotebooks\u0027: 3,\n      \u0027managedFolders\u0027: 1,\n      \u0027modelEvaluationStores\u0027: 0,\n      \u0027recipes\u0027: 16,\n      \u0027savedModels\u0027: 1,\n      \u0027scenarios\u0027: 0,\n      \u0027sqlNotebooks\u0027: 0},\n     \u0027includedDatasets\u0027: [{\u0027name\u0027: \u0027transactions_2018\u0027,\n       \u0027size\u0027: 5404878,\n       \u0027type\u0027: \u0027UploadedFiles\u0027,\n       \u0027usedTransferMethod\u0027: \u0027UPLOAD\u0027},\n      {\u0027name\u0027: \u0027transactions_2017\u0027,\n       \u0027size\u0027: 7423251,\n       \u0027type\u0027: \u0027UploadedFiles\u0027,\n       \u0027usedTransferMethod\u0027: \u0027UPLOAD\u0027},\n      {\u0027name\u0027: \u0027merchant_info\u0027,\n       \u0027size\u0027: 3362746,\n       \u0027type\u0027: \u0027UploadedFiles\u0027,\n       \u0027usedTransferMethod\u0027: \u0027UPLOAD\u0027},\n      {\u0027name\u0027: \u0027cardholder_info\u0027,\n       \u0027size\u0027: 2543734,\n       \u0027type\u0027: \u0027UploadedFiles\u0027,\n       \u0027usedTransferMethod\u0027: \u0027UPLOAD\u0027}],\n     \u0027includedManagedFolders\u0027: [],\n     \u0027includedModelEvaluationStores\u0027: [],\n     \u0027includedSavedModels\u0027: [],\n     \u0027insightsData\u0027: False},\n    \u0027bundleId\u0027: \u0027DSPIPELINEFRAUD_v1_1\u0027,\n    \u0027exportUserInfo\u0027: {\u0027exportedBy\u0027: \u0027admin\u0027,\n     \u0027exportedOn\u0027: \u00272022-05-22T20:10:33.479+0200\u0027},\n    \u0027exportedWithOptions\u0027: {\u0027exportAllDatasets\u0027: False,\n     \u0027exportAllInputDatasets\u0027: False,\n     \u0027exportAllInputManagedFolders\u0027: False,\n     \u0027exportAnalysisModels\u0027: False,\n     \u0027exportGitRepository\u0027: False,\n     \u0027exportInsightsData\u0027: False,\n     \u0027exportManagedFS\u0027: False,\n     \u0027exportManagedFolders\u0027: False,\n     \u0027exportModelEvaluationStores\u0027: False,\n     \u0027exportSavedModels\u0027: False,\n     \u0027exportUploads\u0027: False,\n     \u0027includedDatasetsData\u0027: [{\u0027name\u0027: \u0027transactions_2018\u0027,\n       \u0027type\u0027: \u0027UploadedFiles\u0027},\n      {\u0027name\u0027: \u0027transactions_2017\u0027, \u0027type\u0027: \u0027UploadedFiles\u0027},\n      {\u0027name\u0027: \u0027merchant_info\u0027, \u0027type\u0027: \u0027UploadedFiles\u0027},\n      {\u0027name\u0027: \u0027cardholder_info\u0027, \u0027type\u0027: \u0027UploadedFiles\u0027}],\n     \u0027includedManagedFolders\u0027: [],\n     \u0027includedModelEvaluationStores\u0027: [],\n     \u0027includedSavedModels\u0027: [],\n     \u0027shareAllInputDatasets\u0027: False,\n     \u0027useManualPluginsInfo\u0027: False},\n    \u0027exportedWithPlugins\u0027: [{\u0027pluginId\u0027: \u0027geoadmin\u0027, \u0027version\u0027: \u00272.2.0\u0027},\n     {\u0027pluginId\u0027: \u0027nlp-preparation\u0027, \u0027version\u0027: \u00271.2.1\u0027},\n     {\u0027pluginId\u0027: \u0027shortcut2DPLY\u0027, \u0027version\u0027: \u00270.0.1\u0027},\n     {\u0027pluginId\u0027: \u0027local-r-dev-setup\u0027, \u0027version\u0027: \u00271.0.0\u0027},\n     {\u0027pluginId\u0027: \u0027anonymizer\u0027, \u0027version\u0027: \u00270.0.4\u0027},\n     {\u0027pluginId\u0027: \u0027model-error-analysis\u0027, \u0027version\u0027: \u00271.1.2\u0027},\n     {\u0027pluginId\u0027: \u0027geocoder\u0027, \u0027version\u0027: \u00271.2.0\u0027},\n     {\u0027pluginId\u0027: \u0027microsoft-power-bi-v2\u0027, \u0027version\u0027: \u00272.0.3\u0027},\n     {\u0027pluginId\u0027: \u0027model-fairness-report\u0027, \u0027version\u0027: \u00271.0.7\u0027},\n     {\u0027pluginId\u0027: \u0027google-cloud-nlp\u0027, \u0027version\u0027: \u00271.0.1\u0027},\n     {\u0027pluginId\u0027: \u0027plugin-example\u0027, \u0027version\u0027: \u00270.0.1\u0027},\n     {\u0027pluginId\u0027: \u0027named-entity-recognition\u0027, \u0027version\u0027: \u00271.3.4\u0027},\n     {\u0027pluginId\u0027: \u0027colorbrewer-palettes\u0027, \u0027version\u0027: \u00270.0.1\u0027},\n     {\u0027pluginId\u0027: \u0027cc-fraud-plugin\u0027, \u0027version\u0027: \u00270.0.1\u0027},\n     {\u0027pluginId\u0027: \u0027image-annotations-to-dataset\u0027, \u0027version\u0027: \u00271.0.0\u0027},\n     {\u0027pluginId\u0027: \u0027nlp-visualization\u0027, \u0027version\u0027: \u00271.0.0\u0027},\n     {\u0027pluginId\u0027: \u0027deeplearning-image\u0027, \u0027version\u0027: \u00272.0.2\u0027},\n     {\u0027pluginId\u0027: \u0027timeseries-forecast\u0027, \u0027version\u0027: \u00271.2.0\u0027},\n     {\u0027pluginId\u0027: \u0027builtin-macros\u0027, \u0027version\u0027: \u00271.0.0\u0027},\n     {\u0027pluginId\u0027: \u0027timeseries-preparation\u0027, \u0027version\u0027: \u00272.0.1\u0027},\n     {\u0027pluginId\u0027: \u0027k8s-metrics-utils\u0027, \u0027version\u0027: \u00271.0.0\u0027},\n     {\u0027pluginId\u0027: \u0027co2-converter\u0027, \u0027version\u0027: \u00271.0.0\u0027},\n     {\u0027pluginId\u0027: \u0027sentiment-analysis\u0027, \u0027version\u0027: \u00271.5.0\u0027},\n     {\u0027pluginId\u0027: \u0027ml-assisted-labeling\u0027, \u0027version\u0027: \u00274.0.0\u0027},\n     {\u0027pluginId\u0027: \u0027nlp-analysis\u0027, \u0027version\u0027: \u00270.1.0\u0027}],\n    \u0027generatedWithDSSConfVersion\u0027: \u002710040\u0027,\n    \u0027generatedWithDSSVersion\u0027: \u002710.0.4\u0027,\n    \u0027hasPartitionedDataset\u0027: False,\n    \u0027manifestVersion\u0027: 3,\n    \u0027originalProjectKey\u0027: \u0027DSPIPELINEFRAUD\u0027,\n    \u0027requiredConnections\u0027: {\u0027filesystem_folders\u0027: {\u0027name\u0027: \u0027filesystem_folders\u0027,\n      \u0027type\u0027: \u0027Filesystem\u0027},\n     \u0027postgre-local\u0027: {\u0027name\u0027: \u0027postgre-local\u0027, \u0027type\u0027: \u0027PostgreSQL\u0027}},\n    \u0027usedCodeEnvRefs\u0027: [{\u0027envLang\u0027: \u0027PYTHON\u0027, \u0027envName\u0027: \u0027Python36\u0027}]},\n   \u0027publishedBundleState\u0027: {\u0027publishedBy\u0027: \u0027admin\u0027,\n    \u0027publishedOn\u0027: 1653243037435,\n    \u0027publishedProjectKey\u0027: \u0027DSPIPELINEFRAUD\u0027},\n   \u0027state\u0027: \u0027BUILT\u0027},\n  {\u0027bundleId\u0027: \u0027DSPIPELINEFRAUD_v1\u0027,\n   \u0027contentSummary\u0027: {\u0027allAnalysisData\u0027: False,\n    \u0027configContent\u0027: {\u0027analysis\u0027: 2,\n     \u0027dashboards\u0027: 3,\n     \u0027datasets\u0027: 24,\n     \u0027insights\u0027: 16,\n     \u0027jupyterNotebooks\u0027: 3,\n     \u0027managedFolders\u0027: 1,\n     \u0027modelEvaluationStores\u0027: 0,\n     \u0027recipes\u0027: 16,\n     \u0027savedModels\u0027: 1,\n     \u0027scenarios\u0027: 0,\n     \u0027sqlNotebooks\u0027: 0},\n    \u0027includedDatasets\u0027: [{\u0027name\u0027: \u0027transactions_2018\u0027,\n      \u0027size\u0027: 5404878,\n      \u0027type\u0027: \u0027UploadedFiles\u0027,\n      \u0027usedTransferMethod\u0027: \u0027UPLOAD\u0027},\n     {\u0027name\u0027: \u0027transactions_2017\u0027,\n      \u0027size\u0027: 7423251,\n      \u0027type\u0027: \u0027UploadedFiles\u0027,\n      \u0027usedTransferMethod\u0027: \u0027UPLOAD\u0027},\n     {\u0027name\u0027: \u0027merchant_info\u0027,\n      \u0027size\u0027: 3362746,\n      \u0027type\u0027: \u0027UploadedFiles\u0027,\n      \u0027usedTransferMethod\u0027: \u0027UPLOAD\u0027},\n     {\u0027name\u0027: \u0027cardholder_info\u0027,\n      \u0027size\u0027: 2543734,\n      \u0027type\u0027: \u0027UploadedFiles\u0027,\n      \u0027usedTransferMethod\u0027: \u0027UPLOAD\u0027}],\n    \u0027includedManagedFolders\u0027: [],\n    \u0027includedModelEvaluationStores\u0027: [],\n    \u0027includedSavedModels\u0027: [],\n    \u0027insightsData\u0027: False},\n   \u0027exportManifest\u0027: {\u0027actualContent\u0027: {\u0027allAnalysisData\u0027: False,\n     \u0027configContent\u0027: {\u0027analysis\u0027: 2,\n      \u0027dashboards\u0027: 3,\n      \u0027datasets\u0027: 24,\n      \u0027insights\u0027: 16,\n      \u0027jupyterNotebooks\u0027: 3,\n      \u0027managedFolders\u0027: 1,\n      \u0027modelEvaluationStores\u0027: 0,\n      \u0027recipes\u0027: 16,\n      \u0027savedModels\u0027: 1,\n      \u0027scenarios\u0027: 0,\n      \u0027sqlNotebooks\u0027: 0},\n     \u0027includedDatasets\u0027: [{\u0027name\u0027: \u0027transactions_2018\u0027,\n       \u0027size\u0027: 5404878,\n       \u0027type\u0027: \u0027UploadedFiles\u0027,\n       \u0027usedTransferMethod\u0027: \u0027UPLOAD\u0027},\n      {\u0027name\u0027: \u0027transactions_2017\u0027,\n       \u0027size\u0027: 7423251,\n       \u0027type\u0027: \u0027UploadedFiles\u0027,\n       \u0027usedTransferMethod\u0027: \u0027UPLOAD\u0027},\n      {\u0027name\u0027: \u0027merchant_info\u0027,\n       \u0027size\u0027: 3362746,\n       \u0027type\u0027: \u0027UploadedFiles\u0027,\n       \u0027usedTransferMethod\u0027: \u0027UPLOAD\u0027},\n      {\u0027name\u0027: \u0027cardholder_info\u0027,\n       \u0027size\u0027: 2543734,\n       \u0027type\u0027: \u0027UploadedFiles\u0027,\n       \u0027usedTransferMethod\u0027: \u0027UPLOAD\u0027}],\n     \u0027includedManagedFolders\u0027: [],\n     \u0027includedModelEvaluationStores\u0027: [],\n     \u0027includedSavedModels\u0027: [],\n     \u0027insightsData\u0027: False},\n    \u0027bundleId\u0027: \u0027DSPIPELINEFRAUD_v1\u0027,\n    \u0027exportUserInfo\u0027: {\u0027exportedBy\u0027: \u0027admin\u0027,\n     \u0027exportedOn\u0027: \u00272022-05-22T19:57:07.555+0200\u0027},\n    \u0027exportedWithOptions\u0027: {\u0027exportAllDatasets\u0027: False,\n     \u0027exportAllInputDatasets\u0027: False,\n     \u0027exportAllInputManagedFolders\u0027: False,\n     \u0027exportAnalysisModels\u0027: False,\n     \u0027exportGitRepository\u0027: False,\n     \u0027exportInsightsData\u0027: False,\n     \u0027exportManagedFS\u0027: False,\n     \u0027exportManagedFolders\u0027: False,\n     \u0027exportModelEvaluationStores\u0027: False,\n     \u0027exportSavedModels\u0027: False,\n     \u0027exportUploads\u0027: False,\n     \u0027includedDatasetsData\u0027: [{\u0027name\u0027: \u0027transactions_2018\u0027,\n       \u0027type\u0027: \u0027UploadedFiles\u0027},\n      {\u0027name\u0027: \u0027transactions_2017\u0027, \u0027type\u0027: \u0027UploadedFiles\u0027},\n      {\u0027name\u0027: \u0027merchant_info\u0027, \u0027type\u0027: \u0027UploadedFiles\u0027},\n      {\u0027name\u0027: \u0027cardholder_info\u0027, \u0027type\u0027: \u0027UploadedFiles\u0027}],\n     \u0027includedManagedFolders\u0027: [],\n     \u0027includedModelEvaluationStores\u0027: [],\n     \u0027includedSavedModels\u0027: [],\n     \u0027shareAllInputDatasets\u0027: False,\n     \u0027useManualPluginsInfo\u0027: False},\n    \u0027exportedWithPlugins\u0027: [{\u0027pluginId\u0027: \u0027geoadmin\u0027, \u0027version\u0027: \u00272.2.0\u0027},\n     {\u0027pluginId\u0027: \u0027nlp-preparation\u0027, \u0027version\u0027: \u00271.2.1\u0027},\n     {\u0027pluginId\u0027: \u0027shortcut2DPLY\u0027, \u0027version\u0027: \u00270.0.1\u0027},\n     {\u0027pluginId\u0027: \u0027local-r-dev-setup\u0027, \u0027version\u0027: \u00271.0.0\u0027},\n     {\u0027pluginId\u0027: \u0027anonymizer\u0027, \u0027version\u0027: \u00270.0.4\u0027},\n     {\u0027pluginId\u0027: \u0027model-error-analysis\u0027, \u0027version\u0027: \u00271.1.2\u0027},\n     {\u0027pluginId\u0027: \u0027geocoder\u0027, \u0027version\u0027: \u00271.2.0\u0027},\n     {\u0027pluginId\u0027: \u0027microsoft-power-bi-v2\u0027, \u0027version\u0027: \u00272.0.3\u0027},\n     {\u0027pluginId\u0027: \u0027model-fairness-report\u0027, \u0027version\u0027: \u00271.0.7\u0027},\n     {\u0027pluginId\u0027: \u0027google-cloud-nlp\u0027, \u0027version\u0027: \u00271.0.1\u0027},\n     {\u0027pluginId\u0027: \u0027plugin-example\u0027, \u0027version\u0027: \u00270.0.1\u0027},\n     {\u0027pluginId\u0027: \u0027named-entity-recognition\u0027, \u0027version\u0027: \u00271.3.4\u0027},\n     {\u0027pluginId\u0027: \u0027colorbrewer-palettes\u0027, \u0027version\u0027: \u00270.0.1\u0027},\n     {\u0027pluginId\u0027: \u0027cc-fraud-plugin\u0027, \u0027version\u0027: \u00270.0.1\u0027},\n     {\u0027pluginId\u0027: \u0027image-annotations-to-dataset\u0027, \u0027version\u0027: \u00271.0.0\u0027},\n     {\u0027pluginId\u0027: \u0027nlp-visualization\u0027, \u0027version\u0027: \u00271.0.0\u0027},\n     {\u0027pluginId\u0027: \u0027deeplearning-image\u0027, \u0027version\u0027: \u00272.0.2\u0027},\n     {\u0027pluginId\u0027: \u0027timeseries-forecast\u0027, \u0027version\u0027: \u00271.2.0\u0027},\n     {\u0027pluginId\u0027: \u0027builtin-macros\u0027, \u0027version\u0027: \u00271.0.0\u0027},\n     {\u0027pluginId\u0027: \u0027timeseries-preparation\u0027, \u0027version\u0027: \u00272.0.1\u0027},\n     {\u0027pluginId\u0027: \u0027k8s-metrics-utils\u0027, \u0027version\u0027: \u00271.0.0\u0027},\n     {\u0027pluginId\u0027: \u0027co2-converter\u0027, \u0027version\u0027: \u00271.0.0\u0027},\n     {\u0027pluginId\u0027: \u0027sentiment-analysis\u0027, \u0027version\u0027: \u00271.5.0\u0027},\n     {\u0027pluginId\u0027: \u0027ml-assisted-labeling\u0027, \u0027version\u0027: \u00274.0.0\u0027},\n     {\u0027pluginId\u0027: \u0027nlp-analysis\u0027, \u0027version\u0027: \u00270.1.0\u0027}],\n    \u0027generatedWithDSSConfVersion\u0027: \u002710040\u0027,\n    \u0027generatedWithDSSVersion\u0027: \u002710.0.4\u0027,\n    \u0027hasPartitionedDataset\u0027: False,\n    \u0027manifestVersion\u0027: 3,\n    \u0027originalProjectKey\u0027: \u0027DSPIPELINEFRAUD\u0027,\n    \u0027requiredConnections\u0027: {\u0027filesystem_folders\u0027: {\u0027name\u0027: \u0027filesystem_folders\u0027,\n      \u0027type\u0027: \u0027Filesystem\u0027},\n     \u0027postgre-local\u0027: {\u0027name\u0027: \u0027postgre-local\u0027, \u0027type\u0027: \u0027PostgreSQL\u0027}},\n    \u0027usedCodeEnvRefs\u0027: [{\u0027envLang\u0027: \u0027PYTHON\u0027, \u0027envName\u0027: \u0027Python36\u0027}]},\n   \u0027publishedBundleState\u0027: {\u0027publishedBy\u0027: \u0027admin\u0027,\n    \u0027publishedOn\u0027: 1653242232055,\n    \u0027publishedProjectKey\u0027: \u0027DSPIPELINEFRAUD\u0027},\n   \u0027state\u0027: \u0027BUILT\u0027},\n  {\u0027bundleId\u0027: \u0027DSPIPELINEFRAUD_v1_2\u0027,\n   \u0027contentSummary\u0027: {\u0027allAnalysisData\u0027: False,\n    \u0027configContent\u0027: {\u0027analysis\u0027: 2,\n     \u0027dashboards\u0027: 3,\n     \u0027datasets\u0027: 24,\n     \u0027insights\u0027: 16,\n     \u0027jupyterNotebooks\u0027: 3,\n     \u0027managedFolders\u0027: 1,\n     \u0027modelEvaluationStores\u0027: 0,\n     \u0027recipes\u0027: 16,\n     \u0027savedModels\u0027: 1,\n     \u0027scenarios\u0027: 0,\n     \u0027sqlNotebooks\u0027: 0},\n    \u0027includedDatasets\u0027: [{\u0027name\u0027: \u0027transactions_2018\u0027,\n      \u0027size\u0027: 5404878,\n      \u0027type\u0027: \u0027UploadedFiles\u0027,\n      \u0027usedTransferMethod\u0027: \u0027UPLOAD\u0027},\n     {\u0027name\u0027: \u0027transactions_2017\u0027,\n      \u0027size\u0027: 7423251,\n      \u0027type\u0027: \u0027UploadedFiles\u0027,\n      \u0027usedTransferMethod\u0027: \u0027UPLOAD\u0027},\n     {\u0027name\u0027: \u0027merchant_info\u0027,\n      \u0027size\u0027: 3362746,\n      \u0027type\u0027: \u0027UploadedFiles\u0027,\n      \u0027usedTransferMethod\u0027: \u0027UPLOAD\u0027},\n     {\u0027name\u0027: \u0027cardholder_info\u0027,\n      \u0027size\u0027: 2543734,\n      \u0027type\u0027: \u0027UploadedFiles\u0027,\n      \u0027usedTransferMethod\u0027: \u0027UPLOAD\u0027}],\n    \u0027includedManagedFolders\u0027: [],\n    \u0027includedModelEvaluationStores\u0027: [],\n    \u0027includedSavedModels\u0027: [],\n    \u0027insightsData\u0027: False},\n   \u0027exportManifest\u0027: {\u0027actualContent\u0027: {\u0027allAnalysisData\u0027: False,\n     \u0027configContent\u0027: {\u0027analysis\u0027: 2,\n      \u0027dashboards\u0027: 3,\n      \u0027datasets\u0027: 24,\n      \u0027insights\u0027: 16,\n      \u0027jupyterNotebooks\u0027: 3,\n      \u0027managedFolders\u0027: 1,\n      \u0027modelEvaluationStores\u0027: 0,\n      \u0027recipes\u0027: 16,\n      \u0027savedModels\u0027: 1,\n      \u0027scenarios\u0027: 0,\n      \u0027sqlNotebooks\u0027: 0},\n     \u0027includedDatasets\u0027: [{\u0027name\u0027: \u0027transactions_2018\u0027,\n       \u0027size\u0027: 5404878,\n       \u0027type\u0027: \u0027UploadedFiles\u0027,\n       \u0027usedTransferMethod\u0027: \u0027UPLOAD\u0027},\n      {\u0027name\u0027: \u0027transactions_2017\u0027,\n       \u0027size\u0027: 7423251,\n       \u0027type\u0027: \u0027UploadedFiles\u0027,\n       \u0027usedTransferMethod\u0027: \u0027UPLOAD\u0027},\n      {\u0027name\u0027: \u0027merchant_info\u0027,\n       \u0027size\u0027: 3362746,\n       \u0027type\u0027: \u0027UploadedFiles\u0027,\n       \u0027usedTransferMethod\u0027: \u0027UPLOAD\u0027},\n      {\u0027name\u0027: \u0027cardholder_info\u0027,\n       \u0027size\u0027: 2543734,\n       \u0027type\u0027: \u0027UploadedFiles\u0027,\n       \u0027usedTransferMethod\u0027: \u0027UPLOAD\u0027}],\n     \u0027includedManagedFolders\u0027: [],\n     \u0027includedModelEvaluationStores\u0027: [],\n     \u0027includedSavedModels\u0027: [],\n     \u0027insightsData\u0027: False},\n    \u0027bundleId\u0027: \u0027DSPIPELINEFRAUD_v1_2\u0027,\n    \u0027exportUserInfo\u0027: {\u0027exportedBy\u0027: \u0027admin\u0027,\n     \u0027exportedOn\u0027: \u00272022-05-22T20:27:35.611+0200\u0027},\n    \u0027exportedWithOptions\u0027: {\u0027exportAllDatasets\u0027: False,\n     \u0027exportAllInputDatasets\u0027: False,\n     \u0027exportAllInputManagedFolders\u0027: False,\n     \u0027exportAnalysisModels\u0027: False,\n     \u0027exportGitRepository\u0027: False,\n     \u0027exportInsightsData\u0027: False,\n     \u0027exportManagedFS\u0027: False,\n     \u0027exportManagedFolders\u0027: False,\n     \u0027exportModelEvaluationStores\u0027: False,\n     \u0027exportSavedModels\u0027: False,\n     \u0027exportUploads\u0027: False,\n     \u0027includedDatasetsData\u0027: [{\u0027name\u0027: \u0027transactions_2018\u0027,\n       \u0027type\u0027: \u0027UploadedFiles\u0027},\n      {\u0027name\u0027: \u0027transactions_2017\u0027, \u0027type\u0027: \u0027UploadedFiles\u0027},\n      {\u0027name\u0027: \u0027merchant_info\u0027, \u0027type\u0027: \u0027UploadedFiles\u0027},\n      {\u0027name\u0027: \u0027cardholder_info\u0027, \u0027type\u0027: \u0027UploadedFiles\u0027}],\n     \u0027includedManagedFolders\u0027: [],\n     \u0027includedModelEvaluationStores\u0027: [],\n     \u0027includedSavedModels\u0027: [],\n     \u0027shareAllInputDatasets\u0027: False,\n     \u0027useManualPluginsInfo\u0027: False},\n    \u0027exportedWithPlugins\u0027: [{\u0027pluginId\u0027: \u0027geoadmin\u0027, \u0027version\u0027: \u00272.2.0\u0027},\n     {\u0027pluginId\u0027: \u0027nlp-preparation\u0027, \u0027version\u0027: \u00271.2.1\u0027},\n     {\u0027pluginId\u0027: \u0027shortcut2DPLY\u0027, \u0027version\u0027: \u00270.0.1\u0027},\n     {\u0027pluginId\u0027: \u0027local-r-dev-setup\u0027, \u0027version\u0027: \u00271.0.0\u0027},\n     {\u0027pluginId\u0027: \u0027anonymizer\u0027, \u0027version\u0027: \u00270.0.4\u0027},\n     {\u0027pluginId\u0027: \u0027model-error-analysis\u0027, \u0027version\u0027: \u00271.1.2\u0027},\n     {\u0027pluginId\u0027: \u0027geocoder\u0027, \u0027version\u0027: \u00271.2.0\u0027},\n     {\u0027pluginId\u0027: \u0027microsoft-power-bi-v2\u0027, \u0027version\u0027: \u00272.0.3\u0027},\n     {\u0027pluginId\u0027: \u0027model-fairness-report\u0027, \u0027version\u0027: \u00271.0.7\u0027},\n     {\u0027pluginId\u0027: \u0027google-cloud-nlp\u0027, \u0027version\u0027: \u00271.0.1\u0027},\n     {\u0027pluginId\u0027: \u0027plugin-example\u0027, \u0027version\u0027: \u00270.0.1\u0027},\n     {\u0027pluginId\u0027: \u0027named-entity-recognition\u0027, \u0027version\u0027: \u00271.3.4\u0027},\n     {\u0027pluginId\u0027: \u0027colorbrewer-palettes\u0027, \u0027version\u0027: \u00270.0.1\u0027},\n     {\u0027pluginId\u0027: \u0027cc-fraud-plugin\u0027, \u0027version\u0027: \u00270.0.1\u0027},\n     {\u0027pluginId\u0027: \u0027image-annotations-to-dataset\u0027, \u0027version\u0027: \u00271.0.0\u0027},\n     {\u0027pluginId\u0027: \u0027nlp-visualization\u0027, \u0027version\u0027: \u00271.0.0\u0027},\n     {\u0027pluginId\u0027: \u0027deeplearning-image\u0027, \u0027version\u0027: \u00272.0.2\u0027},\n     {\u0027pluginId\u0027: \u0027timeseries-forecast\u0027, \u0027version\u0027: \u00271.2.0\u0027},\n     {\u0027pluginId\u0027: \u0027builtin-macros\u0027, \u0027version\u0027: \u00271.0.0\u0027},\n     {\u0027pluginId\u0027: \u0027timeseries-preparation\u0027, \u0027version\u0027: \u00272.0.1\u0027},\n     {\u0027pluginId\u0027: \u0027k8s-metrics-utils\u0027, \u0027version\u0027: \u00271.0.0\u0027},\n     {\u0027pluginId\u0027: \u0027co2-converter\u0027, \u0027version\u0027: \u00271.0.0\u0027},\n     {\u0027pluginId\u0027: \u0027sentiment-analysis\u0027, \u0027version\u0027: \u00271.5.0\u0027},\n     {\u0027pluginId\u0027: \u0027ml-assisted-labeling\u0027, \u0027version\u0027: \u00274.0.0\u0027},\n     {\u0027pluginId\u0027: \u0027nlp-analysis\u0027, \u0027version\u0027: \u00270.1.0\u0027}],\n    \u0027generatedWithDSSConfVersion\u0027: \u002710040\u0027,\n    \u0027generatedWithDSSVersion\u0027: \u002710.0.4\u0027,\n    \u0027hasPartitionedDataset\u0027: False,\n    \u0027manifestVersion\u0027: 3,\n    \u0027originalProjectKey\u0027: \u0027DSPIPELINEFRAUD\u0027,\n    \u0027requiredConnections\u0027: {\u0027filesystem_folders\u0027: {\u0027name\u0027: \u0027filesystem_folders\u0027,\n      \u0027type\u0027: \u0027Filesystem\u0027},\n     \u0027postgre-local\u0027: {\u0027name\u0027: \u0027postgre-local\u0027, \u0027type\u0027: \u0027PostgreSQL\u0027}},\n    \u0027usedCodeEnvRefs\u0027: [{\u0027envLang\u0027: \u0027PYTHON\u0027, \u0027envName\u0027: \u0027Python36\u0027}]},\n   \u0027publishedBundleState\u0027: {\u0027publishedBy\u0027: \u0027admin\u0027,\n    \u0027publishedOn\u0027: 1653244060020,\n    \u0027publishedProjectKey\u0027: \u0027DSPIPELINEFRAUD\u0027},\n   \u0027state\u0027: \u0027BUILT\u0027}]}"
          },
          "metadata": {}
        }
      ]
    },
    {
      "execution_count": 38,
      "cell_type": "code",
      "metadata": {},
      "source": [
        "host \u003d \"http://localhost:15000/\"\nauto_client \u003d dataikuapi.DSSClient(host, \"Da1cTKi0eO3VMUUvCq7TuIfSHRBzY3OA\") \nproject \u003d auto_client.get_project(\"DSPIPELINEFRAUD\")"
      ],
      "outputs": []
    },
    {
      "execution_count": 39,
      "cell_type": "code",
      "metadata": {},
      "source": [
        "project.list_imported_bundles()"
      ],
      "outputs": [
        {
          "output_type": "execute_result",
          "execution_count": 39,
          "data": {
            "text/plain": "{\u0027bundles\u0027: [{\u0027bundleId\u0027: \u0027DSPIPELINEFRAUD_v2\u0027,\n   \u0027contentSummary\u0027: {\u0027allAnalysisData\u0027: False,\n    \u0027configContent\u0027: {\u0027analysis\u0027: 2,\n     \u0027dashboards\u0027: 3,\n     \u0027datasets\u0027: 24,\n     \u0027insights\u0027: 16,\n     \u0027jupyterNotebooks\u0027: 3,\n     \u0027managedFolders\u0027: 1,\n     \u0027modelEvaluationStores\u0027: 0,\n     \u0027recipes\u0027: 16,\n     \u0027savedModels\u0027: 1,\n     \u0027scenarios\u0027: 0,\n     \u0027sqlNotebooks\u0027: 0},\n    \u0027includedDatasets\u0027: [{\u0027name\u0027: \u0027transactions_2018\u0027,\n      \u0027size\u0027: 5404878,\n      \u0027type\u0027: \u0027UploadedFiles\u0027,\n      \u0027usedTransferMethod\u0027: \u0027UPLOAD\u0027},\n     {\u0027name\u0027: \u0027transactions_2017\u0027,\n      \u0027size\u0027: 7423251,\n      \u0027type\u0027: \u0027UploadedFiles\u0027,\n      \u0027usedTransferMethod\u0027: \u0027UPLOAD\u0027},\n     {\u0027name\u0027: \u0027merchant_info\u0027,\n      \u0027size\u0027: 3362746,\n      \u0027type\u0027: \u0027UploadedFiles\u0027,\n      \u0027usedTransferMethod\u0027: \u0027UPLOAD\u0027},\n     {\u0027name\u0027: \u0027cardholder_info\u0027,\n      \u0027size\u0027: 2543734,\n      \u0027type\u0027: \u0027UploadedFiles\u0027,\n      \u0027usedTransferMethod\u0027: \u0027UPLOAD\u0027}],\n    \u0027includedManagedFolders\u0027: [],\n    \u0027includedModelEvaluationStores\u0027: [],\n    \u0027includedSavedModels\u0027: [],\n    \u0027insightsData\u0027: False},\n   \u0027exportManifest\u0027: {\u0027actualContent\u0027: {\u0027allAnalysisData\u0027: False,\n     \u0027configContent\u0027: {\u0027analysis\u0027: 2,\n      \u0027dashboards\u0027: 3,\n      \u0027datasets\u0027: 24,\n      \u0027insights\u0027: 16,\n      \u0027jupyterNotebooks\u0027: 3,\n      \u0027managedFolders\u0027: 1,\n      \u0027modelEvaluationStores\u0027: 0,\n      \u0027recipes\u0027: 16,\n      \u0027savedModels\u0027: 1,\n      \u0027scenarios\u0027: 0,\n      \u0027sqlNotebooks\u0027: 0},\n     \u0027includedDatasets\u0027: [{\u0027name\u0027: \u0027transactions_2018\u0027,\n       \u0027size\u0027: 5404878,\n       \u0027type\u0027: \u0027UploadedFiles\u0027,\n       \u0027usedTransferMethod\u0027: \u0027UPLOAD\u0027},\n      {\u0027name\u0027: \u0027transactions_2017\u0027,\n       \u0027size\u0027: 7423251,\n       \u0027type\u0027: \u0027UploadedFiles\u0027,\n       \u0027usedTransferMethod\u0027: \u0027UPLOAD\u0027},\n      {\u0027name\u0027: \u0027merchant_info\u0027,\n       \u0027size\u0027: 3362746,\n       \u0027type\u0027: \u0027UploadedFiles\u0027,\n       \u0027usedTransferMethod\u0027: \u0027UPLOAD\u0027},\n      {\u0027name\u0027: \u0027cardholder_info\u0027,\n       \u0027size\u0027: 2543734,\n       \u0027type\u0027: \u0027UploadedFiles\u0027,\n       \u0027usedTransferMethod\u0027: \u0027UPLOAD\u0027}],\n     \u0027includedManagedFolders\u0027: [],\n     \u0027includedModelEvaluationStores\u0027: [],\n     \u0027includedSavedModels\u0027: [],\n     \u0027insightsData\u0027: False},\n    \u0027bundleId\u0027: \u0027DSPIPELINEFRAUD_v2\u0027,\n    \u0027exportUserInfo\u0027: {\u0027exportedBy\u0027: \u0027admin\u0027,\n     \u0027exportedOn\u0027: \u00272022-05-22T20:31:19.584+0200\u0027},\n    \u0027exportedWithOptions\u0027: {\u0027exportAllDatasets\u0027: False,\n     \u0027exportAllInputDatasets\u0027: False,\n     \u0027exportAllInputManagedFolders\u0027: False,\n     \u0027exportAnalysisModels\u0027: False,\n     \u0027exportGitRepository\u0027: False,\n     \u0027exportInsightsData\u0027: False,\n     \u0027exportManagedFS\u0027: False,\n     \u0027exportManagedFolders\u0027: False,\n     \u0027exportModelEvaluationStores\u0027: False,\n     \u0027exportSavedModels\u0027: False,\n     \u0027exportUploads\u0027: False,\n     \u0027includedDatasetsData\u0027: [{\u0027name\u0027: \u0027transactions_2018\u0027,\n       \u0027type\u0027: \u0027UploadedFiles\u0027},\n      {\u0027name\u0027: \u0027transactions_2017\u0027, \u0027type\u0027: \u0027UploadedFiles\u0027},\n      {\u0027name\u0027: \u0027merchant_info\u0027, \u0027type\u0027: \u0027UploadedFiles\u0027},\n      {\u0027name\u0027: \u0027cardholder_info\u0027, \u0027type\u0027: \u0027UploadedFiles\u0027}],\n     \u0027includedManagedFolders\u0027: [],\n     \u0027includedModelEvaluationStores\u0027: [],\n     \u0027includedSavedModels\u0027: [],\n     \u0027shareAllInputDatasets\u0027: False,\n     \u0027useManualPluginsInfo\u0027: False},\n    \u0027exportedWithPlugins\u0027: [{\u0027pluginId\u0027: \u0027geoadmin\u0027, \u0027version\u0027: \u00272.2.0\u0027},\n     {\u0027pluginId\u0027: \u0027nlp-preparation\u0027, \u0027version\u0027: \u00271.2.1\u0027},\n     {\u0027pluginId\u0027: \u0027shortcut2DPLY\u0027, \u0027version\u0027: \u00270.0.1\u0027},\n     {\u0027pluginId\u0027: \u0027local-r-dev-setup\u0027, \u0027version\u0027: \u00271.0.0\u0027},\n     {\u0027pluginId\u0027: \u0027anonymizer\u0027, \u0027version\u0027: \u00270.0.4\u0027},\n     {\u0027pluginId\u0027: \u0027model-error-analysis\u0027, \u0027version\u0027: \u00271.1.2\u0027},\n     {\u0027pluginId\u0027: \u0027geocoder\u0027, \u0027version\u0027: \u00271.2.0\u0027},\n     {\u0027pluginId\u0027: \u0027microsoft-power-bi-v2\u0027, \u0027version\u0027: \u00272.0.3\u0027},\n     {\u0027pluginId\u0027: \u0027model-fairness-report\u0027, \u0027version\u0027: \u00271.0.7\u0027},\n     {\u0027pluginId\u0027: \u0027google-cloud-nlp\u0027, \u0027version\u0027: \u00271.0.1\u0027},\n     {\u0027pluginId\u0027: \u0027plugin-example\u0027, \u0027version\u0027: \u00270.0.1\u0027},\n     {\u0027pluginId\u0027: \u0027named-entity-recognition\u0027, \u0027version\u0027: \u00271.3.4\u0027},\n     {\u0027pluginId\u0027: \u0027colorbrewer-palettes\u0027, \u0027version\u0027: \u00270.0.1\u0027},\n     {\u0027pluginId\u0027: \u0027cc-fraud-plugin\u0027, \u0027version\u0027: \u00270.0.1\u0027},\n     {\u0027pluginId\u0027: \u0027image-annotations-to-dataset\u0027, \u0027version\u0027: \u00271.0.0\u0027},\n     {\u0027pluginId\u0027: \u0027nlp-visualization\u0027, \u0027version\u0027: \u00271.0.0\u0027},\n     {\u0027pluginId\u0027: \u0027deeplearning-image\u0027, \u0027version\u0027: \u00272.0.2\u0027},\n     {\u0027pluginId\u0027: \u0027timeseries-forecast\u0027, \u0027version\u0027: \u00271.2.0\u0027},\n     {\u0027pluginId\u0027: \u0027builtin-macros\u0027, \u0027version\u0027: \u00271.0.0\u0027},\n     {\u0027pluginId\u0027: \u0027timeseries-preparation\u0027, \u0027version\u0027: \u00272.0.1\u0027},\n     {\u0027pluginId\u0027: \u0027k8s-metrics-utils\u0027, \u0027version\u0027: \u00271.0.0\u0027},\n     {\u0027pluginId\u0027: \u0027co2-converter\u0027, \u0027version\u0027: \u00271.0.0\u0027},\n     {\u0027pluginId\u0027: \u0027sentiment-analysis\u0027, \u0027version\u0027: \u00271.5.0\u0027},\n     {\u0027pluginId\u0027: \u0027ml-assisted-labeling\u0027, \u0027version\u0027: \u00274.0.0\u0027},\n     {\u0027pluginId\u0027: \u0027nlp-analysis\u0027, \u0027version\u0027: \u00270.1.0\u0027}],\n    \u0027generatedWithDSSConfVersion\u0027: \u002710040\u0027,\n    \u0027generatedWithDSSVersion\u0027: \u002710.0.4\u0027,\n    \u0027hasPartitionedDataset\u0027: False,\n    \u0027manifestVersion\u0027: 3,\n    \u0027originalProjectKey\u0027: \u0027DSPIPELINEFRAUD\u0027,\n    \u0027requiredConnections\u0027: {\u0027filesystem_folders\u0027: {\u0027name\u0027: \u0027filesystem_folders\u0027,\n      \u0027type\u0027: \u0027Filesystem\u0027},\n     \u0027postgre-local\u0027: {\u0027name\u0027: \u0027postgre-local\u0027, \u0027type\u0027: \u0027PostgreSQL\u0027}},\n    \u0027usedCodeEnvRefs\u0027: [{\u0027envLang\u0027: \u0027PYTHON\u0027, \u0027envName\u0027: \u0027Python36\u0027}]},\n   \u0027importState\u0027: {\u0027importedBy\u0027: \u0027admin\u0027,\n    \u0027importedOn\u0027: \u00272022-05-22T20:31:24.091+0200\u0027}},\n  {\u0027bundleId\u0027: \u0027DSPIPELINEFRAUD_v1_1\u0027,\n   \u0027contentSummary\u0027: {\u0027allAnalysisData\u0027: False,\n    \u0027configContent\u0027: {\u0027analysis\u0027: 2,\n     \u0027dashboards\u0027: 3,\n     \u0027datasets\u0027: 24,\n     \u0027insights\u0027: 16,\n     \u0027jupyterNotebooks\u0027: 3,\n     \u0027managedFolders\u0027: 1,\n     \u0027modelEvaluationStores\u0027: 0,\n     \u0027recipes\u0027: 16,\n     \u0027savedModels\u0027: 1,\n     \u0027scenarios\u0027: 0,\n     \u0027sqlNotebooks\u0027: 0},\n    \u0027includedDatasets\u0027: [{\u0027name\u0027: \u0027transactions_2018\u0027,\n      \u0027size\u0027: 5404878,\n      \u0027type\u0027: \u0027UploadedFiles\u0027,\n      \u0027usedTransferMethod\u0027: \u0027UPLOAD\u0027},\n     {\u0027name\u0027: \u0027transactions_2017\u0027,\n      \u0027size\u0027: 7423251,\n      \u0027type\u0027: \u0027UploadedFiles\u0027,\n      \u0027usedTransferMethod\u0027: \u0027UPLOAD\u0027},\n     {\u0027name\u0027: \u0027merchant_info\u0027,\n      \u0027size\u0027: 3362746,\n      \u0027type\u0027: \u0027UploadedFiles\u0027,\n      \u0027usedTransferMethod\u0027: \u0027UPLOAD\u0027},\n     {\u0027name\u0027: \u0027cardholder_info\u0027,\n      \u0027size\u0027: 2543734,\n      \u0027type\u0027: \u0027UploadedFiles\u0027,\n      \u0027usedTransferMethod\u0027: \u0027UPLOAD\u0027}],\n    \u0027includedManagedFolders\u0027: [],\n    \u0027includedModelEvaluationStores\u0027: [],\n    \u0027includedSavedModels\u0027: [],\n    \u0027insightsData\u0027: False},\n   \u0027exportManifest\u0027: {\u0027actualContent\u0027: {\u0027allAnalysisData\u0027: False,\n     \u0027configContent\u0027: {\u0027analysis\u0027: 2,\n      \u0027dashboards\u0027: 3,\n      \u0027datasets\u0027: 24,\n      \u0027insights\u0027: 16,\n      \u0027jupyterNotebooks\u0027: 3,\n      \u0027managedFolders\u0027: 1,\n      \u0027modelEvaluationStores\u0027: 0,\n      \u0027recipes\u0027: 16,\n      \u0027savedModels\u0027: 1,\n      \u0027scenarios\u0027: 0,\n      \u0027sqlNotebooks\u0027: 0},\n     \u0027includedDatasets\u0027: [{\u0027name\u0027: \u0027transactions_2018\u0027,\n       \u0027size\u0027: 5404878,\n       \u0027type\u0027: \u0027UploadedFiles\u0027,\n       \u0027usedTransferMethod\u0027: \u0027UPLOAD\u0027},\n      {\u0027name\u0027: \u0027transactions_2017\u0027,\n       \u0027size\u0027: 7423251,\n       \u0027type\u0027: \u0027UploadedFiles\u0027,\n       \u0027usedTransferMethod\u0027: \u0027UPLOAD\u0027},\n      {\u0027name\u0027: \u0027merchant_info\u0027,\n       \u0027size\u0027: 3362746,\n       \u0027type\u0027: \u0027UploadedFiles\u0027,\n       \u0027usedTransferMethod\u0027: \u0027UPLOAD\u0027},\n      {\u0027name\u0027: \u0027cardholder_info\u0027,\n       \u0027size\u0027: 2543734,\n       \u0027type\u0027: \u0027UploadedFiles\u0027,\n       \u0027usedTransferMethod\u0027: \u0027UPLOAD\u0027}],\n     \u0027includedManagedFolders\u0027: [],\n     \u0027includedModelEvaluationStores\u0027: [],\n     \u0027includedSavedModels\u0027: [],\n     \u0027insightsData\u0027: False},\n    \u0027bundleId\u0027: \u0027DSPIPELINEFRAUD_v1_1\u0027,\n    \u0027exportUserInfo\u0027: {\u0027exportedBy\u0027: \u0027admin\u0027,\n     \u0027exportedOn\u0027: \u00272022-05-22T20:10:33.479+0200\u0027},\n    \u0027exportedWithOptions\u0027: {\u0027exportAllDatasets\u0027: False,\n     \u0027exportAllInputDatasets\u0027: False,\n     \u0027exportAllInputManagedFolders\u0027: False,\n     \u0027exportAnalysisModels\u0027: False,\n     \u0027exportGitRepository\u0027: False,\n     \u0027exportInsightsData\u0027: False,\n     \u0027exportManagedFS\u0027: False,\n     \u0027exportManagedFolders\u0027: False,\n     \u0027exportModelEvaluationStores\u0027: False,\n     \u0027exportSavedModels\u0027: False,\n     \u0027exportUploads\u0027: False,\n     \u0027includedDatasetsData\u0027: [{\u0027name\u0027: \u0027transactions_2018\u0027,\n       \u0027type\u0027: \u0027UploadedFiles\u0027},\n      {\u0027name\u0027: \u0027transactions_2017\u0027, \u0027type\u0027: \u0027UploadedFiles\u0027},\n      {\u0027name\u0027: \u0027merchant_info\u0027, \u0027type\u0027: \u0027UploadedFiles\u0027},\n      {\u0027name\u0027: \u0027cardholder_info\u0027, \u0027type\u0027: \u0027UploadedFiles\u0027}],\n     \u0027includedManagedFolders\u0027: [],\n     \u0027includedModelEvaluationStores\u0027: [],\n     \u0027includedSavedModels\u0027: [],\n     \u0027shareAllInputDatasets\u0027: False,\n     \u0027useManualPluginsInfo\u0027: False},\n    \u0027exportedWithPlugins\u0027: [{\u0027pluginId\u0027: \u0027geoadmin\u0027, \u0027version\u0027: \u00272.2.0\u0027},\n     {\u0027pluginId\u0027: \u0027nlp-preparation\u0027, \u0027version\u0027: \u00271.2.1\u0027},\n     {\u0027pluginId\u0027: \u0027shortcut2DPLY\u0027, \u0027version\u0027: \u00270.0.1\u0027},\n     {\u0027pluginId\u0027: \u0027local-r-dev-setup\u0027, \u0027version\u0027: \u00271.0.0\u0027},\n     {\u0027pluginId\u0027: \u0027anonymizer\u0027, \u0027version\u0027: \u00270.0.4\u0027},\n     {\u0027pluginId\u0027: \u0027model-error-analysis\u0027, \u0027version\u0027: \u00271.1.2\u0027},\n     {\u0027pluginId\u0027: \u0027geocoder\u0027, \u0027version\u0027: \u00271.2.0\u0027},\n     {\u0027pluginId\u0027: \u0027microsoft-power-bi-v2\u0027, \u0027version\u0027: \u00272.0.3\u0027},\n     {\u0027pluginId\u0027: \u0027model-fairness-report\u0027, \u0027version\u0027: \u00271.0.7\u0027},\n     {\u0027pluginId\u0027: \u0027google-cloud-nlp\u0027, \u0027version\u0027: \u00271.0.1\u0027},\n     {\u0027pluginId\u0027: \u0027plugin-example\u0027, \u0027version\u0027: \u00270.0.1\u0027},\n     {\u0027pluginId\u0027: \u0027named-entity-recognition\u0027, \u0027version\u0027: \u00271.3.4\u0027},\n     {\u0027pluginId\u0027: \u0027colorbrewer-palettes\u0027, \u0027version\u0027: \u00270.0.1\u0027},\n     {\u0027pluginId\u0027: \u0027cc-fraud-plugin\u0027, \u0027version\u0027: \u00270.0.1\u0027},\n     {\u0027pluginId\u0027: \u0027image-annotations-to-dataset\u0027, \u0027version\u0027: \u00271.0.0\u0027},\n     {\u0027pluginId\u0027: \u0027nlp-visualization\u0027, \u0027version\u0027: \u00271.0.0\u0027},\n     {\u0027pluginId\u0027: \u0027deeplearning-image\u0027, \u0027version\u0027: \u00272.0.2\u0027},\n     {\u0027pluginId\u0027: \u0027timeseries-forecast\u0027, \u0027version\u0027: \u00271.2.0\u0027},\n     {\u0027pluginId\u0027: \u0027builtin-macros\u0027, \u0027version\u0027: \u00271.0.0\u0027},\n     {\u0027pluginId\u0027: \u0027timeseries-preparation\u0027, \u0027version\u0027: \u00272.0.1\u0027},\n     {\u0027pluginId\u0027: \u0027k8s-metrics-utils\u0027, \u0027version\u0027: \u00271.0.0\u0027},\n     {\u0027pluginId\u0027: \u0027co2-converter\u0027, \u0027version\u0027: \u00271.0.0\u0027},\n     {\u0027pluginId\u0027: \u0027sentiment-analysis\u0027, \u0027version\u0027: \u00271.5.0\u0027},\n     {\u0027pluginId\u0027: \u0027ml-assisted-labeling\u0027, \u0027version\u0027: \u00274.0.0\u0027},\n     {\u0027pluginId\u0027: \u0027nlp-analysis\u0027, \u0027version\u0027: \u00270.1.0\u0027}],\n    \u0027generatedWithDSSConfVersion\u0027: \u002710040\u0027,\n    \u0027generatedWithDSSVersion\u0027: \u002710.0.4\u0027,\n    \u0027hasPartitionedDataset\u0027: False,\n    \u0027manifestVersion\u0027: 3,\n    \u0027originalProjectKey\u0027: \u0027DSPIPELINEFRAUD\u0027,\n    \u0027requiredConnections\u0027: {\u0027filesystem_folders\u0027: {\u0027name\u0027: \u0027filesystem_folders\u0027,\n      \u0027type\u0027: \u0027Filesystem\u0027},\n     \u0027postgre-local\u0027: {\u0027name\u0027: \u0027postgre-local\u0027, \u0027type\u0027: \u0027PostgreSQL\u0027}},\n    \u0027usedCodeEnvRefs\u0027: [{\u0027envLang\u0027: \u0027PYTHON\u0027, \u0027envName\u0027: \u0027Python36\u0027}]},\n   \u0027importState\u0027: {\u0027importedBy\u0027: \u0027admin\u0027,\n    \u0027importedOn\u0027: \u00272022-05-22T20:10:38.032+0200\u0027}},\n  {\u0027bundleId\u0027: \u0027DSPIPELINEFRAUD_v1\u0027,\n   \u0027contentSummary\u0027: {\u0027allAnalysisData\u0027: False,\n    \u0027configContent\u0027: {\u0027analysis\u0027: 2,\n     \u0027dashboards\u0027: 3,\n     \u0027datasets\u0027: 24,\n     \u0027insights\u0027: 16,\n     \u0027jupyterNotebooks\u0027: 3,\n     \u0027managedFolders\u0027: 1,\n     \u0027modelEvaluationStores\u0027: 0,\n     \u0027recipes\u0027: 16,\n     \u0027savedModels\u0027: 1,\n     \u0027scenarios\u0027: 0,\n     \u0027sqlNotebooks\u0027: 0},\n    \u0027includedDatasets\u0027: [{\u0027name\u0027: \u0027transactions_2018\u0027,\n      \u0027size\u0027: 5404878,\n      \u0027type\u0027: \u0027UploadedFiles\u0027,\n      \u0027usedTransferMethod\u0027: \u0027UPLOAD\u0027},\n     {\u0027name\u0027: \u0027transactions_2017\u0027,\n      \u0027size\u0027: 7423251,\n      \u0027type\u0027: \u0027UploadedFiles\u0027,\n      \u0027usedTransferMethod\u0027: \u0027UPLOAD\u0027},\n     {\u0027name\u0027: \u0027merchant_info\u0027,\n      \u0027size\u0027: 3362746,\n      \u0027type\u0027: \u0027UploadedFiles\u0027,\n      \u0027usedTransferMethod\u0027: \u0027UPLOAD\u0027},\n     {\u0027name\u0027: \u0027cardholder_info\u0027,\n      \u0027size\u0027: 2543734,\n      \u0027type\u0027: \u0027UploadedFiles\u0027,\n      \u0027usedTransferMethod\u0027: \u0027UPLOAD\u0027}],\n    \u0027includedManagedFolders\u0027: [],\n    \u0027includedModelEvaluationStores\u0027: [],\n    \u0027includedSavedModels\u0027: [],\n    \u0027insightsData\u0027: False},\n   \u0027exportManifest\u0027: {\u0027actualContent\u0027: {\u0027allAnalysisData\u0027: False,\n     \u0027configContent\u0027: {\u0027analysis\u0027: 2,\n      \u0027dashboards\u0027: 3,\n      \u0027datasets\u0027: 24,\n      \u0027insights\u0027: 16,\n      \u0027jupyterNotebooks\u0027: 3,\n      \u0027managedFolders\u0027: 1,\n      \u0027modelEvaluationStores\u0027: 0,\n      \u0027recipes\u0027: 16,\n      \u0027savedModels\u0027: 1,\n      \u0027scenarios\u0027: 0,\n      \u0027sqlNotebooks\u0027: 0},\n     \u0027includedDatasets\u0027: [{\u0027name\u0027: \u0027transactions_2018\u0027,\n       \u0027size\u0027: 5404878,\n       \u0027type\u0027: \u0027UploadedFiles\u0027,\n       \u0027usedTransferMethod\u0027: \u0027UPLOAD\u0027},\n      {\u0027name\u0027: \u0027transactions_2017\u0027,\n       \u0027size\u0027: 7423251,\n       \u0027type\u0027: \u0027UploadedFiles\u0027,\n       \u0027usedTransferMethod\u0027: \u0027UPLOAD\u0027},\n      {\u0027name\u0027: \u0027merchant_info\u0027,\n       \u0027size\u0027: 3362746,\n       \u0027type\u0027: \u0027UploadedFiles\u0027,\n       \u0027usedTransferMethod\u0027: \u0027UPLOAD\u0027},\n      {\u0027name\u0027: \u0027cardholder_info\u0027,\n       \u0027size\u0027: 2543734,\n       \u0027type\u0027: \u0027UploadedFiles\u0027,\n       \u0027usedTransferMethod\u0027: \u0027UPLOAD\u0027}],\n     \u0027includedManagedFolders\u0027: [],\n     \u0027includedModelEvaluationStores\u0027: [],\n     \u0027includedSavedModels\u0027: [],\n     \u0027insightsData\u0027: False},\n    \u0027bundleId\u0027: \u0027DSPIPELINEFRAUD_v1\u0027,\n    \u0027exportUserInfo\u0027: {\u0027exportedBy\u0027: \u0027admin\u0027,\n     \u0027exportedOn\u0027: \u00272022-05-22T19:57:07.555+0200\u0027},\n    \u0027exportedWithOptions\u0027: {\u0027exportAllDatasets\u0027: False,\n     \u0027exportAllInputDatasets\u0027: False,\n     \u0027exportAllInputManagedFolders\u0027: False,\n     \u0027exportAnalysisModels\u0027: False,\n     \u0027exportGitRepository\u0027: False,\n     \u0027exportInsightsData\u0027: False,\n     \u0027exportManagedFS\u0027: False,\n     \u0027exportManagedFolders\u0027: False,\n     \u0027exportModelEvaluationStores\u0027: False,\n     \u0027exportSavedModels\u0027: False,\n     \u0027exportUploads\u0027: False,\n     \u0027includedDatasetsData\u0027: [{\u0027name\u0027: \u0027transactions_2018\u0027,\n       \u0027type\u0027: \u0027UploadedFiles\u0027},\n      {\u0027name\u0027: \u0027transactions_2017\u0027, \u0027type\u0027: \u0027UploadedFiles\u0027},\n      {\u0027name\u0027: \u0027merchant_info\u0027, \u0027type\u0027: \u0027UploadedFiles\u0027},\n      {\u0027name\u0027: \u0027cardholder_info\u0027, \u0027type\u0027: \u0027UploadedFiles\u0027}],\n     \u0027includedManagedFolders\u0027: [],\n     \u0027includedModelEvaluationStores\u0027: [],\n     \u0027includedSavedModels\u0027: [],\n     \u0027shareAllInputDatasets\u0027: False,\n     \u0027useManualPluginsInfo\u0027: False},\n    \u0027exportedWithPlugins\u0027: [{\u0027pluginId\u0027: \u0027geoadmin\u0027, \u0027version\u0027: \u00272.2.0\u0027},\n     {\u0027pluginId\u0027: \u0027nlp-preparation\u0027, \u0027version\u0027: \u00271.2.1\u0027},\n     {\u0027pluginId\u0027: \u0027shortcut2DPLY\u0027, \u0027version\u0027: \u00270.0.1\u0027},\n     {\u0027pluginId\u0027: \u0027local-r-dev-setup\u0027, \u0027version\u0027: \u00271.0.0\u0027},\n     {\u0027pluginId\u0027: \u0027anonymizer\u0027, \u0027version\u0027: \u00270.0.4\u0027},\n     {\u0027pluginId\u0027: \u0027model-error-analysis\u0027, \u0027version\u0027: \u00271.1.2\u0027},\n     {\u0027pluginId\u0027: \u0027geocoder\u0027, \u0027version\u0027: \u00271.2.0\u0027},\n     {\u0027pluginId\u0027: \u0027microsoft-power-bi-v2\u0027, \u0027version\u0027: \u00272.0.3\u0027},\n     {\u0027pluginId\u0027: \u0027model-fairness-report\u0027, \u0027version\u0027: \u00271.0.7\u0027},\n     {\u0027pluginId\u0027: \u0027google-cloud-nlp\u0027, \u0027version\u0027: \u00271.0.1\u0027},\n     {\u0027pluginId\u0027: \u0027plugin-example\u0027, \u0027version\u0027: \u00270.0.1\u0027},\n     {\u0027pluginId\u0027: \u0027named-entity-recognition\u0027, \u0027version\u0027: \u00271.3.4\u0027},\n     {\u0027pluginId\u0027: \u0027colorbrewer-palettes\u0027, \u0027version\u0027: \u00270.0.1\u0027},\n     {\u0027pluginId\u0027: \u0027cc-fraud-plugin\u0027, \u0027version\u0027: \u00270.0.1\u0027},\n     {\u0027pluginId\u0027: \u0027image-annotations-to-dataset\u0027, \u0027version\u0027: \u00271.0.0\u0027},\n     {\u0027pluginId\u0027: \u0027nlp-visualization\u0027, \u0027version\u0027: \u00271.0.0\u0027},\n     {\u0027pluginId\u0027: \u0027deeplearning-image\u0027, \u0027version\u0027: \u00272.0.2\u0027},\n     {\u0027pluginId\u0027: \u0027timeseries-forecast\u0027, \u0027version\u0027: \u00271.2.0\u0027},\n     {\u0027pluginId\u0027: \u0027builtin-macros\u0027, \u0027version\u0027: \u00271.0.0\u0027},\n     {\u0027pluginId\u0027: \u0027timeseries-preparation\u0027, \u0027version\u0027: \u00272.0.1\u0027},\n     {\u0027pluginId\u0027: \u0027k8s-metrics-utils\u0027, \u0027version\u0027: \u00271.0.0\u0027},\n     {\u0027pluginId\u0027: \u0027co2-converter\u0027, \u0027version\u0027: \u00271.0.0\u0027},\n     {\u0027pluginId\u0027: \u0027sentiment-analysis\u0027, \u0027version\u0027: \u00271.5.0\u0027},\n     {\u0027pluginId\u0027: \u0027ml-assisted-labeling\u0027, \u0027version\u0027: \u00274.0.0\u0027},\n     {\u0027pluginId\u0027: \u0027nlp-analysis\u0027, \u0027version\u0027: \u00270.1.0\u0027}],\n    \u0027generatedWithDSSConfVersion\u0027: \u002710040\u0027,\n    \u0027generatedWithDSSVersion\u0027: \u002710.0.4\u0027,\n    \u0027hasPartitionedDataset\u0027: False,\n    \u0027manifestVersion\u0027: 3,\n    \u0027originalProjectKey\u0027: \u0027DSPIPELINEFRAUD\u0027,\n    \u0027requiredConnections\u0027: {\u0027filesystem_folders\u0027: {\u0027name\u0027: \u0027filesystem_folders\u0027,\n      \u0027type\u0027: \u0027Filesystem\u0027},\n     \u0027postgre-local\u0027: {\u0027name\u0027: \u0027postgre-local\u0027, \u0027type\u0027: \u0027PostgreSQL\u0027}},\n    \u0027usedCodeEnvRefs\u0027: [{\u0027envLang\u0027: \u0027PYTHON\u0027, \u0027envName\u0027: \u0027Python36\u0027}]},\n   \u0027importState\u0027: {\u0027importedBy\u0027: \u0027admin\u0027,\n    \u0027importedOn\u0027: \u00272022-05-22T19:57:12.701+0200\u0027}},\n  {\u0027bundleId\u0027: \u0027DSPIPELINEFRAUD_v1_2\u0027,\n   \u0027contentSummary\u0027: {\u0027allAnalysisData\u0027: False,\n    \u0027configContent\u0027: {\u0027analysis\u0027: 2,\n     \u0027dashboards\u0027: 3,\n     \u0027datasets\u0027: 24,\n     \u0027insights\u0027: 16,\n     \u0027jupyterNotebooks\u0027: 3,\n     \u0027managedFolders\u0027: 1,\n     \u0027modelEvaluationStores\u0027: 0,\n     \u0027recipes\u0027: 16,\n     \u0027savedModels\u0027: 1,\n     \u0027scenarios\u0027: 0,\n     \u0027sqlNotebooks\u0027: 0},\n    \u0027includedDatasets\u0027: [{\u0027name\u0027: \u0027transactions_2018\u0027,\n      \u0027size\u0027: 5404878,\n      \u0027type\u0027: \u0027UploadedFiles\u0027,\n      \u0027usedTransferMethod\u0027: \u0027UPLOAD\u0027},\n     {\u0027name\u0027: \u0027transactions_2017\u0027,\n      \u0027size\u0027: 7423251,\n      \u0027type\u0027: \u0027UploadedFiles\u0027,\n      \u0027usedTransferMethod\u0027: \u0027UPLOAD\u0027},\n     {\u0027name\u0027: \u0027merchant_info\u0027,\n      \u0027size\u0027: 3362746,\n      \u0027type\u0027: \u0027UploadedFiles\u0027,\n      \u0027usedTransferMethod\u0027: \u0027UPLOAD\u0027},\n     {\u0027name\u0027: \u0027cardholder_info\u0027,\n      \u0027size\u0027: 2543734,\n      \u0027type\u0027: \u0027UploadedFiles\u0027,\n      \u0027usedTransferMethod\u0027: \u0027UPLOAD\u0027}],\n    \u0027includedManagedFolders\u0027: [],\n    \u0027includedModelEvaluationStores\u0027: [],\n    \u0027includedSavedModels\u0027: [],\n    \u0027insightsData\u0027: False},\n   \u0027exportManifest\u0027: {\u0027actualContent\u0027: {\u0027allAnalysisData\u0027: False,\n     \u0027configContent\u0027: {\u0027analysis\u0027: 2,\n      \u0027dashboards\u0027: 3,\n      \u0027datasets\u0027: 24,\n      \u0027insights\u0027: 16,\n      \u0027jupyterNotebooks\u0027: 3,\n      \u0027managedFolders\u0027: 1,\n      \u0027modelEvaluationStores\u0027: 0,\n      \u0027recipes\u0027: 16,\n      \u0027savedModels\u0027: 1,\n      \u0027scenarios\u0027: 0,\n      \u0027sqlNotebooks\u0027: 0},\n     \u0027includedDatasets\u0027: [{\u0027name\u0027: \u0027transactions_2018\u0027,\n       \u0027size\u0027: 5404878,\n       \u0027type\u0027: \u0027UploadedFiles\u0027,\n       \u0027usedTransferMethod\u0027: \u0027UPLOAD\u0027},\n      {\u0027name\u0027: \u0027transactions_2017\u0027,\n       \u0027size\u0027: 7423251,\n       \u0027type\u0027: \u0027UploadedFiles\u0027,\n       \u0027usedTransferMethod\u0027: \u0027UPLOAD\u0027},\n      {\u0027name\u0027: \u0027merchant_info\u0027,\n       \u0027size\u0027: 3362746,\n       \u0027type\u0027: \u0027UploadedFiles\u0027,\n       \u0027usedTransferMethod\u0027: \u0027UPLOAD\u0027},\n      {\u0027name\u0027: \u0027cardholder_info\u0027,\n       \u0027size\u0027: 2543734,\n       \u0027type\u0027: \u0027UploadedFiles\u0027,\n       \u0027usedTransferMethod\u0027: \u0027UPLOAD\u0027}],\n     \u0027includedManagedFolders\u0027: [],\n     \u0027includedModelEvaluationStores\u0027: [],\n     \u0027includedSavedModels\u0027: [],\n     \u0027insightsData\u0027: False},\n    \u0027bundleId\u0027: \u0027DSPIPELINEFRAUD_v1_2\u0027,\n    \u0027exportUserInfo\u0027: {\u0027exportedBy\u0027: \u0027admin\u0027,\n     \u0027exportedOn\u0027: \u00272022-05-22T20:27:35.611+0200\u0027},\n    \u0027exportedWithOptions\u0027: {\u0027exportAllDatasets\u0027: False,\n     \u0027exportAllInputDatasets\u0027: False,\n     \u0027exportAllInputManagedFolders\u0027: False,\n     \u0027exportAnalysisModels\u0027: False,\n     \u0027exportGitRepository\u0027: False,\n     \u0027exportInsightsData\u0027: False,\n     \u0027exportManagedFS\u0027: False,\n     \u0027exportManagedFolders\u0027: False,\n     \u0027exportModelEvaluationStores\u0027: False,\n     \u0027exportSavedModels\u0027: False,\n     \u0027exportUploads\u0027: False,\n     \u0027includedDatasetsData\u0027: [{\u0027name\u0027: \u0027transactions_2018\u0027,\n       \u0027type\u0027: \u0027UploadedFiles\u0027},\n      {\u0027name\u0027: \u0027transactions_2017\u0027, \u0027type\u0027: \u0027UploadedFiles\u0027},\n      {\u0027name\u0027: \u0027merchant_info\u0027, \u0027type\u0027: \u0027UploadedFiles\u0027},\n      {\u0027name\u0027: \u0027cardholder_info\u0027, \u0027type\u0027: \u0027UploadedFiles\u0027}],\n     \u0027includedManagedFolders\u0027: [],\n     \u0027includedModelEvaluationStores\u0027: [],\n     \u0027includedSavedModels\u0027: [],\n     \u0027shareAllInputDatasets\u0027: False,\n     \u0027useManualPluginsInfo\u0027: False},\n    \u0027exportedWithPlugins\u0027: [{\u0027pluginId\u0027: \u0027geoadmin\u0027, \u0027version\u0027: \u00272.2.0\u0027},\n     {\u0027pluginId\u0027: \u0027nlp-preparation\u0027, \u0027version\u0027: \u00271.2.1\u0027},\n     {\u0027pluginId\u0027: \u0027shortcut2DPLY\u0027, \u0027version\u0027: \u00270.0.1\u0027},\n     {\u0027pluginId\u0027: \u0027local-r-dev-setup\u0027, \u0027version\u0027: \u00271.0.0\u0027},\n     {\u0027pluginId\u0027: \u0027anonymizer\u0027, \u0027version\u0027: \u00270.0.4\u0027},\n     {\u0027pluginId\u0027: \u0027model-error-analysis\u0027, \u0027version\u0027: \u00271.1.2\u0027},\n     {\u0027pluginId\u0027: \u0027geocoder\u0027, \u0027version\u0027: \u00271.2.0\u0027},\n     {\u0027pluginId\u0027: \u0027microsoft-power-bi-v2\u0027, \u0027version\u0027: \u00272.0.3\u0027},\n     {\u0027pluginId\u0027: \u0027model-fairness-report\u0027, \u0027version\u0027: \u00271.0.7\u0027},\n     {\u0027pluginId\u0027: \u0027google-cloud-nlp\u0027, \u0027version\u0027: \u00271.0.1\u0027},\n     {\u0027pluginId\u0027: \u0027plugin-example\u0027, \u0027version\u0027: \u00270.0.1\u0027},\n     {\u0027pluginId\u0027: \u0027named-entity-recognition\u0027, \u0027version\u0027: \u00271.3.4\u0027},\n     {\u0027pluginId\u0027: \u0027colorbrewer-palettes\u0027, \u0027version\u0027: \u00270.0.1\u0027},\n     {\u0027pluginId\u0027: \u0027cc-fraud-plugin\u0027, \u0027version\u0027: \u00270.0.1\u0027},\n     {\u0027pluginId\u0027: \u0027image-annotations-to-dataset\u0027, \u0027version\u0027: \u00271.0.0\u0027},\n     {\u0027pluginId\u0027: \u0027nlp-visualization\u0027, \u0027version\u0027: \u00271.0.0\u0027},\n     {\u0027pluginId\u0027: \u0027deeplearning-image\u0027, \u0027version\u0027: \u00272.0.2\u0027},\n     {\u0027pluginId\u0027: \u0027timeseries-forecast\u0027, \u0027version\u0027: \u00271.2.0\u0027},\n     {\u0027pluginId\u0027: \u0027builtin-macros\u0027, \u0027version\u0027: \u00271.0.0\u0027},\n     {\u0027pluginId\u0027: \u0027timeseries-preparation\u0027, \u0027version\u0027: \u00272.0.1\u0027},\n     {\u0027pluginId\u0027: \u0027k8s-metrics-utils\u0027, \u0027version\u0027: \u00271.0.0\u0027},\n     {\u0027pluginId\u0027: \u0027co2-converter\u0027, \u0027version\u0027: \u00271.0.0\u0027},\n     {\u0027pluginId\u0027: \u0027sentiment-analysis\u0027, \u0027version\u0027: \u00271.5.0\u0027},\n     {\u0027pluginId\u0027: \u0027ml-assisted-labeling\u0027, \u0027version\u0027: \u00274.0.0\u0027},\n     {\u0027pluginId\u0027: \u0027nlp-analysis\u0027, \u0027version\u0027: \u00270.1.0\u0027}],\n    \u0027generatedWithDSSConfVersion\u0027: \u002710040\u0027,\n    \u0027generatedWithDSSVersion\u0027: \u002710.0.4\u0027,\n    \u0027hasPartitionedDataset\u0027: False,\n    \u0027manifestVersion\u0027: 3,\n    \u0027originalProjectKey\u0027: \u0027DSPIPELINEFRAUD\u0027,\n    \u0027requiredConnections\u0027: {\u0027filesystem_folders\u0027: {\u0027name\u0027: \u0027filesystem_folders\u0027,\n      \u0027type\u0027: \u0027Filesystem\u0027},\n     \u0027postgre-local\u0027: {\u0027name\u0027: \u0027postgre-local\u0027, \u0027type\u0027: \u0027PostgreSQL\u0027}},\n    \u0027usedCodeEnvRefs\u0027: [{\u0027envLang\u0027: \u0027PYTHON\u0027, \u0027envName\u0027: \u0027Python36\u0027}]},\n   \u0027importState\u0027: {\u0027importedBy\u0027: \u0027admin\u0027,\n    \u0027importedOn\u0027: \u00272022-05-22T20:27:40.604+0200\u0027}}]}"
          },
          "metadata": {}
        }
      ]
    },
    {
      "execution_count": 74,
      "cell_type": "code",
      "metadata": {},
      "source": [
        "writers \u003d [permission[\"group\"] for permission in project_permissions if permission.get(\"writeProjectContent\", False)\u003d\u003dTrue]"
      ],
      "outputs": []
    },
    {
      "execution_count": 75,
      "cell_type": "code",
      "metadata": {},
      "source": [
        "writers"
      ],
      "outputs": [
        {
          "output_type": "execute_result",
          "execution_count": 75,
          "data": {
            "text/plain": "[\u0027MLOps\u0027, \u0027cc_fraud_project\u0027]"
          },
          "metadata": {}
        }
      ]
    },
    {
      "execution_count": 56,
      "cell_type": "code",
      "metadata": {},
      "source": [
        "project_deployer_client \u003d dataikuapi.DSSClient(\u0027http://localhost:20000/\u0027, \"FJk7Jffd8TStmT4Zvx9efC6G5mYZusec\") "
      ],
      "outputs": []
    },
    {
      "execution_count": 57,
      "cell_type": "code",
      "metadata": {},
      "source": [
        "project_owner \u003d project.get_permissions().get(\"owner\")\npublished_project \u003d project_deployer_client.get_project(\"DSPIPELINEFRAUD\") "
      ],
      "outputs": []
    },
    {
      "execution_count": 59,
      "cell_type": "code",
      "metadata": {},
      "source": [
        "published_project"
      ],
      "outputs": [
        {
          "output_type": "execute_result",
          "execution_count": 59,
          "data": {
            "text/plain": "\u003cdataikuapi.dss.project.DSSProject at 0x118c4d0f0\u003e"
          },
          "metadata": {}
        }
      ]
    },
    {
      "execution_count": 60,
      "cell_type": "code",
      "metadata": {},
      "source": [
        "published_project_settings \u003d published_project.get_settings()\nraw_permissions \u003d published_project_settings.get_raw()"
      ],
      "outputs": []
    },
    {
      "execution_count": 62,
      "cell_type": "code",
      "metadata": {},
      "source": [
        "published_project_settings"
      ],
      "outputs": [
        {
          "output_type": "execute_result",
          "execution_count": 62,
          "data": {
            "text/plain": "\u003cdataikuapi.dss.project.DSSProjectSettings at 0x118c5e6d8\u003e"
          },
          "metadata": {}
        }
      ]
    },
    {
      "execution_count": 63,
      "cell_type": "code",
      "metadata": {},
      "source": [
        "logging.info(\"Project owner will again be {}\".format(project_owner))"
      ],
      "outputs": []
    },
    {
      "execution_count": 64,
      "cell_type": "code",
      "metadata": {},
      "source": [
        "# Set the new project owner on the Deployer\nraw_permissions[\u0027owner\u0027] \u003d project_owner"
      ],
      "outputs": []
    },
    {
      "execution_count": 79,
      "cell_type": "code",
      "metadata": {},
      "source": [
        "raw_permissions[\u0027permissions\u0027]"
      ],
      "outputs": [
        {
          "output_type": "error",
          "ename": "KeyError",
          "evalue": "\u0027permissions\u0027",
          "traceback": [
            "\u001b[0;31m---------------------------------------------------------------------------\u001b[0m",
            "\u001b[0;31mKeyError\u001b[0m                                  Traceback (most recent call last)",
            "\u001b[0;32m\u003cipython-input-79-af94def385fc\u003e\u001b[0m in \u001b[0;36m\u003cmodule\u003e\u001b[0;34m()\u001b[0m\n\u001b[0;32m----\u003e 1\u001b[0;31m \u001b[0mraw_permissions\u001b[0m\u001b[0;34m[\u001b[0m\u001b[0;34m\u0027permissions\u0027\u001b[0m\u001b[0;34m]\u001b[0m\u001b[0;34m\u001b[0m\u001b[0;34m\u001b[0m\u001b[0m\n\u001b[0m",
            "\u001b[0;31mKeyError\u001b[0m: \u0027permissions\u0027"
          ]
        }
      ]
    },
    {
      "execution_count": 77,
      "cell_type": "code",
      "metadata": {},
      "source": [
        "for writer in writers:\n    if writer \u003d\u003d \u0027MLOps\u0027:\n        permission \u003d {\n                \u0027admin\u0027: True, \n                \u0027deploy\u0027: True, \n                \u0027group\u0027: writer, \n                \u0027read\u0027: True, \n                \u0027write\u0027: True\n        }\n        raw_permissions[\u0027permissions\u0027].append(permission)"
      ],
      "outputs": [
        {
          "output_type": "error",
          "ename": "KeyError",
          "evalue": "\u0027permissions\u0027",
          "traceback": [
            "\u001b[0;31m---------------------------------------------------------------------------\u001b[0m",
            "\u001b[0;31mKeyError\u001b[0m                                  Traceback (most recent call last)",
            "\u001b[0;32m\u003cipython-input-77-281782c19692\u003e\u001b[0m in \u001b[0;36m\u003cmodule\u003e\u001b[0;34m()\u001b[0m\n\u001b[1;32m      8\u001b[0m                 \u001b[0;34m\u0027write\u0027\u001b[0m\u001b[0;34m:\u001b[0m \u001b[0;32mTrue\u001b[0m\u001b[0;34m\u001b[0m\u001b[0;34m\u001b[0m\u001b[0m\n\u001b[1;32m      9\u001b[0m         }\n\u001b[0;32m---\u003e 10\u001b[0;31m         \u001b[0mraw_permissions\u001b[0m\u001b[0;34m[\u001b[0m\u001b[0;34m\u0027permissions\u0027\u001b[0m\u001b[0;34m]\u001b[0m\u001b[0;34m.\u001b[0m\u001b[0mappend\u001b[0m\u001b[0;34m(\u001b[0m\u001b[0mpermission\u001b[0m\u001b[0;34m)\u001b[0m\u001b[0;34m\u001b[0m\u001b[0;34m\u001b[0m\u001b[0m\n\u001b[0m",
            "\u001b[0;31mKeyError\u001b[0m: \u0027permissions\u0027"
          ]
        }
      ]
    },
    {
      "execution_count": 0,
      "cell_type": "code",
      "metadata": {},
      "source": [
        "        \n    # this part deduplicates any permissions given to the same group.\npermissions \u003d { each[\u0027group\u0027] : each for each in raw_permissions[\u0027permissions\u0027] }.values()\nlist_permissions \u003d list(permissions)\nraw_permissions[\u0027permissions\u0027] \u003d list_permissions\npublished_project_settings.save()"
      ],
      "outputs": []
    }
  ]
}