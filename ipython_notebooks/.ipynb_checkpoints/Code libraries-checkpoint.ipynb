{
  "metadata": {
    "kernelspec": {
      "name": "py-dku-venv-python36",
      "display_name": "Python (env Python36)",
      "language": "python"
    },
    "creator": "admin",
    "createdOn": 1650440327352,
    "tags": [],
    "customFields": {},
    "hide_input": false,
    "language_info": {
      "name": "python",
      "version": "3.6.8",
      "mimetype": "text/x-python",
      "codemirror_mode": {
        "name": "ipython",
        "version": 3
      },
      "pygments_lexer": "ipython3",
      "nbconvert_exporter": "python",
      "file_extension": ".py"
    },
    "modifiedBy": "admin"
  },
  "nbformat": 4,
  "nbformat_minor": 1,
  "cells": [
    {
      "execution_count": 2,
      "cell_type": "code",
      "metadata": {},
      "source": [
        "import Augmentor"
      ],
      "outputs": []
    },
    {
      "execution_count": 0,
      "cell_type": "code",
      "metadata": {},
      "source": [
        "p \u003d Augmentor.Pipeline(\"/path/to/images\")\np.rotate(probability\u003d0.7, max_left_rotation\u003d10, max_right_rotation\u003d10)\np.zoom(probability\u003d0.5, min_factor\u003d1.1, max_factor\u003d1.5)"
      ],
      "outputs": []
    },
    {
      "execution_count": 0,
      "cell_type": "code",
      "metadata": {},
      "source": [
        "p.sample(10000)\np.process()"
      ],
      "outputs": []
    }
  ]
}