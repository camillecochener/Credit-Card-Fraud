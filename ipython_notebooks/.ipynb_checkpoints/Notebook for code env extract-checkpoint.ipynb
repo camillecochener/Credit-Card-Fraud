{
  "metadata": {
    "kernelspec": {
      "name": "py-dku-venv-code_env_cc_fraud",
      "display_name": "Python (env code_env_cc_fraud)",
      "language": "python"
    },
    "creator": "admin",
    "createdOn": 1655309908880,
    "tags": [],
    "customFields": {},
    "hide_input": false,
    "language_info": {
      "name": "python",
      "version": "3.6.8",
      "mimetype": "text/x-python",
      "codemirror_mode": {
        "name": "ipython",
        "version": 3
      },
      "pygments_lexer": "ipython3",
      "nbconvert_exporter": "python",
      "file_extension": ".py"
    },
    "modifiedBy": "admin"
  },
  "nbformat": 4,
  "nbformat_minor": 1,
  "cells": [
    {
      "cell_type": "markdown",
      "metadata": {},
      "source": [
        "## Building a tool to retrieve all libraries used by all code env on the whole instance"
      ]
    },
    {
      "cell_type": "markdown",
      "metadata": {},
      "source": [
        "#### 1. Libraries importation"
      ]
    },
    {
      "execution_count": 17,
      "cell_type": "code",
      "metadata": {},
      "source": [
        "import dataiku\nfrom dataiku import pandasutils as pdu\nimport pandas as pd"
      ],
      "outputs": []
    },
    {
      "cell_type": "markdown",
      "metadata": {},
      "source": [
        "#### 2. Creating a client from inside DSS\nTo work with the API, a connection needs to be established with DSS, by creating a DSSClient object. Once the connection is established, the DSSClient object serves as the entry point to the other calls.\n\nThe Python client can be used from inside DSS. In that case:\n\n- It’s preinstalled, you don’t need to do anything\n\n- You don’t need to provide any API key, as the API client will automatically inherit connection credentials from the current context"
      ]
    },
    {
      "execution_count": 18,
      "cell_type": "code",
      "metadata": {},
      "source": [
        "client \u003d dataiku.api_client()\n# client is now a DSSClient and can perform all authorized actions."
      ],
      "outputs": []
    },
    {
      "cell_type": "markdown",
      "metadata": {},
      "source": [
        "#### 3. Listing all code envs setup on the DSS instance with their libraries"
      ]
    },
    {
      "execution_count": 62,
      "cell_type": "code",
      "metadata": {},
      "source": [
        "# Get the list of all the code env on the DSS instance\n# Every code env is described by a dictionary from which we want to extract code env names\nlist_code_env_full \u003d client.list_code_envs()"
      ],
      "outputs": []
    },
    {
      "execution_count": 64,
      "cell_type": "code",
      "metadata": {},
      "source": [
        "# Filter the code env names and types\nlist_code_env \u003d []\nfor code_env in list_code_env_full: \n    temp_code_env \u003d {}\n    for key, value in code_env.items():\n        if (key \u003d\u003d \u0027envName\u0027) or (key \u003d\u003d \u0027envLang\u0027):\n            temp_code_env[key] \u003d value\n    list_code_env.append(temp_code_env)"
      ],
      "outputs": []
    },
    {
      "execution_count": 92,
      "cell_type": "code",
      "metadata": {},
      "source": [
        "# Get the libraries of each code env\nfor code_env in list_code_env:\n    code_env_handle \u003d client.get_code_env(code_env[\u0027envLang\u0027], code_env[\u0027envName\u0027])\n    lib_list \u003d list(filter(None, code_env_handle.get_definition()[\u0027actualPackageList\u0027].split(\u0027\\n\u0027)))\n    mandatory_lib_list \u003d list(filter(None, code_env_handle.get_definition()[\u0027mandatoryPackageList\u0027].split(\u0027\\n\u0027)))\n    \n    #Remove mandatory libraries from the list\n    if code_env[\u0027envLang\u0027] \u003d\u003d \u0027PYTHON\u0027:\n        mandatory_lib_name \u003d [lib.split(\u0027\u003d\u003d\u0027)[0] for lib in mandatory_lib_list]\n        final_lib_list \u003d [lib for lib in lib_list if lib.split(\"\u003d\u003d\")[0] not in mandatory_lib_name]\n        code_env[\u0027Libraries\u0027] \u003d final_lib_list\n    if code_env[\u0027envLang\u0027] \u003d\u003d \u0027R\u0027:\n        code_env[\u0027Libraries\u0027] \u003d \u0027\u0027"
      ],
      "outputs": []
    },
    {
      "execution_count": 85,
      "cell_type": "code",
      "metadata": {},
      "source": [
        "sel \u003d client.get_code_env(\u0027R\u0027, \u0027R-363\u0027)"
      ],
      "outputs": []
    },
    {
      "execution_count": 87,
      "cell_type": "code",
      "metadata": {},
      "source": [
        "sel.get_definition()"
      ],
      "outputs": [
        {
          "output_type": "execute_result",
          "execution_count": 87,
          "data": {
            "text/plain": "{\u0027desc\u0027: {\u0027installCorePackages\u0027: True,\n  \u0027installJupyterSupport\u0027: True,\n  \u0027conda\u0027: False,\n  \u0027creationTag\u0027: {\u0027versionNumber\u0027: 0,\n   \u0027lastModifiedBy\u0027: {\u0027login\u0027: \u0027admin\u0027},\n   \u0027lastModifiedOn\u0027: 1644223685519},\n  \u0027versionTag\u0027: {\u0027versionNumber\u0027: 0,\n   \u0027lastModifiedBy\u0027: {\u0027login\u0027: \u0027admin\u0027},\n   \u0027lastModifiedOn\u0027: 1644223685519},\n  \u0027deploymentMode\u0027: \u0027DESIGN_MANAGED\u0027,\n  \u0027envSettings\u0027: {\u0027inheritGlobalSettings\u0027: True,\n   \u0027condaInstallExtraOptions\u0027: [],\n   \u0027condaCreateExtraOptions\u0027: [],\n   \u0027pipInstallExtraOptions\u0027: [],\n   \u0027virtualenvCreateExtraOptions\u0027: [],\n   \u0027cranMirrorURL\u0027: \u0027https://cloud.r-project.org\u0027},\n  \u0027owner\u0027: \u0027admin\u0027,\n  \u0027usableByAll\u0027: True,\n  \u0027permissions\u0027: [],\n  \u0027allContainerConfs\u0027: False,\n  \u0027containerConfs\u0027: [],\n  \u0027allSparkKubernetesConfs\u0027: False,\n  \u0027sparkKubernetesConfs\u0027: []},\n \u0027deploymentMode\u0027: \u0027DESIGN_MANAGED\u0027,\n \u0027owner\u0027: \u0027admin\u0027,\n \u0027usableByAll\u0027: True,\n \u0027envLang\u0027: \u0027R\u0027,\n \u0027envName\u0027: \u0027R-363\u0027,\n \u0027path\u0027: \u0027/Users/camillecochener/Library/DataikuV10/dss_design/code-envs/R/R-363\u0027,\n \u0027kernelSpecName\u0027: \u0027r-dku-venv-r-363\u0027,\n \u0027unknownKernelSpecStatus\u0027: False,\n \u0027canUpdateCodeEnv\u0027: True,\n \u0027canManageUsersCodeEnv\u0027: True,\n \u0027permissions\u0027: [],\n \u0027mandatoryPackageList\u0027: \u0027\\n\"dplyr\",\\n\"httr\",\\n\"RJSONIO\",\"1.3\"\\n\"gtools\",\\n\"base64enc\",\\n\"filelock\",\\n\"curl\",\"2.4\"\\n\\n\"IRkernel\",\u0027,\n \u0027mandatoryCondaEnvironment\u0027: \u0027\u0027,\n \u0027specPackageList\u0027: \u0027shiny\u0027,\n \u0027specCondaEnvironment\u0027: \u0027\u0027,\n \u0027actualPackageList\u0027: \u0027\"askpass\",\"1.1\"\\n\"base64enc\",\"0.1-3\"\\n\"bslib\",\"0.3.1\"\\n\"cachem\",\"1.0.6\"\\n\"cli\",\"3.1.1\"\\n\"commonmark\",\"1.7\"\\n\"crayon\",\"1.4.2\"\\n\"curl\",\"4.3.2\"\\n\"digest\",\"0.6.29\"\\n\"dplyr\",\"1.0.7\"\\n\"ellipsis\",\"0.3.2\"\\n\"evaluate\",\"0.14\"\\n\"fansi\",\"1.0.2\"\\n\"fastmap\",\"1.1.0\"\\n\"filelock\",\"1.0.2\"\\n\"fontawesome\",\"0.2.2\"\\n\"fs\",\"1.5.2\"\\n\"generics\",\"0.1.2\"\\n\"glue\",\"1.6.1\"\\n\"gtools\",\"3.9.2\"\\n\"htmltools\",\"0.5.2\"\\n\"httpuv\",\"1.6.5\"\\n\"httr\",\"1.4.2\"\\n\"IRdisplay\",\"1.1\"\\n\"IRkernel\",\"1.3\"\\n\"jquerylib\",\"0.1.4\"\\n\"jsonlite\",\"1.7.3\"\\n\"later\",\"1.3.0\"\\n\"lifecycle\",\"1.0.1\"\\n\"magrittr\",\"2.0.2\"\\n\"mime\",\"0.12\"\\n\"openssl\",\"1.4.6\"\\n\"pbdZMQ\",\"0.3-7\"\\n\"pillar\",\"1.7.0\"\\n\"pkgconfig\",\"2.0.3\"\\n\"promises\",\"1.2.0.1\"\\n\"purrr\",\"0.3.4\"\\n\"R6\",\"2.5.1\"\\n\"rappdirs\",\"0.3.3\"\\n\"Rcpp\",\"1.0.8\"\\n\"repr\",\"1.1.4\"\\n\"RJSONIO\",\"1.3-1.6\"\\n\"rlang\",\"1.0.1\"\\n\"sass\",\"0.4.0\"\\n\"shiny\",\"1.7.1\"\\n\"sourcetools\",\"0.1.7\"\\n\"sys\",\"3.4\"\\n\"tibble\",\"3.1.6\"\\n\"tidyselect\",\"1.1.1\"\\n\"utf8\",\"1.2.2\"\\n\"uuid\",\"1.0-3\"\\n\"vctrs\",\"0.3.8\"\\n\"withr\",\"2.4.3\"\\n\"xtable\",\"1.8-4\"\\n\"dataiku\",\"10.0.0\"\\n\"dataiku.spark2\",\"10.0.0\"\\n\"dataiku.sparklyr\",\"10.0.0\"\\n\"base\",\"3.6.3\"\\n\"boot\",\"1.3-24\"\\n\"class\",\"7.3-15\"\\n\"cluster\",\"2.1.0\"\\n\"codetools\",\"0.2-16\"\\n\"compiler\",\"3.6.3\"\\n\"datasets\",\"3.6.3\"\\n\"foreign\",\"0.8-75\"\\n\"graphics\",\"3.6.3\"\\n\"grDevices\",\"3.6.3\"\\n\"grid\",\"3.6.3\"\\n\"KernSmooth\",\"2.23-16\"\\n\"lattice\",\"0.20-38\"\\n\"MASS\",\"7.3-51.5\"\\n\"Matrix\",\"1.2-18\"\\n\"methods\",\"3.6.3\"\\n\"mgcv\",\"1.8-31\"\\n\"nlme\",\"3.1-144\"\\n\"nnet\",\"7.3-12\"\\n\"parallel\",\"3.6.3\"\\n\"rpart\",\"4.1-15\"\\n\"spatial\",\"7.3-11\"\\n\"splines\",\"3.6.3\"\\n\"stats\",\"3.6.3\"\\n\"stats4\",\"3.6.3\"\\n\"survival\",\"3.1-8\"\\n\"tcltk\",\"3.6.3\"\\n\"tools\",\"3.6.3\"\\n\"utils\",\"3.6.3\"\\n\u0027,\n \u0027actualCondaEnvironment\u0027: \u0027\u0027,\n \u0027allContainerConfs\u0027: False,\n \u0027containerConfs\u0027: [],\n \u0027allSparkKubernetesConfs\u0027: False,\n \u0027sparkKubernetesConfs\u0027: []}"
          },
          "metadata": {}
        }
      ]
    },
    {
      "execution_count": 77,
      "cell_type": "code",
      "metadata": {},
      "source": [
        "sel \u003dlist(filter(None, sel.get_definition()[\u0027actualPackageList\u0027].split(\u0027\\n\u0027)))\n[lib.split(\u0027\u003d\u003d\u0027)[0] for lib in sel]"
      ],
      "outputs": [
        {
          "output_type": "execute_result",
          "execution_count": 77,
          "data": {
            "text/plain": "[\u0027appnope\u0027,\n \u0027backcall\u0027,\n \u0027certifi\u0027,\n \u0027charset-normalizer\u0027,\n \u0027decorator\u0027,\n \u0027idna\u0027,\n \u0027ipykernel\u0027,\n \u0027ipython\u0027,\n \u0027ipython-genutils\u0027,\n \u0027jedi\u0027,\n \u0027jupyter-client\u0027,\n \u0027jupyter-core\u0027,\n \u0027numpy\u0027,\n \u0027pandas\u0027,\n \u0027parso\u0027,\n \u0027pexpect\u0027,\n \u0027pickleshare\u0027,\n \u0027prompt-toolkit\u0027,\n \u0027ptyprocess\u0027,\n \u0027Pygments\u0027,\n \u0027python-dateutil\u0027,\n \u0027pytz\u0027,\n \u0027pyzmq\u0027,\n \u0027requests\u0027,\n \u0027simplegeneric\u0027,\n \u0027six\u0027,\n \u0027tornado\u0027,\n \u0027traitlets\u0027,\n \u0027urllib3\u0027,\n \u0027wcwidth\u0027]"
          },
          "metadata": {}
        }
      ]
    },
    {
      "execution_count": 19,
      "cell_type": "code",
      "metadata": {},
      "source": [
        "project \u003d client.get_project(\"DSPIPELINEFRAUD\")"
      ],
      "outputs": []
    },
    {
      "execution_count": 26,
      "cell_type": "code",
      "metadata": {},
      "source": [
        "project_code_env \u003d project.get_settings().get_raw()[\u0027settings\u0027][\u0027codeEnvs\u0027][\u0027python\u0027][\u0027envName\u0027]"
      ],
      "outputs": []
    },
    {
      "execution_count": 54,
      "cell_type": "code",
      "metadata": {},
      "source": [
        "project_code_env"
      ],
      "outputs": [
        {
          "output_type": "execute_result",
          "execution_count": 54,
          "data": {
            "text/plain": "\u0027code_env_cc_fraud\u0027"
          },
          "metadata": {}
        }
      ]
    },
    {
      "execution_count": 55,
      "cell_type": "code",
      "metadata": {},
      "source": [
        "project_recipes \u003d project.list_recipes()\nproject_python_recipe \u003d [recipe for recipe in project_recipes if recipe[\u0027type\u0027] \u003d\u003d \u0027python\u0027] "
      ],
      "outputs": []
    },
    {
      "execution_count": 56,
      "cell_type": "code",
      "metadata": {},
      "source": [
        "python_recipe_code_env \u003d [python_recipe[\u0027params\u0027][\u0027envSelection\u0027][\u0027envName\u0027] for python_recipe in project_python_recipe if python_recipe[\u0027params\u0027][\u0027envSelection\u0027][\u0027envMode\u0027] \u003d\u003d \u0027EXPLICIT_ENV\u0027]"
      ],
      "outputs": []
    },
    {
      "execution_count": 57,
      "cell_type": "code",
      "metadata": {},
      "source": [
        "code_env \u003d client.get_code_env(\u0027PYTHON\u0027, project_code_env)"
      ],
      "outputs": []
    },
    {
      "execution_count": 58,
      "cell_type": "code",
      "metadata": {},
      "source": [
        "code_env.get_definition()[\u0027actualPackageList\u0027].split(\u0027\\n\u0027)"
      ],
      "outputs": [
        {
          "output_type": "execute_result",
          "execution_count": 58,
          "data": {
            "text/plain": "[\u0027appnope\u003d\u003d0.1.3\u0027,\n \u0027backcall\u003d\u003d0.2.0\u0027,\n \u0027certifi\u003d\u003d2022.5.18.1\u0027,\n \u0027charset-normalizer\u003d\u003d2.0.12\u0027,\n \u0027decorator\u003d\u003d4.4.2\u0027,\n \u0027idna\u003d\u003d3.3\u0027,\n \u0027ipykernel\u003d\u003d4.8.2\u0027,\n \u0027ipython\u003d\u003d7.16.3\u0027,\n \u0027ipython-genutils\u003d\u003d0.2.0\u0027,\n \u0027jedi\u003d\u003d0.17.2\u0027,\n \u0027jupyter-client\u003d\u003d5.2.4\u0027,\n \u0027jupyter-core\u003d\u003d4.4.0\u0027,\n \u0027numpy\u003d\u003d1.19.5\u0027,\n \u0027pandas\u003d\u003d1.0.5\u0027,\n \u0027parso\u003d\u003d0.7.1\u0027,\n \u0027pexpect\u003d\u003d4.8.0\u0027,\n \u0027pickleshare\u003d\u003d0.7.5\u0027,\n \u0027prompt-toolkit\u003d\u003d3.0.29\u0027,\n \u0027ptyprocess\u003d\u003d0.7.0\u0027,\n \u0027Pygments\u003d\u003d2.12.0\u0027,\n \u0027python-dateutil\u003d\u003d2.8.1\u0027,\n \u0027pytz\u003d\u003d2020.5\u0027,\n \u0027pyzmq\u003d\u003d18.0.2\u0027,\n \u0027requests\u003d\u003d2.27.1\u0027,\n \u0027simplegeneric\u003d\u003d0.8.1\u0027,\n \u0027six\u003d\u003d1.16.0\u0027,\n \u0027tornado\u003d\u003d5.1.1\u0027,\n \u0027traitlets\u003d\u003d4.3.3\u0027,\n \u0027urllib3\u003d\u003d1.26.9\u0027,\n \u0027wcwidth\u003d\u003d0.2.5\u0027,\n \u0027\u0027]"
          },
          "metadata": {}
        }
      ]
    },
    {
      "execution_count": 0,
      "cell_type": "code",
      "metadata": {},
      "source": [
        "# list_jupyter_notebooks\n# list_recipes\n# list_running_notebooks"
      ],
      "outputs": []
    }
  ]
}