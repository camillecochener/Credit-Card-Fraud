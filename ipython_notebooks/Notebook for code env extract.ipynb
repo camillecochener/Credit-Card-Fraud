{
  "metadata": {
    "kernelspec": {
      "name": "py-dku-venv-code_env_cc_fraud",
      "display_name": "Python (env code_env_cc_fraud)",
      "language": "python"
    },
    "creator": "admin",
    "createdOn": 1655309908880,
    "tags": [],
    "customFields": {},
    "hide_input": false,
    "language_info": {
      "name": "python",
      "version": "3.6.8",
      "mimetype": "text/x-python",
      "codemirror_mode": {
        "name": "ipython",
        "version": 3
      },
      "pygments_lexer": "ipython3",
      "nbconvert_exporter": "python",
      "file_extension": ".py"
    },
    "modifiedBy": "admin"
  },
  "nbformat": 4,
  "nbformat_minor": 1,
  "cells": [
    {
      "execution_count": 1,
      "cell_type": "code",
      "metadata": {},
      "source": [
        "import dataiku\nfrom dataiku import pandasutils as pdu\nimport pandas as pd"
      ],
      "outputs": []
    },
    {
      "execution_count": 2,
      "cell_type": "code",
      "metadata": {},
      "source": [
        "client \u003d dataiku.api_client()"
      ],
      "outputs": []
    },
    {
      "execution_count": 3,
      "cell_type": "code",
      "metadata": {},
      "source": [
        "project \u003d client.get_project(\"DSPIPELINEFRAUD\")"
      ],
      "outputs": []
    },
    {
      "execution_count": 4,
      "cell_type": "code",
      "metadata": {},
      "source": [
        "project_metadata \u003d project.get_metadata()"
      ],
      "outputs": []
    },
    {
      "execution_count": 5,
      "cell_type": "code",
      "metadata": {},
      "source": [
        "project_metadata"
      ],
      "outputs": [
        {
          "output_type": "execute_result",
          "execution_count": 5,
          "data": {
            "text/plain": "{\u0027shortDesc\u0027: \u0027The aim of the project is to predict credit card fraud using past transactions history.\u0027,\n \u0027label\u0027: \u0027Credit Card Fraud predictions\u0027,\n \u0027description\u0027: \"The purpose of this project is to detect fraud in banking transactions made with credit cards. \\n\\nAt our disposal, we have :\\n- a history of bank transactions\\n- a description of the merchants\\n- a description of the credit card holders\\n\\nThe final product can take two different forms: \\n- a dashboard that would be updated daily and feed into analysts\u0027 reports \\n- an API that would predict in real time if a transaction is a fraud\",\n \u0027checklists\u0027: {\u0027checklists\u0027: [{\u0027title\u0027: \"Your new project\u0027s Todo\",\n    \u0027createdOn\u0027: 0,\n    \u0027items\u0027: [{\u0027done\u0027: False,\n      \u0027text\u0027: \u0027Understand business context and needs\u0027,\n      \u0027createdOn\u0027: 1609888961017,\n      \u0027createdBy\u0027: \u0027dataiku-admin\u0027,\n      \u0027stateChangedOn\u0027: 0},\n     {\u0027done\u0027: False,\n      \u0027text\u0027: \u0027Data collection from the different sources\u0027,\n      \u0027createdOn\u0027: 1609888961017,\n      \u0027createdBy\u0027: \u0027dataiku-admin\u0027,\n      \u0027stateChangedOn\u0027: 0},\n     {\u0027done\u0027: False,\n      \u0027text\u0027: \u0027Data preparation\u0027,\n      \u0027createdOn\u0027: 1609888961017,\n      \u0027createdBy\u0027: \u0027dataiku-admin\u0027,\n      \u0027stateChangedOn\u0027: 0},\n     {\u0027done\u0027: False,\n      \u0027text\u0027: \u0027Machine Learning\u0027,\n      \u0027createdOn\u0027: 1609888961017,\n      \u0027createdBy\u0027: \u0027dataiku-admin\u0027,\n      \u0027stateChangedOn\u0027: 0},\n     {\u0027done\u0027: False,\n      \u0027text\u0027: \u0027Dashboard design\u0027,\n      \u0027createdOn\u0027: 1647443128934,\n      \u0027createdBy\u0027: \u0027admin\u0027,\n      \u0027stateChangedOn\u0027: 0},\n     {\u0027done\u0027: False,\n      \u0027text\u0027: \u0027API creation\u0027,\n      \u0027createdOn\u0027: 1647443156886,\n      \u0027createdBy\u0027: \u0027admin\u0027,\n      \u0027stateChangedOn\u0027: 0},\n     {\u0027done\u0027: False,\n      \u0027text\u0027: \u0027Operationalization / refactoring\u0027,\n      \u0027createdOn\u0027: 1647443179934,\n      \u0027createdBy\u0027: \u0027admin\u0027,\n      \u0027stateChangedOn\u0027: 0}]}]},\n \u0027tags\u0027: [\u0027fraud detection\u0027, \u0027demo\u0027],\n \u0027customFields\u0027: {}}"
          },
          "metadata": {}
        }
      ]
    },
    {
      "execution_count": 0,
      "cell_type": "code",
      "metadata": {},
      "source": [
        ""
      ],
      "outputs": []
    }
  ]
}