{
  "metadata": {
    "kernelspec": {
      "name": "py-dku-venv-code_env_cc_fraud",
      "display_name": "Python (env code_env_cc_fraud)",
      "language": "python"
    },
    "creator": "admin",
    "createdOn": 1655309908880,
    "tags": [],
    "customFields": {},
    "hide_input": false,
    "language_info": {
      "name": "python",
      "version": "3.6.8",
      "mimetype": "text/x-python",
      "codemirror_mode": {
        "name": "ipython",
        "version": 3
      },
      "pygments_lexer": "ipython3",
      "nbconvert_exporter": "python",
      "file_extension": ".py"
    },
    "modifiedBy": "admin"
  },
  "nbformat": 4,
  "nbformat_minor": 1,
  "cells": [
    {
      "cell_type": "markdown",
      "metadata": {},
      "source": [
        "## Building a tool to retrieve all libraries used by all code env on the whole instance"
      ]
    },
    {
      "cell_type": "markdown",
      "metadata": {},
      "source": [
        "#### 1. Libraries importation"
      ]
    },
    {
      "execution_count": 17,
      "cell_type": "code",
      "metadata": {},
      "source": [
        "import dataiku\nfrom dataiku import pandasutils as pdu\nimport pandas as pd"
      ],
      "outputs": []
    },
    {
      "cell_type": "markdown",
      "metadata": {},
      "source": [
        "#### 2. Creating a client from inside DSS\nTo work with the API, a connection needs to be established with DSS, by creating a DSSClient object. Once the connection is established, the DSSClient object serves as the entry point to the other calls.\n\nThe Python client can be used from inside DSS. In that case:\n\n- It’s preinstalled, you don’t need to do anything\n\n- You don’t need to provide any API key, as the API client will automatically inherit connection credentials from the current context"
      ]
    },
    {
      "execution_count": 18,
      "cell_type": "code",
      "metadata": {},
      "source": [
        "client \u003d dataiku.api_client()\n# client is now a DSSClient and can perform all authorized actions."
      ],
      "outputs": []
    },
    {
      "cell_type": "markdown",
      "metadata": {},
      "source": [
        "#### 3. Listing all code envs setup on the DSS instance with their libraries"
      ]
    },
    {
      "execution_count": 62,
      "cell_type": "code",
      "metadata": {},
      "source": [
        "# Get the list of all the code env on the DSS instance\n# Every code env is described by a dictionary from which we want to extract code env names\nlist_code_env_full \u003d client.list_code_envs()"
      ],
      "outputs": []
    },
    {
      "execution_count": 64,
      "cell_type": "code",
      "metadata": {},
      "source": [
        "# Filter the code env names and types\nlist_code_env \u003d []\nfor code_env in list_code_env_full: \n    temp_code_env \u003d {}\n    for key, value in code_env.items():\n        if (key \u003d\u003d \u0027envName\u0027) or (key \u003d\u003d \u0027envLang\u0027):\n            temp_code_env[key] \u003d value\n    list_code_env.append(temp_code_env)"
      ],
      "outputs": []
    },
    {
      "execution_count": 80,
      "cell_type": "code",
      "metadata": {},
      "source": [
        "# Get the libraries of each code env\nfor code_env in list_code_env:\n    code_env_handle \u003d client.get_code_env(code_env[\u0027envLang\u0027], code_env[\u0027envName\u0027])\n    lib_list \u003d list(filter(None, code_env_handle.get_definition()[\u0027actualPackageList\u0027].split(\u0027\\n\u0027)))\n    mandatory_lib_list \u003d list(filter(None, code_env_handle.get_definition()[\u0027mandatoryPackageList\u0027].split(\u0027\\n\u0027)))\n    \n    #Remove mandatory libraries from the list\n    mandatory_lib_name \u003d [lib.split(\u0027\u003d\u003d\u0027)[0] for lib in mandatory_lib_list]\n    final_lib_list \u003d [lib for lib in lib_list if lib.split(\"\u003d\u003d\")[0] not in mandatory_lib_name]"
      ],
      "outputs": []
    },
    {
      "execution_count": 83,
      "cell_type": "code",
      "metadata": {},
      "source": [
        "code_env"
      ],
      "outputs": [
        {
          "output_type": "execute_result",
          "execution_count": 83,
          "data": {
            "text/plain": "{\u0027envName\u0027: \u0027R-363\u0027, \u0027envLang\u0027: \u0027R\u0027}"
          },
          "metadata": {}
        }
      ]
    },
    {
      "execution_count": 70,
      "cell_type": "code",
      "metadata": {},
      "source": [
        "sel \u003d client.get_code_env(\u0027PYTHON\u0027, \u0027code_env_cc_fraud\u0027)"
      ],
      "outputs": []
    },
    {
      "execution_count": 77,
      "cell_type": "code",
      "metadata": {},
      "source": [
        "sel \u003dlist(filter(None, sel.get_definition()[\u0027actualPackageList\u0027].split(\u0027\\n\u0027)))\n[lib.split(\u0027\u003d\u003d\u0027)[0] for lib in sel]"
      ],
      "outputs": [
        {
          "output_type": "execute_result",
          "execution_count": 77,
          "data": {
            "text/plain": "[\u0027appnope\u0027,\n \u0027backcall\u0027,\n \u0027certifi\u0027,\n \u0027charset-normalizer\u0027,\n \u0027decorator\u0027,\n \u0027idna\u0027,\n \u0027ipykernel\u0027,\n \u0027ipython\u0027,\n \u0027ipython-genutils\u0027,\n \u0027jedi\u0027,\n \u0027jupyter-client\u0027,\n \u0027jupyter-core\u0027,\n \u0027numpy\u0027,\n \u0027pandas\u0027,\n \u0027parso\u0027,\n \u0027pexpect\u0027,\n \u0027pickleshare\u0027,\n \u0027prompt-toolkit\u0027,\n \u0027ptyprocess\u0027,\n \u0027Pygments\u0027,\n \u0027python-dateutil\u0027,\n \u0027pytz\u0027,\n \u0027pyzmq\u0027,\n \u0027requests\u0027,\n \u0027simplegeneric\u0027,\n \u0027six\u0027,\n \u0027tornado\u0027,\n \u0027traitlets\u0027,\n \u0027urllib3\u0027,\n \u0027wcwidth\u0027]"
          },
          "metadata": {}
        }
      ]
    },
    {
      "execution_count": 19,
      "cell_type": "code",
      "metadata": {},
      "source": [
        "project \u003d client.get_project(\"DSPIPELINEFRAUD\")"
      ],
      "outputs": []
    },
    {
      "execution_count": 26,
      "cell_type": "code",
      "metadata": {},
      "source": [
        "project_code_env \u003d project.get_settings().get_raw()[\u0027settings\u0027][\u0027codeEnvs\u0027][\u0027python\u0027][\u0027envName\u0027]"
      ],
      "outputs": []
    },
    {
      "execution_count": 54,
      "cell_type": "code",
      "metadata": {},
      "source": [
        "project_code_env"
      ],
      "outputs": [
        {
          "output_type": "execute_result",
          "execution_count": 54,
          "data": {
            "text/plain": "\u0027code_env_cc_fraud\u0027"
          },
          "metadata": {}
        }
      ]
    },
    {
      "execution_count": 55,
      "cell_type": "code",
      "metadata": {},
      "source": [
        "project_recipes \u003d project.list_recipes()\nproject_python_recipe \u003d [recipe for recipe in project_recipes if recipe[\u0027type\u0027] \u003d\u003d \u0027python\u0027] "
      ],
      "outputs": []
    },
    {
      "execution_count": 56,
      "cell_type": "code",
      "metadata": {},
      "source": [
        "python_recipe_code_env \u003d [python_recipe[\u0027params\u0027][\u0027envSelection\u0027][\u0027envName\u0027] for python_recipe in project_python_recipe if python_recipe[\u0027params\u0027][\u0027envSelection\u0027][\u0027envMode\u0027] \u003d\u003d \u0027EXPLICIT_ENV\u0027]"
      ],
      "outputs": []
    },
    {
      "execution_count": 57,
      "cell_type": "code",
      "metadata": {},
      "source": [
        "code_env \u003d client.get_code_env(\u0027PYTHON\u0027, project_code_env)"
      ],
      "outputs": []
    },
    {
      "execution_count": 58,
      "cell_type": "code",
      "metadata": {},
      "source": [
        "code_env.get_definition()[\u0027actualPackageList\u0027].split(\u0027\\n\u0027)"
      ],
      "outputs": [
        {
          "output_type": "execute_result",
          "execution_count": 58,
          "data": {
            "text/plain": "[\u0027appnope\u003d\u003d0.1.3\u0027,\n \u0027backcall\u003d\u003d0.2.0\u0027,\n \u0027certifi\u003d\u003d2022.5.18.1\u0027,\n \u0027charset-normalizer\u003d\u003d2.0.12\u0027,\n \u0027decorator\u003d\u003d4.4.2\u0027,\n \u0027idna\u003d\u003d3.3\u0027,\n \u0027ipykernel\u003d\u003d4.8.2\u0027,\n \u0027ipython\u003d\u003d7.16.3\u0027,\n \u0027ipython-genutils\u003d\u003d0.2.0\u0027,\n \u0027jedi\u003d\u003d0.17.2\u0027,\n \u0027jupyter-client\u003d\u003d5.2.4\u0027,\n \u0027jupyter-core\u003d\u003d4.4.0\u0027,\n \u0027numpy\u003d\u003d1.19.5\u0027,\n \u0027pandas\u003d\u003d1.0.5\u0027,\n \u0027parso\u003d\u003d0.7.1\u0027,\n \u0027pexpect\u003d\u003d4.8.0\u0027,\n \u0027pickleshare\u003d\u003d0.7.5\u0027,\n \u0027prompt-toolkit\u003d\u003d3.0.29\u0027,\n \u0027ptyprocess\u003d\u003d0.7.0\u0027,\n \u0027Pygments\u003d\u003d2.12.0\u0027,\n \u0027python-dateutil\u003d\u003d2.8.1\u0027,\n \u0027pytz\u003d\u003d2020.5\u0027,\n \u0027pyzmq\u003d\u003d18.0.2\u0027,\n \u0027requests\u003d\u003d2.27.1\u0027,\n \u0027simplegeneric\u003d\u003d0.8.1\u0027,\n \u0027six\u003d\u003d1.16.0\u0027,\n \u0027tornado\u003d\u003d5.1.1\u0027,\n \u0027traitlets\u003d\u003d4.3.3\u0027,\n \u0027urllib3\u003d\u003d1.26.9\u0027,\n \u0027wcwidth\u003d\u003d0.2.5\u0027,\n \u0027\u0027]"
          },
          "metadata": {}
        }
      ]
    },
    {
      "execution_count": 0,
      "cell_type": "code",
      "metadata": {},
      "source": [
        "# list_jupyter_notebooks\n# list_recipes\n# list_running_notebooks"
      ],
      "outputs": []
    }
  ]
}