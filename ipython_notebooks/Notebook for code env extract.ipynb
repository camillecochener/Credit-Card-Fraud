{
  "metadata": {
    "kernelspec": {
      "name": "py-dku-venv-code_env_cc_fraud",
      "display_name": "Python (env code_env_cc_fraud)",
      "language": "python"
    },
    "creator": "admin",
    "createdOn": 1655309908880,
    "tags": [],
    "customFields": {},
    "hide_input": false,
    "language_info": {
      "name": "python",
      "version": "3.6.8",
      "mimetype": "text/x-python",
      "codemirror_mode": {
        "name": "ipython",
        "version": 3
      },
      "pygments_lexer": "ipython3",
      "nbconvert_exporter": "python",
      "file_extension": ".py"
    },
    "modifiedBy": "admin"
  },
  "nbformat": 4,
  "nbformat_minor": 1,
  "cells": [
    {
      "execution_count": 17,
      "cell_type": "code",
      "metadata": {},
      "source": [
        "import dataiku\nfrom dataiku import pandasutils as pdu\nimport pandas as pd"
      ],
      "outputs": []
    },
    {
      "execution_count": 18,
      "cell_type": "code",
      "metadata": {},
      "source": [
        "client \u003d dataiku.api_client()"
      ],
      "outputs": []
    },
    {
      "execution_count": 19,
      "cell_type": "code",
      "metadata": {},
      "source": [
        "project \u003d client.get_project(\"DSPIPELINEFRAUD\")"
      ],
      "outputs": []
    },
    {
      "execution_count": 26,
      "cell_type": "code",
      "metadata": {},
      "source": [
        "project_code_env \u003d project.get_settings().get_raw()[\u0027settings\u0027][\u0027codeEnvs\u0027][\u0027python\u0027][\u0027envName\u0027]"
      ],
      "outputs": []
    },
    {
      "execution_count": 27,
      "cell_type": "code",
      "metadata": {},
      "source": [
        "project_code_env"
      ],
      "outputs": [
        {
          "output_type": "execute_result",
          "execution_count": 27,
          "data": {
            "text/plain": "\u0027code_env_cc_fraud\u0027"
          },
          "metadata": {}
        }
      ]
    },
    {
      "execution_count": 28,
      "cell_type": "code",
      "metadata": {},
      "source": [
        "project_recipes \u003d project.list_recipes()\nproject_python_recipe \u003d [recipe for recipe in project_recipes if recipe[\u0027type\u0027] \u003d\u003d \u0027python\u0027] "
      ],
      "outputs": []
    },
    {
      "execution_count": 36,
      "cell_type": "code",
      "metadata": {},
      "source": [
        "python_recipe_code_env \u003d [python_recipe[\u0027params\u0027][\u0027envSelection\u0027][\u0027envName\u0027] for python_recipe in project_python_recipe if python_recipe[\u0027params\u0027][\u0027envSelection\u0027][\u0027envMode\u0027] \u003d\u003d \u0027EXPLICIT_ENV\u0027]"
      ],
      "outputs": []
    },
    {
      "execution_count": 52,
      "cell_type": "code",
      "metadata": {},
      "source": [
        "code_env \u003d client.get_code_env(\u0027PYTHON\u0027, project_code_env)"
      ],
      "outputs": []
    },
    {
      "execution_count": 53,
      "cell_type": "code",
      "metadata": {},
      "source": [
        "code_env.get_definition()[\u0027actualPackageList\u0027].split(\u0027\\n\u0027)"
      ],
      "outputs": [
        {
          "output_type": "execute_result",
          "execution_count": 53,
          "data": {
            "text/plain": "[\u0027appnope\u003d\u003d0.1.2\u0027,\n \u0027attrs\u003d\u003d21.4.0\u0027,\n \u0027backcall\u003d\u003d0.2.0\u0027,\n \u0027beautifulsoup4\u003d\u003d4.11.1\u0027,\n \u0027Brotli\u003d\u003d1.0.9\u0027,\n \u0027bs4\u003d\u003d0.0.1\u0027,\n \u0027certifi\u003d\u003d2021.10.8\u0027,\n \u0027chardet\u003d\u003d3.0.4\u0027,\n \u0027click\u003d\u003d8.0.3\u0027,\n \u0027cloudpickle\u003d\u003d1.5.0\u0027,\n \u0027cycler\u003d\u003d0.11.0\u0027,\n \u0027dash\u003d\u003d2.1.0\u0027,\n \u0027dash-core-components\u003d\u003d2.0.0\u0027,\n \u0027dash-html-components\u003d\u003d2.0.0\u0027,\n \u0027dash-table\u003d\u003d5.0.0\u0027,\n \u0027dataclasses\u003d\u003d0.8\u0027,\n \u0027datatable\u003d\u003d1.0.0\u0027,\n \u0027decorator\u003d\u003d4.4.2\u0027,\n \u0027Faker\u003d\u003d13.3.2\u0027,\n \u0027Flask\u003d\u003d1.0.4\u0027,\n \u0027Flask-Compress\u003d\u003d1.10.1\u0027,\n \u0027idna\u003d\u003d2.8\u0027,\n \u0027importlib-metadata\u003d\u003d4.8.3\u0027,\n \u0027ipykernel\u003d\u003d4.8.2\u0027,\n \u0027ipython\u003d\u003d7.16.2\u0027,\n \u0027ipython-genutils\u003d\u003d0.2.0\u0027,\n \u0027itsdangerous\u003d\u003d2.0.1\u0027,\n \u0027jedi\u003d\u003d0.17.2\u0027,\n \u0027Jinja2\u003d\u003d2.10.3\u0027,\n \u0027joblib\u003d\u003d1.1.0\u0027,\n \u0027jsonschema\u003d\u003d3.2.0\u0027,\n \u0027jupyter-client\u003d\u003d5.2.4\u0027,\n \u0027jupyter-core\u003d\u003d4.4.0\u0027,\n \u0027kiwisolver\u003d\u003d1.3.1\u0027,\n \u0027lightgbm\u003d\u003d3.2.1\u0027,\n \u0027MarkupSafe\u003d\u003d2.0.1\u0027,\n \u0027matplotlib\u003d\u003d3.3.4\u0027,\n \u0027nbformat\u003d\u003d5.1.3\u0027,\n \u0027nltk\u003d\u003d3.4.5\u0027,\n \u0027numpy\u003d\u003d1.19.5\u0027,\n \u0027pandas\u003d\u003d1.0.5\u0027,\n \u0027parso\u003d\u003d0.7.1\u0027,\n \u0027patsy\u003d\u003d0.5.2\u0027,\n \u0027pexpect\u003d\u003d4.8.0\u0027,\n \u0027pickleshare\u003d\u003d0.7.5\u0027,\n \u0027Pillow\u003d\u003d8.4.0\u0027,\n \u0027plotly\u003d\u003d5.5.0\u0027,\n \u0027prompt-toolkit\u003d\u003d3.0.24\u0027,\n \u0027ptyprocess\u003d\u003d0.7.0\u0027,\n \u0027py4j\u003d\u003d0.10.9.3\u0027,\n \u0027Pygments\u003d\u003d2.10.0\u0027,\n \u0027pyparsing\u003d\u003d3.0.8\u0027,\n \u0027pyrsistent\u003d\u003d0.18.0\u0027,\n \u0027pyspark\u003d\u003d3.2.1\u0027,\n \u0027python-dateutil\u003d\u003d2.8.1\u0027,\n \u0027pytz\u003d\u003d2020.5\u0027,\n \u0027pyzmq\u003d\u003d18.0.2\u0027,\n \u0027regex\u003d\u003d2022.1.18\u0027,\n \u0027requests\u003d\u003d2.22.0\u0027,\n \u0027scikit-learn\u003d\u003d0.20.4\u0027,\n \u0027scipy\u003d\u003d1.2.3\u0027,\n \u0027simplegeneric\u003d\u003d0.8.1\u0027,\n \u0027six\u003d\u003d1.16.0\u0027,\n \u0027soupsieve\u003d\u003d2.3.2.post1\u0027,\n \u0027statsmodels\u003d\u003d0.10.2\u0027,\n \u0027tenacity\u003d\u003d8.0.1\u0027,\n \u0027textblob\u003d\u003d0.15.1\u0027,\n \u0027tornado\u003d\u003d5.1.1\u0027,\n \u0027tqdm\u003d\u003d4.62.3\u0027,\n \u0027traitlets\u003d\u003d4.3.3\u0027,\n \u0027typing_extensions\u003d\u003d4.0.1\u0027,\n \u0027urllib3\u003d\u003d1.25.11\u0027,\n \u0027wcwidth\u003d\u003d0.2.5\u0027,\n \u0027Werkzeug\u003d\u003d2.0.3\u0027,\n \u0027wordcloud\u003d\u003d1.8.1\u0027,\n \u0027xgboost\u003d\u003d0.82\u0027,\n \u0027zipp\u003d\u003d3.6.0\u0027,\n \u0027\u0027]"
          },
          "metadata": {}
        }
      ]
    },
    {
      "execution_count": 0,
      "cell_type": "code",
      "metadata": {},
      "source": [
        "# list_jupyter_notebooks\n# list_recipes\n# list_running_notebooks"
      ],
      "outputs": []
    }
  ]
}