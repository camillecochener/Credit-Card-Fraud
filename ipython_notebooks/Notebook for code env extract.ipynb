{
  "metadata": {
    "kernelspec": {
      "name": "py-dku-venv-code_env_cc_fraud",
      "display_name": "Python (env code_env_cc_fraud)",
      "language": "python"
    },
    "creator": "admin",
    "createdOn": 1655309908880,
    "tags": [],
    "customFields": {},
    "hide_input": false,
    "language_info": {
      "name": "python",
      "version": "3.6.8",
      "mimetype": "text/x-python",
      "codemirror_mode": {
        "name": "ipython",
        "version": 3
      },
      "pygments_lexer": "ipython3",
      "nbconvert_exporter": "python",
      "file_extension": ".py"
    },
    "modifiedBy": "admin"
  },
  "nbformat": 4,
  "nbformat_minor": 1,
  "cells": [
    {
      "execution_count": 1,
      "cell_type": "code",
      "metadata": {},
      "source": [
        "import dataiku\nfrom dataiku import pandasutils as pdu\nimport pandas as pd"
      ],
      "outputs": []
    },
    {
      "execution_count": 2,
      "cell_type": "code",
      "metadata": {},
      "source": [
        "client \u003d dataiku.api_client()"
      ],
      "outputs": []
    },
    {
      "execution_count": 3,
      "cell_type": "code",
      "metadata": {},
      "source": [
        "project \u003d client.get_project(\"DSPIPELINEFRAUD\")"
      ],
      "outputs": []
    },
    {
      "execution_count": 8,
      "cell_type": "code",
      "metadata": {},
      "source": [
        "project_metadata \u003d project.list_code_envs()"
      ],
      "outputs": [
        {
          "output_type": "error",
          "ename": "AttributeError",
          "evalue": "\u0027DSSProject\u0027 object has no attribute \u0027list_code_envs\u0027",
          "traceback": [
            "\u001b[0;31m---------------------------------------------------------------------------\u001b[0m",
            "\u001b[0;31mAttributeError\u001b[0m                            Traceback (most recent call last)",
            "\u001b[0;32m\u003cipython-input-8-77f54ca26f98\u003e\u001b[0m in \u001b[0;36m\u003cmodule\u003e\u001b[0;34m\u001b[0m\n\u001b[0;32m----\u003e 1\u001b[0;31m \u001b[0mproject_metadata\u001b[0m \u001b[0;34m\u003d\u001b[0m \u001b[0mproject\u001b[0m\u001b[0;34m.\u001b[0m\u001b[0mlist_code_envs\u001b[0m\u001b[0;34m(\u001b[0m\u001b[0;34m)\u001b[0m\u001b[0;34m\u001b[0m\u001b[0;34m\u001b[0m\u001b[0m\n\u001b[0m",
            "\u001b[0;31mAttributeError\u001b[0m: \u0027DSSProject\u0027 object has no attribute \u0027list_code_envs\u0027"
          ]
        }
      ]
    },
    {
      "execution_count": 9,
      "cell_type": "code",
      "metadata": {},
      "source": [
        "project_metadata"
      ],
      "outputs": [
        {
          "output_type": "execute_result",
          "execution_count": 9,
          "data": {
            "text/plain": "{\u0027projectKey\u0027: \u0027DSPIPELINEFRAUD\u0027,\n \u0027ownerLogin\u0027: \u0027user1\u0027,\n \u0027projectType\u0027: \u0027REGULAR\u0027,\n \u0027projectAppType\u0027: \u0027REGULAR\u0027,\n \u0027permissionsVersion\u0027: \u0027LEGACY\u0027,\n \u0027tutorialProject\u0027: False,\n \u0027disableAutomaticTriggers\u0027: False,\n \u0027commitMode\u0027: \u0027AUTO\u0027,\n \u0027name\u0027: \u0027Credit Card Fraud predictions\u0027,\n \u0027projectStatus\u0027: \u0027In use\u0027,\n \u0027showInitials\u0027: False,\n \u0027isProjectAdmin\u0027: True,\n \u0027canReadProjectContent\u0027: True,\n \u0027canWriteProjectContent\u0027: True,\n \u0027canModerateDashboards\u0027: True,\n \u0027canWriteDashboards\u0027: True,\n \u0027canManageDashboardAuthorizations\u0027: True,\n \u0027canManageExposedElements\u0027: True,\n \u0027canManageAdditionalDashboardUsers\u0027: True,\n \u0027canExportDatasetsData\u0027: True,\n \u0027canReadDashboards\u0027: True,\n \u0027canRunScenarios\u0027: True,\n \u0027canExecuteApp\u0027: True,\n \u0027canShareToWorkspaces\u0027: True,\n \u0027ownerDisplayName\u0027: \u0027user1\u0027,\n \u0027objectImgHash\u0027: 1647442710684,\n \u0027isProjectImg\u0027: True,\n \u0027defaultImgColor\u0027: \u0027#a0a0a0\u0027,\n \u0027imgPattern\u0027: 4,\n \u0027contributors\u0027: [],\n \u0027metrics\u0027: {\u0027probes\u0027: [],\n  \u0027engineConfig\u0027: {\u0027padRunsWithMetrics\u0027: False,\n   \u0027hive\u0027: {\u0027active\u0027: True, \u0027extraConf\u0027: []},\n   \u0027basic\u0027: {},\n   \u0027dss\u0027: {\u0027active\u0027: True,\n    \u0027selection\u0027: {\u0027useMemTable\u0027: False,\n     \u0027filter\u0027: {\u0027distinct\u0027: False, \u0027enabled\u0027: False},\n     \u0027partitionSelectionMethod\u0027: \u0027ALL\u0027,\n     \u0027latestPartitionsN\u0027: 1,\n     \u0027ordering\u0027: {\u0027enabled\u0027: False, \u0027rules\u0027: []},\n     \u0027samplingMethod\u0027: \u0027FULL\u0027,\n     \u0027maxRecords\u0027: -1,\n     \u0027targetRatio\u0027: 0.02,\n     \u0027withinFirstN\u0027: -1,\n     \u0027maxReadUncompressedBytes\u0027: -1}},\n   \u0027sql\u0027: {\u0027active\u0027: True},\n   \u0027impala\u0027: {\u0027active\u0027: True},\n   \u0027spark\u0027: {\u0027active\u0027: True, \u0027extraConf\u0027: []},\n   \u0027python\u0027: {}},\n  \u0027displayedState\u0027: {\u0027columns\u0027: [], \u0027metrics\u0027: []}},\n \u0027metricsChecks\u0027: {\u0027runOnBuild\u0027: False,\n  \u0027checks\u0027: [],\n  \u0027displayedState\u0027: {\u0027checks\u0027: []}},\n \u0027sparkPipelinesEnabled\u0027: False,\n \u0027sqlPipelinesEnabled\u0027: False,\n \u0027versionTag\u0027: {\u0027versionNumber\u0027: 71,\n  \u0027lastModifiedBy\u0027: {\u0027login\u0027: \u0027admin\u0027},\n  \u0027lastModifiedOn\u0027: 1653468971873},\n \u0027creationTag\u0027: {\u0027versionNumber\u0027: 0,\n  \u0027lastModifiedBy\u0027: {\u0027login\u0027: \u0027dataiku-admin\u0027},\n  \u0027lastModifiedOn\u0027: 1609888961017},\n \u0027description\u0027: \"The purpose of this project is to detect fraud in banking transactions made with credit cards. \\n\\nAt our disposal, we have :\\n- a history of bank transactions\\n- a description of the merchants\\n- a description of the credit card holders\\n\\nThe final product can take two different forms: \\n- a dashboard that would be updated daily and feed into analysts\u0027 reports \\n- an API that would predict in real time if a transaction is a fraud\",\n \u0027shortDesc\u0027: \u0027The aim of the project is to predict credit card fraud using past transactions history.\u0027,\n \u0027tags\u0027: [\u0027demo\u0027, \u0027fraud detection\u0027],\n \u0027customFields\u0027: {},\n \u0027checklists\u0027: {\u0027checklists\u0027: [{\u0027title\u0027: \"Your new project\u0027s Todo\",\n    \u0027createdOn\u0027: 0,\n    \u0027items\u0027: [{\u0027done\u0027: False,\n      \u0027text\u0027: \u0027Understand business context and needs\u0027,\n      \u0027createdOn\u0027: 1609888961017,\n      \u0027createdBy\u0027: \u0027dataiku-admin\u0027,\n      \u0027stateChangedOn\u0027: 0},\n     {\u0027done\u0027: False,\n      \u0027text\u0027: \u0027Data collection from the different sources\u0027,\n      \u0027createdOn\u0027: 1609888961017,\n      \u0027createdBy\u0027: \u0027dataiku-admin\u0027,\n      \u0027stateChangedOn\u0027: 0},\n     {\u0027done\u0027: False,\n      \u0027text\u0027: \u0027Data preparation\u0027,\n      \u0027createdOn\u0027: 1609888961017,\n      \u0027createdBy\u0027: \u0027dataiku-admin\u0027,\n      \u0027stateChangedOn\u0027: 0},\n     {\u0027done\u0027: False,\n      \u0027text\u0027: \u0027Machine Learning\u0027,\n      \u0027createdOn\u0027: 1609888961017,\n      \u0027createdBy\u0027: \u0027dataiku-admin\u0027,\n      \u0027stateChangedOn\u0027: 0},\n     {\u0027done\u0027: False,\n      \u0027text\u0027: \u0027Dashboard design\u0027,\n      \u0027createdOn\u0027: 1647443128934,\n      \u0027createdBy\u0027: \u0027admin\u0027,\n      \u0027stateChangedOn\u0027: 0},\n     {\u0027done\u0027: False,\n      \u0027text\u0027: \u0027API creation\u0027,\n      \u0027createdOn\u0027: 1647443156886,\n      \u0027createdBy\u0027: \u0027admin\u0027,\n      \u0027stateChangedOn\u0027: 0},\n     {\u0027done\u0027: False,\n      \u0027text\u0027: \u0027Operationalization / refactoring\u0027,\n      \u0027createdOn\u0027: 1647443179934,\n      \u0027createdBy\u0027: \u0027admin\u0027,\n      \u0027stateChangedOn\u0027: 0}]}]}}"
          },
          "metadata": {}
        }
      ]
    },
    {
      "execution_count": 0,
      "cell_type": "code",
      "metadata": {},
      "source": [
        ""
      ],
      "outputs": []
    }
  ]
}