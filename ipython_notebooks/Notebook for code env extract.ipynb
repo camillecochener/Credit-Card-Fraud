{
  "metadata": {
    "kernelspec": {
      "name": "py-dku-venv-code_env_cc_fraud",
      "display_name": "Python (env code_env_cc_fraud)",
      "language": "python"
    },
    "creator": "admin",
    "createdOn": 1655309908880,
    "tags": [],
    "customFields": {},
    "hide_input": false,
    "language_info": {
      "name": "python",
      "version": "3.6.8",
      "mimetype": "text/x-python",
      "codemirror_mode": {
        "name": "ipython",
        "version": 3
      },
      "pygments_lexer": "ipython3",
      "nbconvert_exporter": "python",
      "file_extension": ".py"
    },
    "modifiedBy": "admin"
  },
  "nbformat": 4,
  "nbformat_minor": 1,
  "cells": [
    {
      "execution_count": 17,
      "cell_type": "code",
      "metadata": {},
      "source": [
        "import dataiku\nfrom dataiku import pandasutils as pdu\nimport pandas as pd"
      ],
      "outputs": []
    },
    {
      "execution_count": 18,
      "cell_type": "code",
      "metadata": {},
      "source": [
        "client \u003d dataiku.api_client()"
      ],
      "outputs": []
    },
    {
      "execution_count": 19,
      "cell_type": "code",
      "metadata": {},
      "source": [
        "project \u003d client.get_project(\"DSPIPELINEFRAUD\")"
      ],
      "outputs": []
    },
    {
      "execution_count": 26,
      "cell_type": "code",
      "metadata": {},
      "source": [
        "project_code_env \u003d project.get_settings().get_raw()[\u0027settings\u0027][\u0027codeEnvs\u0027][\u0027python\u0027][\u0027envName\u0027]"
      ],
      "outputs": []
    },
    {
      "execution_count": 27,
      "cell_type": "code",
      "metadata": {},
      "source": [
        "project_code_env"
      ],
      "outputs": [
        {
          "output_type": "execute_result",
          "execution_count": 27,
          "data": {
            "text/plain": "\u0027code_env_cc_fraud\u0027"
          },
          "metadata": {}
        }
      ]
    },
    {
      "execution_count": 28,
      "cell_type": "code",
      "metadata": {},
      "source": [
        "project_recipes \u003d project.list_recipes()\nproject_python_recipe \u003d [recipe for recipe in project_recipes if recipe[\u0027type\u0027] \u003d\u003d \u0027python\u0027] "
      ],
      "outputs": []
    },
    {
      "execution_count": 29,
      "cell_type": "code",
      "metadata": {},
      "source": [
        "python_recipe_code_env \u003d [code_env[\u0027params\u0027][\u0027envSelection\u0027][\u0027envName\u0027] for python_recipe in project_python_recipe if project_python_recipe[\u0027params\u0027][\u0027envSelection\u0027][\u0027envMode\u0027] \u003d\u003d \u0027EXPLICIT_ENV\u0027]"
      ],
      "outputs": [
        {
          "output_type": "execute_result",
          "execution_count": 29,
          "data": {
            "text/plain": "[{\u0027name\u0027: \u0027compute_to_delete\u0027,\n  \u0027projectKey\u0027: \u0027DSPIPELINEFRAUD\u0027,\n  \u0027type\u0027: \u0027python\u0027,\n  \u0027neverRecomputeExistingPartitions\u0027: False,\n  \u0027optionalDependencies\u0027: False,\n  \u0027params\u0027: {\u0027envSelection\u0027: {\u0027envMode\u0027: \u0027EXPLICIT_ENV\u0027,\n    \u0027envName\u0027: \u0027Python36\u0027},\n   \u0027containerSelection\u0027: {\u0027containerMode\u0027: \u0027INHERIT\u0027},\n   \u0027skipPrerunValidate\u0027: False},\n  \u0027customMeta\u0027: {\u0027kv\u0027: {}},\n  \u0027redispatchPartitioning\u0027: False,\n  \u0027maxRunningActivities\u0027: 0,\n  \u0027variables\u0027: {},\n  \u0027dkuProperties\u0027: [],\n  \u0027inputs\u0027: {\u0027main\u0027: {\u0027items\u0027: [{\u0027ref\u0027: \u0027transactions_reward_value_by_card_id_prepared\u0027,\n      \u0027deps\u0027: []}]}},\n  \u0027outputs\u0027: {\u0027main\u0027: {\u0027items\u0027: [{\u0027ref\u0027: \u0027to_delete\u0027, \u0027appendMode\u0027: False}]}},\n  \u0027labels\u0027: [],\n  \u0027versionTag\u0027: {\u0027versionNumber\u0027: 2,\n   \u0027lastModifiedBy\u0027: {\u0027login\u0027: \u0027admin\u0027},\n   \u0027lastModifiedOn\u0027: 1655310512814},\n  \u0027creationTag\u0027: {\u0027versionNumber\u0027: 0,\n   \u0027lastModifiedBy\u0027: {\u0027login\u0027: \u0027admin\u0027},\n   \u0027lastModifiedOn\u0027: 1655310500210},\n  \u0027tags\u0027: [],\n  \u0027customFields\u0027: {},\n  \u0027checklists\u0027: {\u0027checklists\u0027: []}}]"
          },
          "metadata": {}
        }
      ]
    },
    {
      "execution_count": 0,
      "cell_type": "code",
      "metadata": {},
      "source": [
        "# list_jupyter_notebooks\n# list_recipes\n# list_running_notebooks"
      ],
      "outputs": []
    }
  ]
}