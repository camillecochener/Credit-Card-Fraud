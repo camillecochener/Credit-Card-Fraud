{
  "metadata": {
    "kernelspec": {
      "name": "py-dku-venv-code_env_cc_fraud",
      "display_name": "Python (env code_env_cc_fraud)",
      "language": "python"
    },
    "creator": "admin",
    "createdOn": 1655309908880,
    "tags": [],
    "customFields": {},
    "hide_input": false,
    "language_info": {
      "name": "python",
      "version": "3.6.8",
      "mimetype": "text/x-python",
      "codemirror_mode": {
        "name": "ipython",
        "version": 3
      },
      "pygments_lexer": "ipython3",
      "nbconvert_exporter": "python",
      "file_extension": ".py"
    },
    "modifiedBy": "admin"
  },
  "nbformat": 4,
  "nbformat_minor": 1,
  "cells": [
    {
      "execution_count": 17,
      "cell_type": "code",
      "metadata": {},
      "source": [
        "import dataiku\nfrom dataiku import pandasutils as pdu\nimport pandas as pd"
      ],
      "outputs": []
    },
    {
      "execution_count": 18,
      "cell_type": "code",
      "metadata": {},
      "source": [
        "client \u003d dataiku.api_client()"
      ],
      "outputs": []
    },
    {
      "execution_count": 19,
      "cell_type": "code",
      "metadata": {},
      "source": [
        "project \u003d client.get_project(\"DSPIPELINEFRAUD\")"
      ],
      "outputs": []
    },
    {
      "execution_count": 26,
      "cell_type": "code",
      "metadata": {},
      "source": [
        "project_code_env \u003d project.get_settings().get_raw()[\u0027settings\u0027][\u0027codeEnvs\u0027][\u0027python\u0027][\u0027envName\u0027]"
      ],
      "outputs": []
    },
    {
      "execution_count": 27,
      "cell_type": "code",
      "metadata": {},
      "source": [
        "project_code_env"
      ],
      "outputs": [
        {
          "output_type": "execute_result",
          "execution_count": 27,
          "data": {
            "text/plain": "\u0027code_env_cc_fraud\u0027"
          },
          "metadata": {}
        }
      ]
    },
    {
      "execution_count": 28,
      "cell_type": "code",
      "metadata": {},
      "source": [
        "project_recipes \u003d project.list_recipes()\nproject_python_recipe \u003d [recipe for recipe in project_recipes if recipe[\u0027type\u0027] \u003d\u003d \u0027python\u0027] "
      ],
      "outputs": []
    },
    {
      "execution_count": 36,
      "cell_type": "code",
      "metadata": {},
      "source": [
        "python_recipe_code_env \u003d [python_recipe[\u0027params\u0027][\u0027envSelection\u0027][\u0027envName\u0027] for python_recipe in project_python_recipe if python_recipe[\u0027params\u0027][\u0027envSelection\u0027][\u0027envMode\u0027] \u003d\u003d \u0027EXPLICIT_ENV\u0027]"
      ],
      "outputs": []
    },
    {
      "execution_count": 39,
      "cell_type": "code",
      "metadata": {},
      "source": [
        "code_env \u003d client.get_code_env(\u0027PYTHON\u0027, project_code_env)"
      ],
      "outputs": []
    },
    {
      "execution_count": 43,
      "cell_type": "code",
      "metadata": {},
      "source": [
        "code_env.get_definition()"
      ],
      "outputs": [
        {
          "output_type": "execute_result",
          "execution_count": 43,
          "data": {
            "text/plain": "{\u0027desc\u0027: {\u0027pythonInterpreter\u0027: \u0027PYTHON36\u0027,\n  \u0027installCorePackages\u0027: True,\n  \u0027corePackagesSet\u0027: \u0027PANDAS10\u0027,\n  \u0027installJupyterSupport\u0027: True,\n  \u0027dockerImageResources\u0027: \u0027INIT\u0027,\n  \u0027updateResourcesApiNode\u0027: False,\n  \u0027conda\u0027: False,\n  \u0027creationTag\u0027: {\u0027versionNumber\u0027: 0,\n   \u0027lastModifiedBy\u0027: {\u0027login\u0027: \u0027admin\u0027},\n   \u0027lastModifiedOn\u0027: 1653468844603},\n  \u0027versionTag\u0027: {\u0027versionNumber\u0027: 0,\n   \u0027lastModifiedBy\u0027: {\u0027login\u0027: \u0027admin\u0027},\n   \u0027lastModifiedOn\u0027: 1653468844603},\n  \u0027deploymentMode\u0027: \u0027DESIGN_MANAGED\u0027,\n  \u0027envSettings\u0027: {\u0027inheritGlobalSettings\u0027: True,\n   \u0027condaInstallExtraOptions\u0027: [],\n   \u0027condaCreateExtraOptions\u0027: [],\n   \u0027pipInstallExtraOptions\u0027: [],\n   \u0027virtualenvCreateExtraOptions\u0027: [],\n   \u0027cranMirrorURL\u0027: \u0027https://cloud.r-project.org\u0027},\n  \u0027owner\u0027: \u0027admin\u0027,\n  \u0027usableByAll\u0027: True,\n  \u0027permissions\u0027: [],\n  \u0027allContainerConfs\u0027: False,\n  \u0027containerConfs\u0027: [],\n  \u0027allSparkKubernetesConfs\u0027: False,\n  \u0027sparkKubernetesConfs\u0027: []},\n \u0027info\u0027: {},\n \u0027resourcesInitScript\u0027: \u0027\u0027,\n \u0027deploymentMode\u0027: \u0027DESIGN_MANAGED\u0027,\n \u0027owner\u0027: \u0027admin\u0027,\n \u0027usableByAll\u0027: True,\n \u0027envLang\u0027: \u0027PYTHON\u0027,\n \u0027envName\u0027: \u0027code_env_cc_fraud\u0027,\n \u0027path\u0027: \u0027/Users/camillecochener/Library/DataikuV10/dss_design/code-envs/python/code_env_cc_fraud\u0027,\n \u0027kernelSpecName\u0027: \u0027py-dku-venv-code_env_cc_fraud\u0027,\n \u0027unknownKernelSpecStatus\u0027: False,\n \u0027canUpdateCodeEnv\u0027: True,\n \u0027canManageUsersCodeEnv\u0027: True,\n \u0027permissions\u0027: [],\n \u0027mandatoryPackageList\u0027: \u0027\\npandas\u003e\u003d1.0,\u003c1.1\\npython-dateutil\u003d\u003d2.8.1\\npytz\u003d\u003d2020.5\\nrequests\u003c3\\n\\ndecorator\u003d\u003d4.4.2\\nipykernel\u003d\u003d4.8.2\\nipython_genutils\u003d\u003d0.2.0\\njupyter_client\u003d\u003d5.2.4\\njupyter_core\u003d\u003d4.4.0\\npexpect\u003d\u003d4.8.0\\npickleshare\u003d\u003d0.7.5\\nptyprocess\u003d\u003d0.7.0\\npyzmq\u003d\u003d18.0.2\\nsimplegeneric\u003d\u003d0.8.1\\ntornado\u003d\u003d5.1.1\\ntraitlets\u003d\u003d4.3.3\\n\u0027,\n \u0027mandatoryCondaEnvironment\u0027: \u0027\u0027,\n \u0027specPackageList\u0027: \u0027\u0027,\n \u0027specCondaEnvironment\u0027: \u0027\u0027,\n \u0027actualPackageList\u0027: \u0027appnope\u003d\u003d0.1.3\\nbackcall\u003d\u003d0.2.0\\ncertifi\u003d\u003d2022.5.18.1\\ncharset-normalizer\u003d\u003d2.0.12\\ndecorator\u003d\u003d4.4.2\\nidna\u003d\u003d3.3\\nipykernel\u003d\u003d4.8.2\\nipython\u003d\u003d7.16.3\\nipython-genutils\u003d\u003d0.2.0\\njedi\u003d\u003d0.17.2\\njupyter-client\u003d\u003d5.2.4\\njupyter-core\u003d\u003d4.4.0\\nnumpy\u003d\u003d1.19.5\\npandas\u003d\u003d1.0.5\\nparso\u003d\u003d0.7.1\\npexpect\u003d\u003d4.8.0\\npickleshare\u003d\u003d0.7.5\\nprompt-toolkit\u003d\u003d3.0.29\\nptyprocess\u003d\u003d0.7.0\\nPygments\u003d\u003d2.12.0\\npython-dateutil\u003d\u003d2.8.1\\npytz\u003d\u003d2020.5\\npyzmq\u003d\u003d18.0.2\\nrequests\u003d\u003d2.27.1\\nsimplegeneric\u003d\u003d0.8.1\\nsix\u003d\u003d1.16.0\\ntornado\u003d\u003d5.1.1\\ntraitlets\u003d\u003d4.3.3\\nurllib3\u003d\u003d1.26.9\\nwcwidth\u003d\u003d0.2.5\\n\u0027,\n \u0027actualCondaEnvironment\u0027: \u0027\u0027,\n \u0027allContainerConfs\u0027: False,\n \u0027containerConfs\u0027: [],\n \u0027allSparkKubernetesConfs\u0027: False,\n \u0027sparkKubernetesConfs\u0027: []}"
          },
          "metadata": {}
        }
      ]
    },
    {
      "execution_count": 0,
      "cell_type": "code",
      "metadata": {},
      "source": [
        "# list_jupyter_notebooks\n# list_recipes\n# list_running_notebooks"
      ],
      "outputs": []
    }
  ]
}